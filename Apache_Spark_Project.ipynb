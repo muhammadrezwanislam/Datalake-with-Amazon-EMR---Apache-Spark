{
  "nbformat": 4,
  "nbformat_minor": 0,
  "metadata": {
    "colab": {
      "name": "Apache Spark Project.ipynb",
      "provenance": [],
      "collapsed_sections": []
    },
    "kernelspec": {
      "name": "python3",
      "display_name": "Python 3"
    },
    "language_info": {
      "name": "python"
    }
  },
  "cells": [
    {
      "cell_type": "code",
      "metadata": {
        "colab": {
          "base_uri": "https://localhost:8080/"
        },
        "id": "adZ_gFoRjl4P",
        "outputId": "88d2b1a6-23b7-4edd-9cc1-e0814be4c3c6"
      },
      "source": [
        "#download java \n",
        "!apt-get install openjdk-8-jdk-headless -qq > /dev/null\n",
        "# download Apache Spark 3.0.2 with Hadoop 2.7 #check this link to download the latest spark version: https://www-us.apache.org/dist/spark/\n",
        "#Note – At the time of writing this article, 3.0.2 was the latest version of Apache Spark. But Spark is developing quite rapidly. So, if there is a newer version of Spark when you are executing this code, then you just need to replace 3.0.2, wherever you see it, with the latest version.\n",
        "!wget -q https://www-us.apache.org/dist/spark/spark-3.0.2/spark-3.0.2-bin-hadoop2.7.tgz\n",
        "#check the content \n",
        "!ls"
      ],
      "execution_count": null,
      "outputs": [
        {
          "output_type": "stream",
          "text": [
            "sample_data  spark-3.0.2-bin-hadoop2.7.tgz\n"
          ],
          "name": "stdout"
        }
      ]
    },
    {
      "cell_type": "code",
      "metadata": {
        "id": "Bc-fWZbljs6O"
      },
      "source": [
        "#unzip the folder \n",
        "!tar xf spark-3.0.2-bin-hadoop2.7.tgz\n",
        "# install pyspark library.  It will locate Spark on the system and import it as a regular library.\n",
        "!pip install -q findspark\n",
        "#set the environment path\n",
        "import os\n",
        "os.environ[\"JAVA_HOME\"] = \"/usr/lib/jvm/java-8-openjdk-amd64\"\n",
        "os.environ[\"SPARK_HOME\"] = \"/content/spark-3.0.2-bin-hadoop2.7\"\n",
        "# locate Spark in the system\n",
        "import findspark\n",
        "findspark.init()"
      ],
      "execution_count": null,
      "outputs": []
    },
    {
      "cell_type": "code",
      "metadata": {
        "colab": {
          "base_uri": "https://localhost:8080/",
          "height": 35
        },
        "id": "0hfvpcdhj1JB",
        "outputId": "93fa411a-178e-4bc5-f169-a295f1503057"
      },
      "source": [
        "#location of the install spark file\n",
        "findspark.find()"
      ],
      "execution_count": null,
      "outputs": [
        {
          "output_type": "execute_result",
          "data": {
            "application/vnd.google.colaboratory.intrinsic+json": {
              "type": "string"
            },
            "text/plain": [
              "'/content/spark-3.0.2-bin-hadoop2.7'"
            ]
          },
          "metadata": {
            "tags": []
          },
          "execution_count": 3
        }
      ]
    },
    {
      "cell_type": "code",
      "metadata": {
        "id": "28kVOi-Uj49i"
      },
      "source": [
        "#create a spark session \n",
        "from pyspark.sql import SparkSession\n",
        "\n",
        "spark = SparkSession.builder\\\n",
        "        .master(\"local\")\\\n",
        "        .appName(\"Colab\")\\\n",
        "        .config('spark.ui.port', '4050')\\\n",
        "        .getOrCreate()"
      ],
      "execution_count": null,
      "outputs": []
    },
    {
      "cell_type": "code",
      "metadata": {
        "colab": {
          "base_uri": "https://localhost:8080/",
          "height": 219
        },
        "id": "B5372ficj74x",
        "outputId": "bd92724e-4bf1-46cc-ed80-afc1191c188a"
      },
      "source": [
        "#print the spark session variable \n",
        "spark"
      ],
      "execution_count": null,
      "outputs": [
        {
          "output_type": "execute_result",
          "data": {
            "text/html": [
              "\n",
              "            <div>\n",
              "                <p><b>SparkSession - in-memory</b></p>\n",
              "                \n",
              "        <div>\n",
              "            <p><b>SparkContext</b></p>\n",
              "\n",
              "            <p><a href=\"http://d44358afa59f:4050\">Spark UI</a></p>\n",
              "\n",
              "            <dl>\n",
              "              <dt>Version</dt>\n",
              "                <dd><code>v3.0.2</code></dd>\n",
              "              <dt>Master</dt>\n",
              "                <dd><code>local</code></dd>\n",
              "              <dt>AppName</dt>\n",
              "                <dd><code>Colab</code></dd>\n",
              "            </dl>\n",
              "        </div>\n",
              "        \n",
              "            </div>\n",
              "        "
            ],
            "text/plain": [
              "<pyspark.sql.session.SparkSession at 0x7fa264c58310>"
            ]
          },
          "metadata": {
            "tags": []
          },
          "execution_count": 5
        }
      ]
    },
    {
      "cell_type": "code",
      "metadata": {
        "colab": {
          "base_uri": "https://localhost:8080/"
        },
        "id": "otyMKehTj_gm",
        "outputId": "d171efb4-0d12-410f-b918-219c5274b4f5"
      },
      "source": [
        "#create a public URL for the UI page.\n",
        "#ngrok allows you to expose a web server running on your local machine to the internet. \n",
        "!wget https://bin.equinox.io/c/4VmDzA7iaHb/ngrok-stable-linux-amd64.zip"
      ],
      "execution_count": null,
      "outputs": [
        {
          "output_type": "stream",
          "text": [
            "--2021-05-10 19:27:02--  https://bin.equinox.io/c/4VmDzA7iaHb/ngrok-stable-linux-amd64.zip\n",
            "Resolving bin.equinox.io (bin.equinox.io)... 54.80.88.238, 3.229.59.32, 52.202.162.45, ...\n",
            "Connecting to bin.equinox.io (bin.equinox.io)|54.80.88.238|:443... connected.\n",
            "HTTP request sent, awaiting response... 200 OK\n",
            "Length: 13832437 (13M) [application/octet-stream]\n",
            "Saving to: ‘ngrok-stable-linux-amd64.zip’\n",
            "\n",
            "ngrok-stable-linux- 100%[===================>]  13.19M  16.4MB/s    in 0.8s    \n",
            "\n",
            "2021-05-10 19:27:03 (16.4 MB/s) - ‘ngrok-stable-linux-amd64.zip’ saved [13832437/13832437]\n",
            "\n"
          ],
          "name": "stdout"
        }
      ]
    },
    {
      "cell_type": "code",
      "metadata": {
        "colab": {
          "base_uri": "https://localhost:8080/"
        },
        "id": "IZSo8oSekFF8",
        "outputId": "34163831-0544-4b61-eb06-eef9e9e05a55"
      },
      "source": [
        "#list files in the directory \n",
        "!ls"
      ],
      "execution_count": null,
      "outputs": [
        {
          "output_type": "stream",
          "text": [
            "ngrok-stable-linux-amd64.zip  spark-3.0.2-bin-hadoop2.7\n",
            "sample_data\t\t      spark-3.0.2-bin-hadoop2.7.tgz\n"
          ],
          "name": "stdout"
        }
      ]
    },
    {
      "cell_type": "code",
      "metadata": {
        "colab": {
          "base_uri": "https://localhost:8080/"
        },
        "id": "lroSMb6ekHqD",
        "outputId": "b9584401-ff65-4915-cf0f-140220349805"
      },
      "source": [
        "#unzip web server \n",
        "!unzip ngrok-stable-linux-amd64.zip"
      ],
      "execution_count": null,
      "outputs": [
        {
          "output_type": "stream",
          "text": [
            "Archive:  ngrok-stable-linux-amd64.zip\n",
            "  inflating: ngrok                   \n"
          ],
          "name": "stdout"
        }
      ]
    },
    {
      "cell_type": "code",
      "metadata": {
        "id": "AaUQ1zZPkJU3"
      },
      "source": [
        "get_ipython().system_raw('./ngrok http 4050 &')"
      ],
      "execution_count": null,
      "outputs": []
    },
    {
      "cell_type": "code",
      "metadata": {
        "colab": {
          "base_uri": "https://localhost:8080/"
        },
        "id": "lvDAIIzzkNDN",
        "outputId": "15343182-6600-44bb-d277-1a1b5f8645ce"
      },
      "source": [
        "!curl -s http://localhost:4040/api/tunnels"
      ],
      "execution_count": null,
      "outputs": [
        {
          "output_type": "stream",
          "text": [
            "{\"tunnels\":[],\"uri\":\"/api/tunnels\"}\n"
          ],
          "name": "stdout"
        }
      ]
    },
    {
      "cell_type": "code",
      "metadata": {
        "colab": {
          "base_uri": "https://localhost:8080/"
        },
        "id": "3ek30TSGkPAm",
        "outputId": "02ccb69c-cd81-4509-f300-9ee0c6f726bc"
      },
      "source": [
        "#spark installation test\n",
        "df = spark.createDataFrame([{\"hello\": \"world\"} for x in range(1000)])\n",
        "df.show(3, False)"
      ],
      "execution_count": null,
      "outputs": [
        {
          "output_type": "stream",
          "text": [
            "/content/spark-3.0.2-bin-hadoop2.7/python/pyspark/sql/session.py:381: UserWarning: inferring schema from dict is deprecated,please use pyspark.sql.Row instead\n",
            "  warnings.warn(\"inferring schema from dict is deprecated,\"\n"
          ],
          "name": "stderr"
        },
        {
          "output_type": "stream",
          "text": [
            "+-----+\n",
            "|hello|\n",
            "+-----+\n",
            "|world|\n",
            "|world|\n",
            "|world|\n",
            "+-----+\n",
            "only showing top 3 rows\n",
            "\n"
          ],
          "name": "stdout"
        }
      ]
    },
    {
      "cell_type": "code",
      "metadata": {
        "colab": {
          "base_uri": "https://localhost:8080/"
        },
        "id": "vGH6PHDykQ6L",
        "outputId": "a2e066be-fdd2-45a1-fd79-dbe7325ffdb9"
      },
      "source": [
        "\n",
        "# Check the pyspark version\n",
        "import pyspark\n",
        "print(pyspark.__version__)"
      ],
      "execution_count": null,
      "outputs": [
        {
          "output_type": "stream",
          "text": [
            "3.0.2\n"
          ],
          "name": "stdout"
        }
      ]
    },
    {
      "cell_type": "code",
      "metadata": {
        "colab": {
          "resources": {
            "http://localhost:8080/nbextensions/google.colab/files.js": {
              "data": "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",
              "ok": true,
              "headers": [
                [
                  "content-type",
                  "application/javascript"
                ]
              ],
              "status": 200,
              "status_text": ""
            }
          },
          "base_uri": "https://localhost:8080/",
          "height": 111
        },
        "id": "D_zK3LuTkVnO",
        "outputId": "52416151-06b8-4d02-8640-9280010ad49b"
      },
      "source": [
        "#upload song data from local drive \n",
        "from google.colab import files\n",
        "files.upload()"
      ],
      "execution_count": null,
      "outputs": [
        {
          "output_type": "display_data",
          "data": {
            "text/html": [
              "\n",
              "     <input type=\"file\" id=\"files-30bed146-0ef2-45b0-9740-92f0e63c7377\" name=\"files[]\" multiple disabled\n",
              "        style=\"border:none\" />\n",
              "     <output id=\"result-30bed146-0ef2-45b0-9740-92f0e63c7377\">\n",
              "      Upload widget is only available when the cell has been executed in the\n",
              "      current browser session. Please rerun this cell to enable.\n",
              "      </output>\n",
              "      <script src=\"/nbextensions/google.colab/files.js\"></script> "
            ],
            "text/plain": [
              "<IPython.core.display.HTML object>"
            ]
          },
          "metadata": {
            "tags": []
          }
        },
        {
          "output_type": "stream",
          "text": [
            "Saving song-data.zip to song-data.zip\n"
          ],
          "name": "stdout"
        },
        {
          "output_type": "execute_result",
          "data": {
            "text/plain": [
              "{'song-data.zip': b'PK\\x03\\x04\\x14\\x00\\x00\\x00\\x00\\x00\\xb8u<N\\x00\\x00\\x00\\x00\\x00\\x00\\x00\\x00\\x00\\x00\\x00\\x00\\n\\x00\\x00\\x00song_data/PK\\x03\\x04\\x14\\x00\\x00\\x00\\x08\\x00A\\x828N\\x98\\x85\\x17/\\xb1\\x01\\x00\\x00\\x04\\x18\\x00\\x00\\x13\\x00\\x00\\x00song_data/.DS_Store\\xed\\x98MN\\xc2@\\x14\\x80\\xa7\\xb5\\xea4\\x92X\\x13\\x17\\x9a\\xb8h\\xe2\\xc2\\r\\x0b\\x10\\x85mE\\xd8\\x99h,\\x91\\x05*\\xb4\\xb4\\x81\\x9a\\xd2!\\xa5\\xc0\\x82\\x90\\xe0\\x05<\\x80\\xba\\xf5\\xe7\\x1ez\\x08\\xae\\xe0\\x01\\xdc\\xdbv\\x9e\\x11\\x85\\xb8U\\xe3\\xfb\\x9a\\xe6{\\xf3\\xdaN\\xdaN\\xd2y\\x1dB\\x88\\x90\\xefZiB\\x940\\xa4\\x84[\\x94\\xc9L(\\xdf\\xa7\\x11\\xc1\\x0bQ\\x7fQ\\x1f\\xcc\\x0c\\xa3W\\xb3\\xed:\\x9d\\x80 \\x7f\\x01>v{f\\xbf\\xd36\\xdd\\xc9\\xf1K\\xa5\\xc6\\x828\\'\\xcd/,RY^J\\xc8\\x89\\xe5\\xc4\\x99\\xded}=0\\x82n\\'o\\xf8\\x95\\xa8ud\\x04M\\xd3\\xf0\\xab\\xca\\x86\\xeeXv\\x18\\x95\\x1d+h\\x96l\\xaf\\xe8\\xda=\\xdb;\\xf4\\x0f\\x8c\\xc0\\xe6\\xa7\\x96\\x18s\\xc3\\x13xl\\x98\\'\\x8e\\xdd\\xaf*\\xab\\xfb\\xcc\\x0b\\x0c\\xc7\\xb3\\xfd(\\r}\\x9c\\x96\\x1d\\xcfb\\xfd<\\xebzV\\xa72q\\x80\\xd2M\\xad^\\x8b\\xef[\\xa6rUY\\x1b\\x0c\\xb2\\xe9\\xed\\xa4\\xba\\x9d\\xd9\\x1d&\\xd5A.\\x97J\\xaa;\\x99\\xecp(\\xd3\\xf5\\xad\\xcc\\xf1\\xf9\\xc5\\xe5\\xd5\\xf5\\xcd\\xed\\xdd\\xfd\\xc3\\xe3\\x13\\x7fZA\\x80\\xc7^\\xf9\\xf2\\x1a\\x9e\\xf9kp\\x1bi\\xbd\\xceZ\\xed\\xf74\\xcf\\xb6X\\xa1`u\\x83:!c\\xf6\"\\x7fd\\xad\\x19\\xd9vsV\\x0f=\\xdd\\xf7\\\\\\xe65\\xe2\\x16\\x82 \\xc8\\x8f#\\xc0\\xfc\\xbeD\\x10\\x04A\\xa6\\xbf\\x0f*X\\x03\\x8f\\xb8\\x058.\\x82\\xa5\\x89k\\x14\\xb0\\n\\xd6\\xc0\\xa3\\xd8\\xe1\\xc6-\\x82%0\\x05+`\\x15\\xac\\x81G\\x9f*8A\\x04K`\\nV\\xc0*X#\\x08\\x82\\xcc`\\x8eK\\x89\\xe6\\xffb\\xfc\\xff\\x8f \\xc8\\x7fC\\x90\\nz!\\xff\\xcd\\xda\\x84\\x08\\x85@-nM\\x17\\x02\\x93E\\x80\\xc8\\x17\\x0b\\xd7\\xa2\\x18\\x0b\\x01\\x04\\xf9\\x9d\\xbc\\x01PK\\x03\\x04\\x14\\x00\\x00\\x00\\x00\\x00\\xb9u<N\\x00\\x00\\x00\\x00\\x00\\x00\\x00\\x00\\x00\\x00\\x00\\x00\\x0c\\x00\\x00\\x00song_data/A/PK\\x03\\x04\\x14\\x00\\x00\\x00\\x08\\x00A\\x828N\\xf5e\\xe6\\xf4\\x94\\x01\\x00\\x00\\x04\\x18\\x00\\x00\\x15\\x00\\x00\\x00song_data/A/.DS_Store\\xed\\x98\\xcdN\\x83@\\x10\\x80\\x17\\x8a\\xbaM\\xd3\\xc8\\xc1\\xc4\\x1e\\xb9x\\xeb\\xa1?\\xda\\x9eL*\\xad\\x07o&\\x18=\\xa8i\\xa14-\\te\\x9b\\x02\\x12EL_C\\xdf\\xc8\\'\\xd0W\\xf0-\\x04v\\xb4\\xd4\\x12O\\x1e4\\xceG\\xc87;\\xc0N6$0@\\x08\\x11T\\xdf\\xac\\x13\"\\xc7!%\\xdcb\\x91\\xe4B\\xf9\\xbe\\x8e\\x08.%\\xf3%s0#\\x8e\\x9e\\x8d\\x99m\\xb9\\x1eA\\xfe\\x02\\xfc\\xde\\x1d\\x19\\x81;3\\xec\\xec\\xfd\\xab\\xd5^\\x04\\xb1 mln\\xd1b\\x91\\x16\\xcb\\xf4Z\\x9b\\xb0@\\xf3t\\xcfwU}~\\x99\\x8e,sd@|\\xc6\\x98\\xfd\\x19\\xeb\\xc6\\xb95\\n\\xfa\\xf2N\\x979\\x9en9\\xa3y\\xe6\\xf4\\xab\\x0b\\xcb1Y\\xa02\\xdf1\\xdd\\xf4\\xfcS\\xdd\\x9b\\xc4\\x07\\xd2B}\\xb9\\x12\\x86\\xadz\\xa3\\xaa4\\x9a\\x07QU\\t\\xdb\\xedZU\\xd9o\\xb6\\xa2\\x88\\xd2\\xdd\\xbd\\xfa\\xe1\\xc9`z{\\x17\\xdeG\\x0f\\x8f|\\x05\\x82\\x00K\\xd9\\xfe\\xb2\\xb4\\'\\xbe4{\\\\\\xd7\\x86l:\\xfbH\\xf3\\xec\\x94\\xf5z\\xa6\\xef\\r\\tyeo\\xe5e\\xd6\\xcc\\xc9\\xce&y3\\xdchs\\xc7f\\xce8\\x19\\xa5\\xbb\\x9a[I]\\xa9\\xd4]f\\xcd\\x9cln%u\\xa5\\x12\\x82 \\xc8\\x0f \\xc0\\xfb\\xbdD\\x10\\x04A\\xd6\\x9f\\x0f\\n\\xb8\\x03^p\\x0bp\\\\\\x04K\\x99kd\\xb0\\x02\\xee\\x80\\x17\\xa9\\xe3\\x8d[\\x04K`\\n\\x96\\xc1\\n\\xb8\\x03^\\xact{\\x82\\x08\\x96\\xc0\\x14,\\x83\\x15p\\x87 \\x08\\x92C\\x81KN\\xde\\xff\\xc7\\xe9\\xf7?\\x82 \\xff\\rA\\xeai=\\xf5\\x9b\\xbf\\x0b\"4\\x02\\x83t\\xb4\\xde\\x08d\\x9b\\x00\\x91\\xff,\\xac$16\\x02\\x08\\xf2;y\\x07PK\\x03\\x04\\x14\\x00\\x00\\x00\\x00\\x00\\xb8u<N\\x00\\x00\\x00\\x00\\x00\\x00\\x00\\x00\\x00\\x00\\x00\\x00\\x0e\\x00\\x00\\x00song_data/A/A/PK\\x03\\x04\\x14\\x00\\x00\\x00\\x08\\x00A\\x828N\\x9f\\xa6gy\\xa2\\x01\\x00\\x00\\x04\\x18\\x00\\x00\\x17\\x00\\x00\\x00song_data/A/A/.DS_Store\\xed\\x97MN\\x83@\\x14\\x80\\x07D\\x9dj\\x8c\\x98\\x98Xwl\\xdcu\\xd1\\x1fm7\\x9aTZ\\x17\\xeeL0\\xbaP\\xd3BiZ\\x12\\xca4-\\xb5\\xd1\\x8a\\xe95\\xf4F\\x9e@\\xaf\\xe0-\\x04\\xe6)\\xc5\\x8e\\xae\\x1b}\\x1f\\x81\\xef\\xcdc\\xe0eB`\\x06B\\x88\\xa4\\x8f\\xec\\x02!j\\x18R\\xc2\\xad\\xac\\x11!\\x94\\xef\\xf3\\xc8\\xd1\\x01.\\x96\"1+\\x8c^\\xac\\xbe\\xeb\\x0c}\\x82 \\xc8\\xa2\\xc3\\xdf\\xddck<\\xec[\\xee\\xec\\xfb\\x9b\\xcf\\xbfJ\\xf2\\x92\\xb2\\xbc\\xb2J3\\x19\\x9a\\xd9\\xa07F\\x97\\x8d\\r\\xdf\\xf4GC\\xdd\\x1c\\\\\\xc5-\\xc7n[\\x10\\x9f3\\xe6~\\xc5\\xa6u\\xe1\\xb4\\xc7\\ru\\xbb\\xc6<\\xdft\\xbc\\xf6`\\xa6\\xfb\\xf5\\xa5\\xe3\\xd9l\\xac\\xb3\\x91g\\x0f\\xe3\\xfeg\\xa6\\xdf\\rO\\xc4\\x85\\x1ajv2)\\x17\\x8a9\\xadX:\\x08r\\xda\\xa4R\\xc9\\xe7\\xb4\\xfdR9\\x08(\\xdd\\xd9+\\x1c\\x9d6{w\\xf7\\x93\\x87\\xe0\\xf1\\x89\\x8f@\\x92`(\\x9b\\xdf\\x86\\xf6\\xcc\\x87\\xe6v\\nF\\x8b\\xf5\\xfa\\x9fi\\x9e\\xed\\xb1z\\xdd\\x1e\\xf9-B\\xde\\xd8\\xfbV\\x92\\xb5\\x05\\xd9~Wt\\x87[c\\xe0\\xb9\\xcc\\xebD\\xadx\\xd7\\x85\\x95\\xf4T\\xa5\\xdd$k\\x0b\\xb2\\xc2J\\xfa\\\\\\xa5\\x9a\\xb0R-U\\xe90\\xc9\\xda\\x82\\xac\\xb0R-U\\t\\xf9\\xe3\\xc0#\\xa6\\xeb\\x04A\\x10d\\xfe\\xfb\\xa0\\x81\\xab\\xe0)\\xb7\\x04\\xe7e\\xb02s\\x8d\\n\\xd6\\xc0U\\xf04v\\xb8q\\xcb`\\x05L\\xc1*X\\x03W\\xc1\\xd3\\xd4l/\\xc9`\\x05L\\xc1*X\\x03W\\t\\x82 \\x02\\x96\\xb8\\xd4h\\xfe?\\x89\\xff\\xff\\x11\\x04\\xf9oHJ\\xdd\\xa8\\xeb\\xbf\\xfc\\xf3\\xc9\\xb0\\x10hF\\x8d\\x1f\\x16\\x02I\\xdfx&\\xcfF1.\\x04\\x10d1\\xf9\\x00PK\\x03\\x04\\x14\\x00\\x00\\x00\\x00\\x00\\xb8u<N\\x00\\x00\\x00\\x00\\x00\\x00\\x00\\x00\\x00\\x00\\x00\\x00\\x10\\x00\\x00\\x00song_data/A/A/A/PK\\x03\\x04\\x14\\x00\\x00\\x00\\x08\\x00A\\x828N\\xecs\\x8a\\xdc\\xb0\\x00\\x00\\x00\\x05\\x01\\x00\\x00\\'\\x00\\x00\\x00song_data/A/A/A/TRAAAAW128F429D538.jsonu\\x8e\\xcb\\n\\xc20\\x14D\\x7f%d\\xe3F\\xa5i\\x856\\xee\\xdaTE\\xb0\\x08Z\\x14\\xdc\\x94`\\xa2\\x04\\xd2\\x04\\xf2X\\x88\\xf8\\xef&>\\xb0\\x1b\\x97w\\xe6\\xcc\\xdc\\xb9C\\xe5\\xfb\\xceju\\xb5p\\x0e\\xd0\\x18@j\\x9c\\xb0\\xae\\x13,\\xdc\\xb0\\xdc\\xd5y{X T\\xe4\\x15\\xc6\\xd5\\xb2B\\xf0\\x87H\\xea\\x84\\xf3\\x8c\\x07Py)\\x07F\\xa8\\xfb\\xe7\\x9cCH\\xab\\xd8M\\xa8\\x14\\x17m\\x94\\xa0`\\x026\\xe5\\xa0X\\xd1\\x9e\\xbf\\t\\xeb\\xa9\\x8cF\\x1c\\xf8\\x99\\xb4\\xdf6\\xa7#Y\\xa1\\xb4,\\x08\\xca\\xc8\\xacH\"\\x10\\x96\\xc8Wf\\rj\\xc1\\xd4\\xc8\\x81\\x86S\\x05Z\\x1dM\\xe6\\xcd\\xf7k\\x8a\\x8a)\\xceP\\x8e\\x83|\\xe3\\xd4\\x04)y<\\x01PK\\x03\\x04\\x14\\x00\\x00\\x00\\x08\\x00A\\x828N\\xa6\\t{0\\xb9\\x00\\x00\\x00\\x0c\\x01\\x00\\x00\\'\\x00\\x00\\x00song_data/A/A/A/TRAAABD128F429CF47.jsonM\\x8f_\\x0b\\x820\\x14\\xc5\\xbf\\xca\\xd8s\\x89\\xd3i[o\\xfe\\xc1\\xfe\\x80\\x05%\\xf8(\\x92#\\x05\\xdd\\xc4mPD\\xdf\\xbd-\\x92|\\xbc\\xe7w\\xee=\\xe7\\xbe \\xd7C%\\x05\\xbfK\\xb8\\x05h\\x05`=\\xa9N\\xaa\\xaak\\xcc\\x0c\\xa3K~\\x8cv{\\x84\\xc8&\\x8b\\x03\\x1cf>\\xfc[\\xfaZuJ7\\xcc\\x18\\xfd\\xc0A\\x98\\x86d\\x01\\xcd\\xc9\\x99\\xae\\xa9\\xeb\\xb8\\x98Po\\x89of[p\\x1b\\x92\\xb3al;\\xb9\\x02\\xc5iq\\x9d\\xd7\\x03\\xb3\\xb4h\\x19\\x88\\xc5\\x03\\x14b\\x94\\x16\\xdb\\xae\\xbfv\\xd7sr(\\xd3\\x12y\\x11I\\x90\\x9fb7\\xb4\\x06S\\xaag_,t\\x0fR\\xc6F\\xab6z\\x9a\\x03\\x11&\\x8e\\xeb\\x9bo\\x8c\\xfcd\\xf5d%\\x1a\\xd2\\xf7\\x07PK\\x03\\x04\\x14\\x00\\x00\\x00\\x08\\x00A\\x828N\\x90\\xeb\\xd8\\xf8\\xa9\\x00\\x00\\x00\\xff\\x00\\x00\\x00\\'\\x00\\x00\\x00song_data/A/A/A/TRAAADZ128F9348C2E.jsonu\\x8e\\xcd\\n\\xc20\\x10\\x84_%\\xe4,\\xd2\\x94\\xd6\\xb4\\xdeR\\x8b\\x07\\x15\\n\\xad\\x88\\xb7\\xb2\\xda \\x85t\\x03\\xf99\\x88\\xf8\\xee&\\xa2\\xd8\\x8b\\xc7\\x9d\\xf9fv\\x1e\\x14\\xfd\\xd4[\\x8d7K\\xd7\\x84-\\x08\\x05\\xe3F\\xeb\\xfaq\\x087\\x15\\xed\\xbem\\x8f[\\xc6\\n^\\x95e\\x91\\xd5\\x82\\xfe\\x10\\x05nt~\\x90\\x01D\\xaf\\xd4\\xcc\\x08u\\xff\\x9ck\\x08i\\x8c\\xdd\\xb3&\\x84IF\\xa9\\xd3\\xa8\\r\\x90\\x0e\\xd0\\x01J\\x03\\x11\\x89\\xdb>k\\xba\\xe6|:4;\\x96\\x8a*aE\\x99\\xb2<\\x02a\\x84z\\xa7\\xc5\\xa4\\r\\xa9%\\xd9\\xc0\\x05\\x8ct\\xd1\\x1b\\xbc\\xf9\\xfec\\x9c/3\\x9eg\\xab \\xdf%\\x98 %\\xcf\\x17PK\\x03\\x04\\x14\\x00\\x00\\x00\\x08\\x00A\\x828N\\x80I\\xe3\\x13\\xb0\\x00\\x00\\x00\\t\\x01\\x00\\x00\\'\\x00\\x00\\x00song_data/A/A/A/TRAAAEF128F4273421.jsonu\\x8f\\xcd\\n\\xc20\\x10\\x84_%\\xe4\\\\\\xc44\\xb5?\\xdej\\xa9U\\x10\\x0b\\xda{\\t&\\xd4@\\xba\\x81&9\\x88\\xf8\\xee&E\\xb1\\x17\\x8f\\xbb\\xdf\\xec\\xcc\\xec\\x13\\x83\\x1b{\\xa3a0x\\x8bH\\x840\\x9b\\xac4\\xb6\\x97\\xdc\\xcf\\xb8\\xbcd\\xcd\\xe6\\x98\\x10\\x92g\\xfb]R\\xd5i\\x85\\x7f\\x12\\xc5\\xac\\xb4\\x8e\\x0b/\\x04\\xa7\\xd4\\x02x\\xbb\\x7f\\xe4\\xe6\\x8f4\\x04\\xef\\x93\\x06\\xae!B5\\x0c\\x8a\\x01_\\x18\\x03\\x1b\\xc5\\x9c\\xce\\xd9\\x88J\\xb0\\x01\\x85\\x8a\\x9fR\\xd7\\xf6|h\\xbb\\x8e\\xc4e^\\x11\\x9a\\x14t.\\xe5\\xbb(1c=\\n{\\x970\\xa0FN\\xca\\x04\\xc6\\xdd\\xf4\\x8d\\x8d)]%k\\x9aR\\xbf~\\x086\\x85\\xaf\\x8b<~\\xbd\\x01PK\\x03\\x04\\x14\\x00\\x00\\x00\\x08\\x00A\\x828N\\x83\\x8b\\xea9\\xa1\\x00\\x00\\x00\\xf4\\x00\\x00\\x00\\'\\x00\\x00\\x00song_data/A/A/A/TRAAAFD128F92F423A.jsonu\\x8e=\\x0b\\xc20\\x18\\x84\\xffJ\\xc8,\\x92\\xb4\\xf6\\xcb\\xad\\xad\\xc4\\xcdB\\xbb\\xb8\\x95\\xd8\\x04\\x1bH\\x13\\xc8\\xc7 \\xe2\\x7f7)\\x8a]\\x1c\\xdf\\xe7\\xee\\xbd\\xbb\\'T~\\x19\\xadVw\\x0b\\x8f\\x00\\xef\\x00\\xa4\\xc6\\t\\xebF\\xc1\\xc2\\r\\xeb\\xfe\\xda\\xa7I\\x83qY\\x90&+PU\\xc1\\x9fER\\'\\x9cg<\\x18\\x95\\x97r#\\x84\\xb8\\x7f\\xca\\x14\\x9e\\xb4\\x8a\\xd9\\x9b$E\\x17\\x1e\\xd1Y\\xdf\"\\x8ds>\\x03\\x86\\x8e\\x0c]{\\xc1I]\\xb6\\xf8\\x90\\x92\\xec\\x14\\r\\xa1W\\xae\\x0f\\x84N\\x1c\\xb8\\x99\\x83\\xda\\xce\\xdcF\\x89y\\xf3mHP\\xb5\\xcfQ\\x8e\\xca\\x80\\x1f\\x9c\\x9a\\x15\\xa1\\xe2\\xf5\\x06PK\\x03\\x04\\x14\\x00\\x00\\x00\\x08\\x00A\\x828NBG\\xce\\xde\\xc2\\x00\\x00\\x00\\x1f\\x01\\x00\\x00\\'\\x00\\x00\\x00song_data/A/A/A/TRAAAMO128F1481E7F.jsonu\\x8e\\xcb\\n\\xc20\\x10E\\x7fe\\xc8JA\\xc4\\x94j\\xab\\xbb\\x88\\x16TD\\xb0\\xa2\\xb8*\\xd1\\xa46\\x90\\xa6\\x90\\xc7\\xa2\\x88\\xffnR\\x14\\xbbq9w\\xee=\\x9c\\'R\\xae.L\\xa3\\x1e\\x06-\\x00\\x8f\\x00Qm\\x85\\xb1\\x85`\\xfeF\\xe4\\xb8\\xcb\\xae\\xf9\\x1c\\xe34Y\\xce\\xd3\\xf54\\xcd\\xd0\\xaf\"\\xa9\\x15\\xd61\\xee\\x8b\\xcaI\\xd9{x\\xdc\\xbf\\xcf\\xdd\\x8f\\x1a\\x15\\xd8=\\x92\\xa25\\x0f\\xd1\\x96\\x97%\\x10\\xc5 \\xaf\\xb8\\x16\\xb0\\xa6\\xc6r\\x1dzA\\xf0\\xa3\\x94\\x1f\\xae\\xfb\\xe3\\xe5\\x82#2[\\xc5\\x19Y\\xe28\\x14\\xbc\\x89\\xec\\x10\\xa7\\x8a\\xc3\\xbeiT\\x87\\xd9\\xc0\\xe0\\xa0\\x99PT\\xb7\\xb0\\xa2-\\x10ys5\\x9c\\xb96\\xdea\\x18v\\xcc\\xe9\\xafP4K\\xc6\\xc9$\\x8a}\\xdar\\xaa}2y\\xbd\\x01PK\\x03\\x04\\x14\\x00\\x00\\x00\\x08\\x00A\\x828NI/}-\\xac\\x00\\x00\\x00\\x00\\x01\\x00\\x00\\'\\x00\\x00\\x00song_data/A/A/A/TRAAAMQ128F1460CD3.jsonu\\x8e1\\x0b\\xc20\\x14\\x84\\xffJ\\xc8\\xa4 bJcZ\\xb7\\x86RP\\x91B:9\\x95`\\x82\\x06\\xd3T\\xdad\\x10\\xf1\\xbf\\xfb\"\\x8a]\\x1c\\xdf\\xdd\\xf7\\xee\\xee\\x81]\\xe8\\xda\\xb1w\\xe7\\x11o\\x10Y ,\\x07oF\\xdf\\x1a\\x057.D\\xb9j\\x92\\x9c\\x90\\x8c\\xf1\\x9c3^Q\\xfcC\\xac\\xf4\\xc6\\x07\\xa5\\x01t\\xc1\\xda\\x89\\x01q\\xff\\x9c\\x13<\\xf5.f\\xd7\\x17\\xd3O\\xd2\\x9c\\xect\\x94\\x85\\xf4Z!\\x11\\x9d8\\xeb3\\xa4\\xa9\\x0f;~,IR\\xac\\xcb\\xb4\\xca(e\\x11\\x80~\\xfb~\\xdak}3\\x0em=\\x12ZZ4k\\xae\\xc6\\xcf#\\xa1\\xc2\\xf0-$$]\\xb2\\x8c\\xd0\\x1c\\xe4\\xbb\\x96\\x03H\\xab\\xe7\\x0bPK\\x03\\x04\\x14\\x00\\x00\\x00\\x08\\x00A\\x828NR\\xf2\\x87\\x92\\xbc\\x00\\x00\\x00\\x1c\\x01\\x00\\x00\\'\\x00\\x00\\x00song_data/A/A/A/TRAAAPK128E0786D96.jsonu\\x8e\\xc1\\n\\xc20\\x10D\\x7f%\\xe4\\\\\\xa4\\xab\\xa8\\xad7\\xb5\\x14QT\\xa8z\\x96\\xc5\\xc4\\x12H7\\x92&H\\x11\\xff\\xddD\\x14{\\xf1\\xb83of\\xe7\\xc1\\xc97\\xe7\\xd6P\\xdd\\xf2\\x19\\x83\\x84q\\xb4N\\xb5\\xee\\xacD\\xb8\\xf9\\xbc\\x82\\xf4t(\\x00\\xb2\\xe9\"\\xcf\\xcbQ\\t\\xfc\\x87ht\\xcay!\\x03H^\\xeb\\x9e\\x11\\xea\\xfe9\\x97\\x102\\x14\\xbb\\x17\\xdejE\\xb53\\x94\\xb0=9\\xb4\\xca$l\\x89\\x84\\x02{O\\x08\\x1b\\x19\\xe9\\xe3]J\\'\\xed\\xd5*IBwl\\xeb[u\\x89\\\\\\xdc\\xfeY{\\xd8\\xaf6\\xbbj\\r\\xc3\\xf9d\\x9aB\\x01e\\x16\\x810R\\xbf+\\nkn\\xcc\\\\Y\\x85\\x8a\\xa2!\\xbc\\xfd\\x8e\\x81,\\x1f\\x8cCf\\x12\\xe4N\\xa2\\rR\\xfa|\\x01PK\\x03\\x04\\x14\\x00\\x00\\x00\\x08\\x00B\\x828N<\\xcc\\xde\\xce\\xa9\\x00\\x00\\x00\\xfd\\x00\\x00\\x00\\'\\x00\\x00\\x00song_data/A/A/A/TRAAARJ128F9320760.jsonu\\x8f1\\x0b\\xc20\\x10\\x85\\xffJ\\xc8,bZ\\xad\\x89[*\\x08u\\xd0\\xa2C\\xa1K\\tM\\x90h\\x9a@\\x9a\\x0c\"\\xfews\\xa8\\xd8\\xc5\\xf1\\xde}\\xef\\xdd\\xbb\\x07\\xb6q\\xe8Fg/#\\xde 2CX\\xf8\\xa0\\xc7\\xd0i\\x99f\\xccO\\xb4\\xdd\\x1e*B\\xe8\\xbad|Q\\xb0\\x12\\xff\\x10#\\x82\\x0eQ\\xaa\\x04\\xdah\\xccd\\x91\\xe2\\xfem\\xfadr\\x16\\xb2\\'IV\\x0c\\n\\xa4\\xda\\x08\\xab\\x02\\xaaQ\\xed\\xddU\\xf5\\x01\\x10\\xe8\\xf6is>V\\xbc\\xdd7$\\xe3\\xe5\\x82\\xd0U\\xbe#\\x00\\xa4\\x12\\xe6\\xed\\xd6\\xf6\\x86\\x1a\\xe7\\x8d\\x04YF\\xff=\\x95\\x15lN\\t\\xcd\\xb3$\\xdf\\x95\\xf0\\xf0)\\xa3\\xcb\\xe7\\x0bPK\\x03\\x04\\x14\\x00\\x00\\x00\\x08\\x00B\\x828N\\xe3r\\x98\\xc7\\xab\\x00\\x00\\x00\\x04\\x01\\x00\\x00\\'\\x00\\x00\\x00song_data/A/A/A/TRAAAVG12903CFA543.jsonuN\\xc9\\n\\xc20\\x10\\xfd\\x95\\x90\\x93\\x82\\x88I5\\xb4\\xdej+Ep\\x01\\xab^K\\xb4A\\n\\xe9T\\xb2\\x1cD\\xfcw\\'\\xa2\\xd8\\x8b\\xb7\\x99\\xb7?(\\xf8\\xb6\\xb2\\x1d\\\\-\\x9d\\x136\"T\\x1a\\xd7XW55\\xfe4\\xddo\\x0f\\xeb\\xa2`l\\xc9\\xe3h\\x96\\xe7\\x8b\\x84\\xfe$Z\\xba\\xc6\\xf9Z\\xa1\\x10\\xbc\\xd6=\\x02\\xe3\\xfe1\\x174u\\x10\\xb2{I [\\x15\\xa0L\\xdf\\x02\\x1a\\xe6|\\x06\\x94\\xbbc^\\x16\\x1b\\xc6\\xd3,\\x11,\\x8e&\\xd3 \\xc0^\\xfd6\\xac\\xc0b\\x9e<kE\\x06x;\\xe3[\\x05NjrR\\xc6b\\xcf0\\xa8ko\\xbe\\xa5\\\\\\x88q\\x94\\x08\\x1e#|W\\xd2 4y\\xbe\\x00PK\\x03\\x04\\x14\\x00\\x00\\x00\\x08\\x00B\\x828N\\x0fifN\\xbd\\x00\\x00\\x00\\x12\\x01\\x00\\x00\\'\\x00\\x00\\x00song_data/A/A/A/TRAAAVO128F93133D4.jsonM\\x8e\\xcd\\xaa\\xc20\\x14\\x84_%d}o\\xc9I\\xe9\\x9f\\xbbFQQT\\xd4\\x85\\xba\\x92`\\x83\\x06\\xea\\t\\xa4\\xc9\\xa2\\x88\\xefn\"\\x8a]\\x9e\\xf9f\\xce\\xcc\\x83\\xa2\\xbf\\x9f;\\x83\\xd7\\x8e\\x8e\\x08\\xfc\\x11*\\xad\\xd3\\x9d;\\xeb&\\xdc\\xb4\\xde\\xcd\\xf6\\x8bC\\x05P\\x16\\xa2\\x120\\xc9\\x05\\xfdYZ\\xe9\\xb4\\xf3\\x8d\\n\\xc64K8T9\\x1f\\xc0\\xf0\\xf2K\\xffK\\x960\\xa8\\xb2l\\x88/!m0\\x96\\xac\\x8du72\\x96\\xd6\\xb4\\x1a\\xe5\\xa0\\x00\\xe5]E\\xc3B!\\xf65\\xf6K\\x8dM\\xc4q\\xeeg\\xe0~\\xb3\\x9d\\x1fWS\\xe0\\xb5`P\\xf24O\\xa3!\\xecj\\xdf\\xc9\\x93\\xf1x%\\xc2\\xf4D\\xb4^u\\x915\\xde~\\x9b9\\x94IQd,\\x0fr\\xaf\\xa4\\r\\x12{\\xbe\\x00PK\\x03\\x04\\x14\\x00\\x00\\x00\\x00\\x00\\xb8u<N\\x00\\x00\\x00\\x00\\x00\\x00\\x00\\x00\\x00\\x00\\x00\\x00\\x10\\x00\\x00\\x00song_data/A/A/B/PK\\x03\\x04\\x14\\x00\\x00\\x00\\x08\\x00B\\x828N\\xbc\\x11\\x07\\xaf\\xb3\\x00\\x00\\x00\\x0e\\x01\\x00\\x00\\'\\x00\\x00\\x00song_data/A/A/B/TRAABCL128F4286650.jsonu\\x8e\\xcb\\n\\x82@\\x14\\x86_e\\x98UA\\xc4\\x8c\\x1aj;37&\\x14\\xdd\\\\\\xca\\xa0\\x83\\t\\xe3\\x08sYH\\xf4\\xee\\x9d\\x91\"7-\\xcf\\xf9o\\xdf\\x13K\\xdbWz\\x90\\xad\\xc6[DW\\x083e:m\\xaa\\xae\\x81\\x1b\\'\\xe74\\xf0IHi\\x14\\xee\\xe2\\x98x\\x01\\xc1?\\x8b`\\xa63\\xb6\\xe1`\\x94V\\x88\\x99\\x00u\\xff\\x94\\x1aB\\x83t\\xdde\\xa7%W+T$\\xb3N\\xc9z>\\x89l\\x94\\x1c\\x95\\xcc\\x00\\x9a\\x93\\x1d\\xe1\\x87\\xe9r<dy\\x96S/\\x89R\\xeagd?1\\x01\\x8a\\x98\\x92\\xd7\\x07G7\\xd5rY\\x8fhQ\\x9c\\xd0\\x9d+\\r\\x8bKgj\\xac\\xfa\\xce{\\xc1f\\xedQ\\x12G\\xf0\\x1e9S\\xf0\"\\xaf7PK\\x03\\x04\\x14\\x00\\x00\\x00\\x08\\x00B\\x828N\\xb6\\xc1\\xe5A\\x9d\\x00\\x00\\x00\\xf1\\x00\\x00\\x00\\'\\x00\\x00\\x00song_data/A/A/B/TRAABDL12903CAABBA.jsonuNM\\x0b\\x820\\x18\\xfe+c\\xe7\\x087Qg75\\x88\\xc8\\x08\\x8a\\x0e\\x9dd\\xb4\\x11\\x839c\\x1f\\x07\\x89\\xfe{\\xef\\xa4\\xc8\\x8b\\x97\\x17\\xde\\xe7\\xfb\\x85M\\xe8;7\\x98\\x87\\xc3\\x1bDV\\x08s\\xeb\\x95\\xf3\\x9d\\x12\\xf0\\xe3\\xea\\xdc\\x16\\x07\\x96\\x11\\xc2\\x8a\\xba,\\xabfK\\xf1_\\xa2\\xb9W>\\x08\\tB\\x13\\xb4\\x9e\\x11\\x10\\xb7\\xc4\\xdc\\xc14\\x98\\x98=K2\\xbc\\x97S\\x9d\\x11#\\x8a\\'rq\\xd4w\\xc6\\xe5t\\xbc\\xdev{B\\xab:!\\x8c\\xe5i\\x1a\\x05\\xd0\\xae\\'[\\xcbQ\\x13\\xf4\\x93GP\\x04\\xfbk\\xa04_\\xa7Y\\x92\\x15\\x00\\x8f\\x92[\\x80\\x92\\xf7\\x07PK\\x03\\x04\\x14\\x00\\x00\\x00\\x08\\x00B\\x828N\\x1d\\x83\\xed\\xdf\\xa1\\x00\\x00\\x00\\xf7\\x00\\x00\\x00\\'\\x00\\x00\\x00song_data/A/A/B/TRAABJL12903CDCF1A.jsonuO\\xbd\\n\\x830\\x10~\\x95\\x90\\xb9\\x14O\\x05c\\xb7D\\n\\x0e-\\x82}\\x00I\\xab\\xd8@\\x8c\\x90\\x9f\\xa1\\x96\\xbe{s\\xa5\\xa5.\\x0e7\\xdc}\\xbf\\xf7\\xa4&L\\x9d\\x9b\\xcd\\xe8\\xe8\\x81\\xc0\\x8ePi\\xbdr\\xbeS}\\xdc)o\\xeb\\xba\\xc9\\x1a\\x00V\\x88\\x92\\x959d\\xf4O\\xd1\\xd2+\\x1f\\xfa!\\x12M\\xd0z\\x05D\\xbb-\\xe4\\x16E\\xb3A\\xef\\x95\\x93\\x91\\xd3\\x80\\'1_\\t_\\x169!\\x86\\xa5\\xbe5.M\\xcb\\xcf\\xa7#\\xa4\\\\$PTL$H\\x88\\xe9\\xfa#\\xe3a\\x0cV\\x91\\xea.q\\x10\\xea\\x83\\xfd\\xe5@\\t{\\x96\\xa7\\x0c\\x7f{\\x0c\\xd2\\xc6S\\xf2z\\x03PK\\x03\\x04\\x14\\x00\\x00\\x00\\x08\\x00B\\x828NY\\xfdP\\xea\\xba\\x00\\x00\\x00\\x17\\x01\\x00\\x00\\'\\x00\\x00\\x00song_data/A/A/B/TRAABJV128F1460C49.jsonu\\x90Q\\x0b\\x820\\x14\\x85\\xff\\xca\\xd8sD\\xea\\xd2\\xd9\\xdb\\xd4\\xa40\\x12,\\xe8QD\\x87\\x0e\\xae\\x13\\xe6\\x0c$\\xfa\\xefmQ\\xe4K\\x8f\\xe7\\x9e\\xef\\x1c\\x0e\\xf7\\x81\\xe5\\xd4\\x97\\xe3 \\xdb\\x11\\xef\\x90\\xb3B\\xb8RZ\\x8c\\xba\\x14\\x8d\\xd1\\x98\\x15\\xc7\\x8cx\\x99\\xe3\\xd0 \\n\\xd9~Kb\\xfcC\\xa0\\xd2BO\\r7\\xa0\\x9c\\x00\\x16\\x86\\xa9\\xfb\\xe7\\xd4&4H\\xdb\\x1d\\xf1;W0\\xa3\\x83\\x00\\x18W(f\\x8bjY\\xf5\\xdc2\\'\\xc3r@\\x85\\xa8;\\xc1\\xado\\x97~\\xb6]\\xf2(?\\xa7\\xa9\\xe32?!)%\\t\\xb5\\x80\\x99\\x04\\xef\\xe8u\\x90\\xa2\\xed4\\xba\\x99z\\x14q\\xc4@Ym\\x99fR\\xdf\\x15\\xde&X{\\xd4%\\xe6:\\xf3J\\xd9\\x1f\\x84\\xd4\\x7f\\xbe\\x00PK\\x03\\x04\\x14\\x00\\x00\\x00\\x08\\x00B\\x828N3\\x90\\xd9\\x03\\xba\\x00\\x00\\x00\\x16\\x01\\x00\\x00\\'\\x00\\x00\\x00song_data/A/A/B/TRAABLR128F423B7E3.jsonMPA\\x0e\\xc2 \\x10\\xfcJ\\xc3Y\\x9bPh\\x01o\\xadV\\xbd\\xd5T=7DHCB!\\xa1p0\\xc6\\xbf\\x0b\\xc6\\xc6\\xdevwfvf\\xf7\\x05L\\x98\\x86\\xd9\\x9aq\\x06\\xbb\\x0cn2\\xc0\\x9dW\\xb3\\x1f\\x94\\x88=\\xa8\\xfb\\x03\\xc5\\xc5\\tBJ\\x1a\\xc6\\x08\"\\x15\\xf8S4\\xf7\\xca\\x07!#\\x11\\xa3\\xbc\\xc2\\xb4\\xacV`\\\\\\xb9\\xa0[\\xc2rDK\\x84\\xd6\\xf0#\\xaa\\xadI&7\\xeb\\xac\\xf1v\\x93u\\xc6s\\xa7b\\xb1\\xe7\\x86\\x0b\\xbe\\xb22|\\x92\\x89\\xda\\xe8 \\xb3\\xde\\ni\\x13\\x98b\\xff\\x82^\\xbb\\xf3\\xbd\\xab/\\xb0\\xa8i\\xddbJ[\\x96\\x081\\x9f\\xfe\\xea\\x8e\\xdaF;3\\xa6\\xa1\\x08n\\xb1\\xc6\\x0c\\xe6\\xb0 $\\xdd\\xfd\\x94\\xdc\\xa5\\x170J\\xde\\x1fPK\\x03\\x04\\x14\\x00\\x00\\x00\\x08\\x00B\\x828N\\xcb]md\\xb7\\x00\\x00\\x00\\r\\x01\\x00\\x00\\'\\x00\\x00\\x00song_data/A/A/B/TRAABNV128F425CEE1.jsonM\\x8f\\xcd\\x0e\\x820\\x10\\x84_\\x85\\xf4\\xac\\x84\\xf2[\\xbcQ1\\xea\\x89\\x00r&\\rm\\xa0\\t\\x94\\xa4?\\x07c|w[#\\x91\\xe3\\xee|;3\\xfb\\x02\\xc2,\\xbdZ\\xc5\\xa8\\xc0\\xc9\\x83\\x07\\x0f\\x10\\xa9\\xb9\\xd2=\\xa7v\\x06Es\\xbf\\xa6U\\x0c!\\xcap\\x8e\\x10.K\\xf0Gf\\xa2\\xb96\\x94Y0\\xca|\\x98fy\\xb4\\x13\\xad\\xe5\\xa6\\x1e\\xf3\\xc4Gq\\x12\\x84{y\\xb0\\xd7\\xabp!\\x9d\\xe0\\x9aQ\\xaf\\xd5D3\\xb5\\xf3\\x17daNo\\xf80\\x11i\\x81\\xd5\\xe8\\x89IG\\xb8\\xc2\\xbf\\x8am\\xd5\\xd5\\xf5\\xa5\\x80a\\x81\\xce0\\x8a1\\xc4\\x0e\\xb0\\xcd\\xe6\\xef\\xf1\\x8d\\x8f\\x93\\xf7\\xe0\\x94\\xb9-5rK\\rC\\xe4\\'y\\xe6>~2\"\\xed&x\\x7f\\x00PK\\x03\\x04\\x14\\x00\\x00\\x00\\x08\\x00B\\x828Nn]\\x18\\x8c\\xaa\\x00\\x00\\x00\\x01\\x01\\x00\\x00\\'\\x00\\x00\\x00song_data/A/A/B/TRAABRB128F9306DD5.jsonu\\x8e\\xcd\\x0e\\x820\\x10\\x84_\\xa5\\xe9\\xd9\\x18\\n\\x92\\x82\\xb7\\xa2\\x12M\\x8c\\x8a\\x9e\\xe4B6\\xd2h\\x93R\\x12h\\x0fj|w\\xbb\\xfeD.\\xdevg\\xbe\\x9d\\x9d;5\\xae\\xa9\\xfa\\xd6\\x9c{:%lD(tV\\xf5\\xb6R\\xb5\\xdf\\xa9\\xd8\\xb3ry,\\x19Kx\\x9eE3\\xce8\\xfd!\\x1a\\xac\\xb2\\xae\\x96\\x1e4N\\xeb\\x81\\xe1\\xe3\\xfe9\\'\\x7f\\xd4\\x1a\\xcc\\x1e$\\x19h$J9\\xa8\\x1b\\x11Z\\x11\\x1c\\xd0\\xc7b\\x9f*\\x87\\xedj\\xbd+\\n\\x16\\x8a,`|\\x91\\x84\\x02\\x01\\xdf@\\xcb\\x97\\xdd^\\x0c\\x90\\x8d\\x94\\xe4=\\xcd\\xc1\\x02\\x02\\xb5\\xeb\\xbe\\x1f\\xe34\\x1d\\x87\\x93$\\x8e\\xbc|\\x95\\xd0y)x<\\x01PK\\x03\\x04\\x14\\x00\\x00\\x00\\x08\\x00B\\x828N:R\\xd8,\\xa6\\x00\\x00\\x00\\xf9\\x00\\x00\\x00\\'\\x00\\x00\\x00song_data/A/A/B/TRAABVM128F92CA9DC.jsonu\\x8e\\xcd\\n\\xc20\\x10\\x84_%\\xe4,\\x92\\xa4\\x15Som\\xa5P\\x15D\\xedAO%\\xd8P\\x0bI\\n\\xf99\\x88\\xf8\\xeefE\\xb1\\x17\\x8f\\xfb\\xcd\\xec\\xcc<\\xb0\\t\\xbau\\xa3\\xe9\\x1d^!:CXX?8\\xdf\\x0e]\\xbcq~\\xbcl\\xcbCM)_VERP^\\xe1\\x9fE\\t?\\xf8\\xd0\\xc9h4A\\xa9\\x89\\x10\\xe3\\xfe)\\xd7\\xf84\\x1a\\xc8\\x9e$\\x19\\xa1%\\xa0F:%\\x80\\xc3\\xa0\\xcf\\x84\\xd3\\xfe\\xbc+6\\re9/iJ2\\xb6\\x00ClV\\xef\\x97R\\x84\\xfe\\xe6QmP\\x8e\\xd6V\\n\\rj\\x17\\xec\\xb7\\x86ed\\xce2\\x9e\\xb0\\x88\\xefRX@\\x84\\xa4\\xcf\\x17PK\\x03\\x04\\x14\\x00\\x00\\x00\\x08\\x00B\\x828NqtG\\x0f\\xa6\\x00\\x00\\x00\\xf8\\x00\\x00\\x00\\'\\x00\\x00\\x00song_data/A/A/B/TRAABXG128F9318EBD.jsonu\\x8eQ\\x0b\\x820\\x14\\x85\\xff\\x8a\\xec9\\xc2\\xc92\\xedm&FA%\\x05=\\xf4\"CG\\r\\xe6\\x84y\\x07I\\xf4\\xdf\\xbb\\x8b\"_|\\xbc\\xe7;\\xf7\\x9c\\xf3$\\xc6\\xb5U\\xdf\\x99[OV\\x01\\x9d\\x05DXP=T\\xaa\\xc1\\x9b\\xf0\\xd3\\xa1\\xe4\\x9b\\x92F\\x8cf\\xe9zY\\xe4\\x8c\\xfc-Z\\x80\\x02\\xd7H4\\x1a\\xa7\\xf5\\x08`\\xdc\\x14\\xa9\\xf1\\xa93>{\\x94dD+\\xbd\\xa4\\xe5\\x03\\xac\\xaa\\x85\\xf6\\xcc\\x8f\\xfa\\xce8\\x1f\\xaf\\x97\\xfdnK#\\x9e\\x854\\t\\x13^x\\x03\\xb6k\\xf9\\xc1\\x83\\x81\\xbb\\x04U\\x07\\xb9\\x95\\xa2\\xf5\\xacq\\xf6WD\\xe3\\xc5<NY\\xc4P\\x1e\\xa4\\xb0(\\x85\\xaf7PK\\x03\\x04\\x14\\x00\\x00\\x00\\x08\\x00B\\x828N\\xf4\\xc0\\xd7\\xb8\\xc3\\x00\\x00\\x00\\x1a\\x01\\x00\\x00\\'\\x00\\x00\\x00song_data/A/A/B/TRAABYN12903CFD305.jsonM\\x8e]\\x0b\\x820\\x18\\x85\\xff\\xca\\xd8u\\x8a\\xd3\\xf9\\xd5\\x9dZ\\t\\x82T\\x16HW2r\\xc4P7\\x98J\\x8c\\xe8\\xbf\\xb7E\\x92\\x97\\xefy\\xce9\\xefyA>\\x0f\\xcd(\\xf8c\\x84[\\x806\\x00\\x129\\xb1qjX\\xabo\\x98T\\xe7\\xfcv\\n\\x11\\x8a\\xc2C\\x8a\\xb1\\x1f\\x04\\xf0o\\xe9\\xc9\\xc4\\xa6\\xb9\\xa5\\xda\\xe8a\\xdbC\\xc8\\x89WPW.\\xd4\\x8a\\xb1\\xed\\xb8q\\x18\\xad\\xf1]\\xa7\\x057OJ\\xc6\\xa9\\xe8\\xc9\\x06$\\xd5\\xaa\\x9d\\x93\\x81\\x1aZ\\xb0aP\\xa0&\\x1d\\xed\\x95\\xc1f\\xebo\\xdd\\xe5X_\\xd3\\xa2Fn\\x92\\xe1 J\\xb2`o\\x0czT\\xffM\\xa6Rt\\x94[;\\xf1\\xe4\\xa0\\xa4R*+\\x17V%f\\xde\\x1a[;\\xcbe\\x01\\xf2\\x91\\x1d\\xe1\\xd8\\xc3ZV\\x94H-9\\xef\\x0fPK\\x03\\x04\\x14\\x00\\x00\\x00\\x08\\x00B\\x828N\\xff\\x03R\\x03\\xb2\\x00\\x00\\x00\\x08\\x01\\x00\\x00\\'\\x00\\x00\\x00song_data/A/A/B/TRAABYW128F4244559.jsonM\\x8eA\\x0b\\x820\\x1c\\xc5\\xbf\\x8a\\xec\\\\\\xb2-u\\xb3\\x9bC\\x8b\\n\\t\\xf2\\xd0Q\\x86\\x0e\\x1b\\xe8\\x04\\xb7\\x1d\"\\xfa\\xeem\\x92\\xe8\\xf1\\xff~\\xef\\xfd\\xdf\\xfb\\x00e\\x87Z\\x8f\\xaa\\xd3\\xe0\\x18\\xa0]\\x00\\xf8d\\xa46\\xb5l\\xdd\\r\\xb2\\xc7\\xe5\\xc0\\xca\\x12!JN,\\xc2q\\\\\\x80\\xd5\\xd2s#\\x8dm\\x853\\x1ehH\\xd3\\x14m\\x98\\xfb\\xb8\\xc0=!!\\xc4\\xe9\\x166.:*\\xdf\\xf0\\xe4\\xfa%Ug\\xdc\\xb5\\x1a\\x14\\x1f\\xc4\\\\\\xdf\\xcbF\\x04\\x95\\xb1N\\xf7\\xd8\\xef\\xfc/\\xab\\xee\\xac`\\xf9\\x19\\xe1,\\xa6\\x19I\\xf2\\x04z\\x83\\x1b\\xd4\\xcf\\xc9\\x1b\\xd7Z\\x8a\\xe0:*\\xa1=h\\xed\\xb4Tb\\x0cCB\\x93\\xc8\\x0fz\\x0b>9\\t~\\x7fPK\\x03\\x04\\x14\\x00\\x00\\x00\\x00\\x00\\xb9u<N\\x00\\x00\\x00\\x00\\x00\\x00\\x00\\x00\\x00\\x00\\x00\\x00\\x10\\x00\\x00\\x00song_data/A/A/C/PK\\x03\\x04\\x14\\x00\\x00\\x00\\x08\\x00B\\x828N\\xafR|\\xa3\\xb1\\x00\\x00\\x00\\x04\\x01\\x00\\x00\\'\\x00\\x00\\x00song_data/A/A/C/TRAACCG128F92E8A55.jsonM\\x8e=\\x0f\\x820\\x18\\x84\\xffJ\\xd3\\xd9\\x10\\xfa%\\xc5\\r\\x14\\x16\\x07\\x12\\xd1hXH\\x95\\xc64\\x81\\x92\\xd0v0\\xc6\\xffnK$2\\xbe\\xf7\\xdc{wo\\xa8\\xdd\\xd0\\x9aQ?\\r\\xdc\\x01\\xb4\\x01PLV\\x19\\xdb\\xaa\\xce\\xdf0;\\xb1cU_\\x11\\xe2I\\x99\\x13V\\x96\\x14\\xfe-\\xbd\\xb0\\xca\\xbaNz#M#\\x1e\\x13\\xceW\\xd0G.\\x14\\xb1\\x88&4Ek\\xfa\\xf0\\xcf\\xa3\\x0e\\x1d\\x07w\\x17\\n\\\\\\xb2b\\x15\\xad\\xc5 \\x03+z\\xa9E\\xd0\\xc3\\xc2\\xdf\\xa6\\xbaj\\xf6\\xe7[\\x83p\\x96\\xc7\\x88c\\xb2\\x9d7\\xf9)\\xbd\\x9c\\xb1\\xb4B[\\x01\\x06_\\xa0M@\\x9d\\x9b\\x962\\xbcM#\\xc6\\t\\xc6^~I1y)\\xfe|\\x01PK\\x03\\x04\\x14\\x00\\x00\\x00\\x08\\x00B\\x828N\\xb2\\xdb\\x03l\\xd3\\x00\\x00\\x005\\x01\\x00\\x00\\'\\x00\\x00\\x00song_data/A/A/C/TRAACER128F4290F96.jsonM\\x90Ak\\xc30\\x0c\\x85\\xff\\x8a\\xf0\\xb9\\x0bq\\xea\\xcc\\xc9nI\\xda\\x14\\x06\\xdd\\xc6\\xda\\x9e\\x8biD\\'p\\x9db;\\x871\\xf6\\xdfg\\x95\\x95\\xe6(\\xbdO\\xef=\\xf4#\\xdct9\\x86\\xd1\\x9d\\x83x\\x01\\xb9\\x00a|\\xa4\\x10\\x8f4\\xa4Y4\\x9f\\xdb\\xa6S{)+\\xdd\\xb7\\xcb\\xbeQ\\x9dx \\xd6D\\x8a\\xd3\\x80\\tTyV\\x15\\xcf\\x85\\x9a\\x89\\xc9\\xf2\\xae>i\\x95)]\\xd7\\xe5\\\\>\\xa5\\xeb\\xd1q\\xc8v\\xf4\\x9e\\x02|XC.,\\xe0\\xedu\\x96\\xe1\\xcc\\x05\\x99\\xd9\\x7f!\\xac\\xc8Zrg\\xf4\\xb0\\x0e\\'sE\\xbep\\xccr\\xfd\\xff\\xc2\\xbb\\xf7\\xb6=l\\x0e\\xb2h\\xaaN.\\xd7u\\xb9b \\xf5\\xb4x\\x931\\xc6d\\x01=y\\x848\\xc2\\xce\"^y\\xb1!\\xe3b`v\\x98\\xfc\\xbdY\\x91\\xebLk]\\xf2[\\xbe\\xd1\\xf8\\xdb*W\\xbf\\x7fPK\\x03\\x04\\x14\\x00\\x00\\x00\\x08\\x00B\\x828N\\x95}xS\\xc8\\x00\\x00\\x00 \\x01\\x00\\x00\\'\\x00\\x00\\x00song_data/A/A/C/TRAACFV128F935E50B.jsonM\\x8e\\xdd\\n\\x82@\\x14\\x84_e\\xd9\\xab\\x82\\x92\\xce\\xaay\\xec.+\\x8a(\\x8d4\\xe8N\\x96v)\\xc1\\x1f\\xd05\\x90\\xe8\\xdd\\xdb\\x8d$/\\xcf|3s\\xe6E\\xcb\\xb6H\\x9b\\xaa\\xbc7tA`B(\\xafU\\xd6\\xa84\\x13\\xfa\\xa6\\xcb\\xb3\\xe3\\xed7W\\x00\\xf4\\x02\\xdfw\\xd7\\x08\\xf4o\\xc9\\xb9\\xcaT+\\xa46\\xda\\x9e\\x85\\xb6\\xc7`\\x00ueO\\xa7\\xbec\\xd9.\\xceq\\x88o:]\\x95\\xe6I(\\x9f\\\\\\xf0\\t9F\\x83\\xf2\\x92\\x17\\xd2\\xc0\\xf8\\xb2!\\xc9.:\\x9e\\xe2(4\\xd8L\\xfd\\x8d\\x8b\\xa3\\xe0\\xb0]\\x85\\xc0\\x96\\xc1\\x0c\\xd0f\\xc0\\x8cAo\\xca\\xbf\\xc9\\xbdnh\\xc8hW\\xe5\\x82$\\x0fI\\x0e\\\\\\x08Y\\x93XI.\\xba\\xb1\\xb1\\x8a\\xb6\\xeeG\\x00s,\\x9c;\\xe8j\\xb9\\x93\\xbc6\\x92\\x8f\\xee\\xfb\\x03PK\\x03\\x04\\x14\\x00\\x00\\x00\\x08\\x00B\\x828N\\x16\"\\x91V\\xaf\\x00\\x00\\x00\\x03\\x01\\x00\\x00\\'\\x00\\x00\\x00song_data/A/A/C/TRAACHN128F1489601.jsonu\\x8e\\xcd\\n\\xc20\\x10\\x84_%\\xe4\\xa4 b\\x8a\\xfd\\xf3\\xd6 \\x15\\xa1\\xa5j\\x85\\x1eK0A\\x83i\\nM\"\\x88\\xf8\\xeenD\\xb1\\x17\\x8f;\\xf3\\xcd\\xec<\\xb0v]kz}6x\\x85\\xc8\\x0ca6Xil+9\\xdc8;l\\xb6M^\\x11\\x92\\xc44\\xa5aHc\\xfcC\\x14\\xb3\\xd2:.\\x00\\xd4N\\xa9\\x91\\x01u\\xff\\x9c\\x13\\x84z\\xed\\xbbGM\\x9au\\xc2K\\xb9\\xbc\\tD{eQ\\xc9\\xa4\\xf6\\x80_\\xf6\\xd9RW\\xbb\\xba\\xd97$\\xc8\\xa2\\xf52O\\xe2\\x84x\\x00&\\xa8w\\xb6d\\\\\\xa0B^\\x05:^\\xa4A\\x93\\x02\\xba\\xa6\\x9e\\xe0n\\xf8\\xfe\\x0c\\x82p\\xbeH\\xa3(\\x05\\xf9.\\xd8\\x00\\xd2\\xe2\\xf9\\x02PK\\x03\\x04\\x14\\x00\\x00\\x00\\x08\\x00B\\x828N\\xa8\\xcc,M\\xa3\\x00\\x00\\x00\\xf4\\x00\\x00\\x00\\'\\x00\\x00\\x00song_data/A/A/C/TRAACIW12903CC0F6D.jsonu\\x8e\\xcd\\n\\xc20\\x10\\x84_\\xa5\\xe4,b\\x1a\\xaa\\xd1[\\x7f\\xb4\\x08\\xa2\\xf8w\\xf1RB\\x13%\\x90nK\\x9a\\x1cD|w7\\xa2\\xd8\\x8b\\xc7\\x9dovf\\x1e\\x04|S\\xf5-\\xdcz\\xb2\\x88\\xe8(\"\\xc2:\\xdd\\xbbJK\\xbcIz\\xd8\\x9e6eI\\xe92\\xe6,)\\x8alN~\\x16#\\x9cv^*4\\x827f\\x000\\xee\\x1f\\xa9\\xf1\\xa9\\x85\\x90=H\\x02\\xd1\\xa8 \\xe5\\xa6\\x0bj\\x98\\xf3\\x19p\\xdc]\\xf6\\xc5\\xfaL\\xe34\\xe1\\xe9,\\xcbW\\xd3`\\xc0^\\xa3\\xde\\xd8w\\xca\\xd6-\\\\\\xb5T\\xe0\\xb40\\x81Jo\\xbf%\\x8c\\xf11\\xa3\\x94q\\x94\\xefJX\\x94&\\xcf\\x17PK\\x03\\x04\\x14\\x00\\x00\\x00\\x08\\x00B\\x828N\\xc2\\xc41\\x83\\xd7\\x00\\x00\\x000\\x01\\x00\\x00\\'\\x00\\x00\\x00song_data/A/A/C/TRAACLV128F427E123.jsonM\\x90\\xd1J\\xc30\\x14\\x86_\\xe5\\x90+\\x05-\\xcd\\xe9\\xb6\\xa4\\xdeu\\x0eu\\x17]e+\\x88W#\\xac\\xb1\\x06\\xd3\\x13H\\x9b\\x8b!\\xbe\\xbb\\x898\\xd6\\xcb\\xe4\\xfb\\xffs>\\xce7\\xa30\\x1cGG\\xfd\\xc8\\x1e\\x80\\xdf\\x01S~2\\xe3t4]|\\xb3j\\xbf\\xd9\\x1d\\xf2\\x82s)\\xd6e\\x89\\x8b\\xa7\\x9c]#VMf\\n\\x9d\\x8e\\xc1\\x02\\xb3\\x95\\x90(g0\\x8e\\xbc\\xd0{Yd\\x88X.\\xe7\\xf8\\x14\\xdb\\x8e\\xd2\\x92g\\xed|o\\xd4l2\\xa9A\\'\\xd2\\x9a\\x01\\xde\\x8c\\x8dz\\t&\\xcb\\x7f\\xafC\\xb3{\\x7fmj\\x8e\\x95|\\xe4\\xc5\\x1a7\"\\x05\\xa2\\x8e\\xfd\\xebm\\xa1\\xfd4\\xf4\\x05\\xf59\\xd6?4lG\\xd8\\x07\"C=T\\xde\\x05\\xea\\xa0!\\xa85\\xdc\\xb4\\xea\\xe4\\xe0E[{\\x9b\\xfa]\\xf0\\x17).W\\xd9B\\n\\x91.r\\xd6\\xca\\xc7/\\xcc\\xf3\\xe5\\xcf/PK\\x03\\x04\\x14\\x00\\x00\\x00\\x08\\x00B\\x828N=]\\xb0Z\\xc4\\x00\\x00\\x00\"\\x01\\x00\\x00\\'\\x00\\x00\\x00song_data/A/A/C/TRAACNS128F14A2DF5.jsonM\\x8e]\\xab\\xc2 \\x18\\xc7\\xbf\\x8ax\\xdd\\x19G\\x8f\\xcby\\xee&\\xbd]5(\"ZDX\\x93\\x92\\x9c\\x86nDD\\xdf=\\x8dF\\xbb|\\x9e\\xdf\\xff\\xed\\x01M[\\xef\\xbd5\\'\\x0f\\xff\\x01\\x1a\\x00(\\\\\\xa3|\\xb3WU\\xb8a\\xbe(VEY\"\\x94Q\\xcer>N\\x11\\xfcJ\\xb4hT\\xd3V2\\x08\\xc9oB\\x19bi\\x0f\\x86\\xc8\\x8e\\xfe\\xd0\\xbf\\x84\\x91\\x14\\xe1>>\\x06\\xb75\\xb1d.o`c\\xdde\\x00\\xe6\\x1b\\xb0]^\\x85Q\\xfe\\x0cf\\xc2iY\\xefz}F\\xd42\\xea\\xd7Jk%\\x01\\xb7\\x07\\x1bi\\x1c\\xff\\x99\\xbb,x\\xc9\\xf3\\x12\\xe1|8\"\\x93\\x8c\\x12\\x1c\\x05a\\xa5~\\x1b\\xbb\\xe8\\xa9\\x93\\xc2\\xcb\\x88\\xaa\\xd6u3\\xd00KpJ0\\t\\xef\\xbb\\x14.\\xbe\\x18\\xa3\\xcf\\x17PK\\x03\\x04\\x14\\x00\\x00\\x00\\x08\\x00B\\x828N\\x02\\x01\\ti\\xbd\\x00\\x00\\x00\\x14\\x01\\x00\\x00\\'\\x00\\x00\\x00song_data/A/A/C/TRAACOW128F933E35F.jsonM\\x8e]\\x0b\\x820\\x14\\x86\\xff\\xca\\xd8u\\x89\\'\\xa7s\\xddi`Q\\xa4PT\\xd4\\x8d\\x8c6B\\xf2#\\xa6R\\x16\\xfd\\xf7\\xb6H\\xf2\\xf2\\x9c\\xe7\\xfdz\\xe1\\xb2-\\xd2\\xba*/5\\x9e\"\\x18!\\xccU\\x93\\xd5M\\x9a\\t}\\xe3`\\xb3 \\'\\xdb\\x01\\xf0i\\xc8\\x02\\n\\xd1\\x04\\xff%9o\\xb2\\xa6\\x15R\\x0b\\x89mQ\\x07\\x18\\x1d@\\x1d\\xd9\\xd31%\\x16P\\x02\\xfe\\x10\\x9f\\xb5\\xbb*MI,\\xef\\\\]G(^\\x0e\\xc2K^H\\x03#\\xdeI\\x14\\x08^\\xd4\\x06\\x9a\\xa1\\xbfi\\xdbd\\x7f\\\\\\xcd\\x13\\x98\\x04\\xa1\\xad\\xe7\\x01cF\\xa0\\x17\\xe5_\\xdfL\\xf1g\\x87\\xd6\\xd9C\\n\\xb4\\xbb\\xa1C\\xa5ra\\x04\\xa2U}1\\xb8\\x9e\\xe50\\xe2\\xb9\\xfa\\xddI\\xae\\xcc\\x8by\\xf0\\xfe\\x00PK\\x03\\x04\\x14\\x00\\x00\\x00\\x08\\x00B\\x828N\\xc2\\x96:\\x82\\xc3\\x00\\x00\\x00\\x1c\\x01\\x00\\x00\\'\\x00\\x00\\x00song_data/A/A/C/TRAACPE128F421C1B9.jsonM\\x90\\xc1\\x0e\\x820\\x10D\\x7f\\xa5\\xe9Y\\x89-\\x05\\x8a7@\\xd1x@\\xa3^<\\x91\\x866\\xd8\\x04\\xda\\xa4\\xd0\\x031\\xfe\\xbb\\xad\\x91\\xc8q\\xf7\\xcd\\xccN\\xf6\\x05\\x95\\xed\\xebA\\xabv\\x80[\\x80V\\x0023\\xcaa\\xac%w3\\xcc\\xae9N\\x8f\\x04!\\x9a\\xe4)-7\\xfb\\x12\\xfe%\\x1d\\x1b\\xe5h\\xb9pB\\x82\\x02J\\t\\x8a\\x16\\xd0E\\xcetM\\x93 \\x0e1AK\\xdc8\\xb7V\\xfeH\\xf1\\x94\\rk\\xf5\"Y\\xb1^xr\\x17\\xc6L\\xa0`]\\'\\x85\\xf1\\xdc\\x17\\xfdU\\xbb\\x9d\\x0fUq\\xba \\x9cE4\\xa3\\x1b\\x9c /p\\x8d\\xba\\xafu\\xa7\\xc1C[PJ\\xe5\\xdc\\x13\\xa8\\x84\\xe0 \\x03\\xa5\\x91Bq/\\xe4\\xd6\\xcc\\x05B\\x82\\x83(NC\\xe2\\xd6\\x93`\\xc6?\"M\\xf0\\xfb\\x03PK\\x03\\x04\\x14\\x00\\x00\\x00\\x08\\x00B\\x828N1\\xbd?\\\\\\xb9\\x00\\x00\\x00\\x0c\\x01\\x00\\x00\\'\\x00\\x00\\x00song_data/A/A/C/TRAACQT128F9331780.jsonU\\x8e_\\x0b\\x820\\x14\\xc5\\xbf\\xca\\xd8s\\x89\\x9b\\xf3_ojJ\\x84Q\\x94P=\\xc9\\xc8\\x91\\xc2\\x9c\\xb1\\xe9\\x83D\\xdf\\xbd-\\x12\\xeb\\xed\\xde\\xfb;\\xe7\\x9e\\xf3\\x84bhK\\xd5\\x89\\xbb\\x82+\\x80\\x16\\x00R\\xd97\\xaa/\\x9bJ\\xef0:\\xa2+>\\x14\\x08\\x05~\\x16\\xbbq\\x98\\xa4p\\x96p\\xda7\\xfdP1-\\xc4\\xbe\\x15\\x12\\x1b\\xf9?P\\xbf\\x9c\\xe82\\xc0\\x96\\x83]\\xf2\\x87o\\xda\\xdd\\t\\x13\\x12K**=\\xceT\\xd0\\x96\\x19\\xb2\\xedj\\x01\\xceLq6\\x1ajj~\\x8b\\x9d\\xf6y\\xbe\\xd9]\\x10\\x8eb\\x1b\\x05\\xc4[\\'F\\xa0\\xfb\\xf0\\x8f\\xb1\\xa8\\x19H\\xdb\\x07\\x93\\x9d\\x04\\x19\\xe5\\\\\\x19Z\\rr\\xca$\\x01\\xb1<\\xec`\\xac\\xcf#\\xa3R\\x9f\\xec\\xd7\\x1bPK\\x03\\x04\\x14\\x00\\x00\\x00\\x08\\x00B\\x828N\\x8dE\\xf2\\xdb\\xb8\\x00\\x00\\x00\\x13\\x01\\x00\\x00\\'\\x00\\x00\\x00song_data/A/A/C/TRAACSL128F93462F4.jsonU\\x8eM\\x0b\\x820\\x18\\xc7\\xbf\\xca\\xd8YeK\\x9d\\xab\\x9b\\x82!\\x11e\\xe9\\xc5\\x93\\x8c\\x1c*\\xe8\\x04\\xb7\\x11\\x11}\\xf76J\\xb2\\xe3\\xf3\\xfc\\xfeoO(\\xf4X\\xcbI\\xb4\\x12\\xee\\x00v\\x00d\\xb3\\xea\\xa5\\xaa\\xfb\\xc6\\xdc0\\xbe\\xc6\\x87<\\xcb0\\xa6\\xd1>\\tCBb\\xf8\\x93\\x0cL\\xf5J7\\xdc\\x08\\x03\\xe4E\\xc8\\xa7+f\\x12\\x17\\xe8F\\xbeG}L\\xfe\\xf0\\xcd\\x98\\'a;.\\x9as!\\x1dp\\xaaV\\xd9\\x82\\x8d\\xdc\\xc2\\xb2\\xe3\\xa0\\xe8\\x98h\\xe7\\xde=2i\\x15v\\xecw^q\\xae\\xca<\\xcd\\xf1&N\\x10\\xa6(\\x8d\\x12+0\\xab\\x86\\x8f\\xf9n\\xa2\\x00\\x13\\x8d\\x89\\x98\\xb4\\xb2\\xac\\xd1\\xf3R\\x8cI\\xe0QD\\x90\\x9d\\xf5\\xe0l\\xb6\\xaf-\\t^oPK\\x03\\x04\\x14\\x00\\x00\\x00\\x08\\x00B\\x828N#\\xdbOX\\xc6\\x00\\x00\\x00\"\\x01\\x00\\x00\\'\\x00\\x00\\x00song_data/A/A/C/TRAACTB12903CAAF15.jsonM\\x8e\\xcb\\n\\xc20\\x10E\\x7f%d\\xad%\\xd3XM\\xddY\\xdf\\x82\\x0f\\xd4\\x85;\\tv\\x94`\\x9bH\\x93\"\"\\xfe\\xbb\\x89(v9s\\xcf}<\\xa9\\xae\\xcb\\xa35\\xfabi\\x9f@\\x8bPY9e\\xddQ\\xe5\\xfe\\xa6\\x83-\\xdb\\x0e\\x97\\x1b\\x00\\xd1\\x9bd|\\xd2\\x89{\\xf4\\x8f\\x14\\xd2)W\\xe7\\xe8A\\xce\"&\\xba\\x904D\\x1f\\xf9S\\xdbi\\'\\x02\\x06\\x89h\\xca\\'\\xef6:\\x94d(\\xeb\\xd2h\\xd7\"\\xfbC#^\\xcb\\x12?\\xb2*\\n\\x85da\\xc8\\xee\\x86\\xb2\\xb2\\x01\\t\\x83\\xbf\\x13w\\xeb\\xe9a6\\x9eB<\\xc8\\x18\\x88n\\xc2\\xc7\\x01\\xf0\\xcb\\x8a\\x8f{\\xee\\xc8R^\\xd1\\x92\\x95!#u>c\\x85\\xfa\\x84\\xfe\\xba\\x07,\\xaf\\xab\\xdf\\x0c\\xe0<\\xe2\\xb1H\\xb8\\x7f?|Ox\\xa5i\\xfcz\\x03PK\\x03\\x04\\x14\\x00\\x00\\x00\\x08\\x00B\\x828N\\xef\\xf9\\xd2\\xe9\\xd7\\x00\\x00\\x006\\x01\\x00\\x00\\'\\x00\\x00\\x00song_data/A/A/C/TRAACVS128E078BE39.jsonu\\x8f\\xcbJ\\x031\\x14\\x86_\\xe5\\x90\\x85V(\\xd2L\\xed\\x8c\\xba\\xcb\\xa8\\xa3\\x94)\\x15\\x95\\xa2n\\x86\\xe8\\x84\\x12z\\xe6\\x04r\\xa1\\x94\\xd2wo\\xd2\\x0b\\xed\\xa6\\xcb\\xf3_>\\xfe\\xb3f\\x14\\xba\\xc6\\x19\\x9a;\\xf6\\x08\\xbc\\x0fLZ\\xaf\\x9dot\\x1bo&>^\\xca\\xf2u\\xc6\\xf9}Q\\x95\\xa3l\\xf8\\x9c\\xb1S\\x04\\xa5\\xd7>\\xb4*\\x06) \\x9e\\x19\\x11w\\xc9\\xf9\\x8f%C\\x89\\xfdf\\x82\\xf3\\x86\\xfa\\xf0\\xf5}\\x06%\\xd9\\xa9\\xe4N\\xf4B\\xc1\\xd8\\x90r\\xd0\\xab\\x94\\xf4\\xc1j\\x9a\\xc3\\xd3\\xb8\\x81\\x89B4p\\x05\\xb5\\xc6k(\\xad\\xa4\\x9bTO/\\x1cF\\x7fN\\xa7\\xf5\\x8f\\xf8\\xe5\\x99\\xc8\\x8b\\x01\\xaf\\xeeD\\x9e\\x02q+\\xee\\xc8\\xb5\\\\:x\\x97\\xde\\x1a\\xc4\\xc4\\xec\\t\\xfc\\x0b\\x1d\\xcc\\x94u\\xda\\xecam\\xb0\\xc7\\x99\\xbc\\x18\\xde\\xe69\\x1f=Dy\\xa5\\xa4\\x8d\\xd2`\\xb3\\x05PK\\x03\\x04\\x14\\x00\\x00\\x00\\x08\\x00B\\x828NR\\xac#\\xe5\\xb5\\x00\\x00\\x00\\x0c\\x01\\x00\\x00\\'\\x00\\x00\\x00song_data/A/A/C/TRAACZK128F4243829.jsonu\\x8f\\xcd\\n\\xc20\\x10\\x84_%\\xe4,bZ\\xa5\\x8d\\x17I\\xb5\\xf6$\\x05\\x8b=\\t%6\\xa9\\r\\xa4)\\xe4G\\x10\\xf1\\xddMD\\xb1\\x17O\\xcb\\xee~3;\\xfb\\x80\\xca\\r\\x8d\\x19\\xd5\\xd5\\xc05@3\\x00\\xa9\\xb6\\xc2\\xd8F0\\xdfCr,Nu^#\\x94&\\x19N3\\x82\\x12\\xf8C$\\xb5\\xc2:\\xc6=\\xa8\\x9c\\x94\\x93\\x85\\xb7\\xfb\\xb7i\\xbdhT\\xc1{\\xe2\\xa4\\xe8\\xc0\\xc3\\xa8\\x12\\\\k\\n\\x0e\\x94\\x1b\\xabi\\x00B\\xb2O\\x96\\xaa,\\xca\\xaa\\xacQD\\xf6ID\\xa2t\\x95\\x07\\xc0G\\x90o\\xed\\xd9-\\x16\\x97n\\x17J\\x17+\\xc6\\xc1\\x8d\\x82m/\\xda^l\\x02\\xc7\\x9c\\xfe^\\x8eQ<G\\x11\\x8e\\x97~|\\xe7T\\x87\\xc71N\\x9e/PK\\x03\\x04\\x14\\x00\\x00\\x00\\x00\\x00\\xb9u<N\\x00\\x00\\x00\\x00\\x00\\x00\\x00\\x00\\x00\\x00\\x00\\x00\\x0e\\x00\\x00\\x00song_data/A/B/PK\\x03\\x04\\x14\\x00\\x00\\x00\\x08\\x00B\\x828N\\x94\\xab\\xfd,\\xfe\\x00\\x00\\x00\\x04\\x18\\x00\\x00\\x17\\x00\\x00\\x00song_data/A/B/.DS_Store\\xed\\x98Mn\\x830\\x10\\x85\\xc7.\\x0b\\xaaJ\\x95\\x97]r\\x85\\xdc\\x80:\\xb4\\x17\\xe0\\x02\\x95\\xb0\\x94.\\x92\\x10UM\\xd6\\x1c\\xb3W\\xe8-\\x1a3O\"\\x11\\xd3}~\\xde\\x87\\xac\\xcf\\x1e\\xc0\\xb30\\xc2\\x03\"\\xe2\\xe2>-D\\xc2\\xb1[\\x8a\\xda?\\x8aI\\xa9m\\x8e\\x87\\x9f\\xf3|y\\x8e\\xcdN\\xc8u\\xa1k\\xf7\\xba^-\\xda\\xae\\x9f\\xd6O\\xa3\\x9b\\xbei\\xd2\\xfe\\xbb\\x13\\xf9\\xe9\\x7f\\xdf\\xa7h2\\xa2\\xbbOk\\x86C\\xfb\\xb5]\\xf7\\xdbU\\x1e\\x8d-\\x9a\\x99\\xe2Y\\xa6n\\x8a&#jf\\x8a\\xb3LK3\\xd3\\xf2,\\xd3a\\x8a&#\\xaa\\x99\\xf8T\\x13Bn\\x0e\\x87\\xfd\\xfdI\\x08!d\\xfe~\\xa8\\xe0\\x1a\\x1e\\xd4\\x0e\\xe7=\\\\\\x9c\\xdc\\x13\\xe0\\n\\xae\\xe1a\\xf4\\xf1P{\\xb8\\x80K8\\xc0\\x15\\\\\\xc3\\x83\\xda!\\x8f\\x87\\x0b\\xb8\\x84\\x03\\\\\\xc1\\xb5\\x10B\\x0c\\x1eT!\\xef\\xffo\\xe3\\xf7?!\\xe4\\xdepE\\xd361w\\xfe\\xb9\\xc0\\xa3\\x10\\xf8\\x18G\\xf3B\\xe0\\xb4\\x08\\xf0\\xfa\\xb3\\xf0%\\xf7Y\\x08\\x10r\\x99\\xfc\\x01PK\\x03\\x04\\x14\\x00\\x00\\x00\\x00\\x00\\xb9u<N\\x00\\x00\\x00\\x00\\x00\\x00\\x00\\x00\\x00\\x00\\x00\\x00\\x10\\x00\\x00\\x00song_data/A/B/A/PK\\x03\\x04\\x14\\x00\\x00\\x00\\x08\\x00B\\x828N\\xe7u?\\xb4\\xa8\\x00\\x00\\x00\\xfc\\x00\\x00\\x00\\'\\x00\\x00\\x00song_data/A/B/A/TRABACN128F425B784.jsonu\\x8fK\\x0b\\xc20\\x10\\x84\\xffJ\\xc8Y\\xa5)-i\\xbd\\xa5\\xdaz\\xb0P_x-\\xc1V\\t\\xa4\\x1b\\xc8\\x03\\x11\\xf1\\xbf\\x9b\\xf8\\xc0^<\\xee\\xce7\\xb3\\xb3w\\x0cnh\\x8d\\x82\\x8b\\xc1sD&\\x08sm\\x85\\xb1\\xad\\xe8\\xfc\\x8c\\xd9nI\\x0f\\xc7\\x92\\x90\\x8c\\x16y^T\\x05\\xc1?Dr+\\xac\\xebz\\x0f\\x82\\x93r$\\xf8\\xb8\\x7f\\xca\\xc9\\x9b\\x14\\x84\\xec\\x05\\x97\\xe2\\xac4\\x08\\x8e\\xa6\\xa8f\\xa3`\\xe0C\\xff&\\x8c\\xe32\\x08\\xa1\\xe0\\xa7\\xd2\\xbe\\xd9\\xd6\\xabjCb\\x96f\\x8cfQT\\x06\\xc07\\x91/O\\xc3\\xd6V]!\\xec:\\xa7\\xbf\\xc7\\xe24\\x9f%\\t\\xa5\\xe1\\xc1[\\xcf\\xb5_E\\x8f\\'PK\\x03\\x04\\x14\\x00\\x00\\x00\\x08\\x00B\\x828NU\\xaa\\xf5\\xe3\\xc1\\x00\\x00\\x00\\x16\\x01\\x00\\x00\\'\\x00\\x00\\x00song_data/A/B/A/TRABAFJ128F42AF24E.jsonM\\x90\\xcd\\x0e\\x820\\x10\\x84_\\xa5\\xe9Y\\x89mEZo\\xfc\\xe8\\xc1`0j\\x0c7\\xd2@E\"\\x94\\xa4-\\x07b|w[#\\x91\\xe3\\xee7;3\\xd9\\x17\\x94CW\\xe8^\\xd6\\x1an\\x01Z\\x00\\xc8\\x95i\\xb4)\\x9a\\xca\\xce0<\\x93\\xc31\\xf6\\x11\\xa2A\\xc4\\xc2\\xdd\\x9a%\\xf0/i\\xb9i\\xccP\\t+\\xc4\\xd4\\xf3\\t\\xc5d\\x06\\xad\\xe5D\\x97\\x14y$\\x08\\x08\\x9b\\xe3\\xd2^\\xf7\\xd2\\x85d\\xaa\\xe5\\xb2\\xea\\x17`\\x9f\\xce\\xdc%\\xef\\x84\\xa3\\x11/\\x9f\\xda(!\\x0c\\x88\\xfaQ;\\x85\\xab\\xfb+x\\xc9N\\xb7<\\xcd\\x11\\x0ei\\x8c\\xd6+\\x9c\\xf8N`{\\xb5\\xdf\\xe3\\x94\\xabZ(p}p\\t\\xd2\\xe6.\\x1c\\xac\\x065Ec\\xb2\\xf1\\xb0\\xbfb\\xd4\\xaeG\\xc1\\x95{\\x01c\\xec\\xfd\\x01PK\\x03\\x04\\x14\\x00\\x00\\x00\\x08\\x00B\\x828N*\\xad\\na\\xd8\\x00\\x00\\x003\\x01\\x00\\x00\\'\\x00\\x00\\x00song_data/A/B/A/TRABAFP128F931E9A1.jsonM\\x90Qk\\xc3 \\x14\\x85\\xff\\xca\\xc5\\xe7.\\xa8I\\x96\\xb07e+\\rt\\xc9\\xe8\\xfa\\xd2\\x8dQ\\xdc\\x94!3\\n\\xc6\\xac\\x84\\xd2\\xff^--\\xcd\\xe3\\xbd\\xdf9\\xe7\\x1e\\xee\\x11\\xd9\\xb1\\xdf\\x0f\\xce\\xfe\\x0e\\xe8\\t\\xc8\\x02\\x90\\xf0A\\x0fa\\xafe\\x9c\\x11\\xdb\\xbc\\xf1v\\xdd\\x11RWK\\x9e?\\x97t\\x89\\xee\\x12#\\x82\\x0e\\xa3TQX\\xe0\\xac\"EY\\xce`\\x8c\\xbc\\xd1\\x87\\xaa\\xc80\\xae\\x08\\x9d\\xe3\\x9f\\xe8v6\\x1di\\xd5\\x01v\\xce\\xff-\\xa0\\xdd\\xcd\\xe2\\xad\\xe8U\\xc2[m\\'\\xd8\\xea>\\xa1T\\xf4Z\\xed\\xbdc]\\xc3?\\x08e\\x1c\\x93\\x9a\\x94\\xfc%\\tb#sq5\\xb0rF\\xc6\\xdc\\xd1\\xc3JX\\t\\x8d\\x85Wm\\x15|\\xae\\xf5\\xbf\\x02\\x16`\\xe3&a\\x80\\x99o\\xe5C\\x94\\x18\\xf3\\x95\\x02\\xe4\\xe8o\\xc5\\x8a<\\xcb\\x1fi\\x9d\\x9e2)\\xe1\\xe3\\x86b\\x8cOgPK\\x03\\x04\\x14\\x00\\x00\\x00\\x08\\x00B\\x828NYr\\x8e\\xc4\\xc5\\x00\\x00\\x00\"\\x01\\x00\\x00\\'\\x00\\x00\\x00song_data/A/B/A/TRABAIO128F42938F9.jsonu\\x8eA\\x8b\\xc20\\x10\\x85\\xff\\xca\\x90\\xb3,\\x8d\\x15\\xd7\\xee-\\xd5UaY\\x15\\xab\\x08^d\\xb4Q\\x0b\\xe9\\x04\\xd2\\xe4P\\xc4\\xff\\xeeD\\x14\\xbdx\\x9c\\xf7\\xbe\\xf7\\xe6]\\x04\\x85z\\xd7X:5\\xe2\\x07d\\x07\\x04:_5~W\\x95|\\x0b\\xb5\\xcc\\xd4f6\\x96r\\xf0\\x9dg*O\\xf2\\x9ex!\\x06}\\xe5C\\xa9\\x19\\xa4`\\xcc\\x9b\\xc1u\\x9f\\x9c\\x03\\x87,\\xc5\\xeeB\\xa3\\xf7Fw`\\x83\\xcd\\xb9\\xa2\\x93\\xb7\\x04\\xebB\\xbd= \\xacu$\\xff4Q\\x0b\\x138r\"8Fa\\x84\\xae50Ec\"\\x1e\\xe7?\\x06\\x17\\xf3\\xedt1\\x19\\xc9\\xae\\x1a\\x0ce\\x9a\\xf5\\xc6\\xbf\\x11\\xe0\\x9d\\xe6\\xde\\x94\\xe3\\xbe\\x85\\xa1\\xad5\\xac,\\xfc\\xeb\\xe8\\x95\\xc1=\\'u\\xd3\\xfeW\\x96&\\xb2\\xcfr\\xab\\xd1\\xb1\\x94\\\\oPK\\x03\\x04\\x14\\x00\\x00\\x00\\x08\\x00B\\x828N\\x1em\\xadm\\xa5\\x00\\x00\\x00\\xfa\\x00\\x00\\x00\\'\\x00\\x00\\x00song_data/A/B/A/TRABATO128F42627E9.jsonu\\x8e\\xcb\\n\\xc20\\x14D\\x7f%d-b\\xd2\\xaa\\xa9\\xbb`\\x1f\\x1b\\xa1\\xd2\\x82.K\\xb0A\\x03i\\x02y,D\\xfcwoD\\xb1\\x1b\\x97w\\xe6\\xcc\\xdcy`\\x13\\xa7\\xc1[s\\xf5x\\x87\\xc8\\x02a\\xe1\\x82\\xf2aP#\\xdc\\x98wms\\xee8\\xa1\\xb4`\\xac\\xae\\xaa|\\x8d\\x7f\\x88\\x16A\\x858J\\x00M\\xd4zf@\\xdd?\\xe7\\x02!kR\\xf7\\xac\\xc9\\x88I&i\\x7fspZ\\x8fJa\\xc0HD\\x9a\\xf6\\x19\\xd3\\xb7\\xfd\\x81\\x9f\\x1aB9\\xdb\\x93,+\\xb6u\\x02`\\x83~\\x87Ki\\xd0Q(\\xc4\\xb5M\\xfa\\x18\\xdd\\xf7\\x15\\xcd\\xb3%\\xa3\\x9b\\xbc\\x00\\xf9.\\x85\\x03i\\xf5|\\x01PK\\x03\\x04\\x14\\x00\\x00\\x00\\x08\\x00B\\x828N\\xba\\x07\\xe2\\xe0\\xbd\\x00\\x00\\x00\\x19\\x01\\x00\\x00\\'\\x00\\x00\\x00song_data/A/B/A/TRABAVQ12903CBF7E0.jsonM\\x8e\\xdd\\n\\x820\\x18\\x86oe\\xec\\xb8d[\\xab\\xb9\\xce\\x9c\\x16DH\\xa0Bt$#\\xad\\x06:a\\xce \\xa2{o\\x93$\\x0f\\xbf\\xef\\xfd{\\xdeP\\x0fm\\xd9w\\xfa\\xde\\xc3-\\xc0\\x0b\\x00\\xa5\\xb1\\xaa\\xb7\\xa5\\xaa\\xdc\\r\\xa3,\\x15\\x19\\xbd`\\x1c2\\xc19G;\\x01\\xff\\x96FZe\\x87\\xaav\\xc6\\x15\\x0b\\x18\\xe3x3\\x13]\\xe5\\xa4.1!\\x01%\\x08\\xad\\xe7\\xfa\\xd5\\xc5;\\xedWb\\xd9\\xa8[g\\xb4\\x92`\\t\\xf2\\xfdlB\\xcb\\xb6\\xf6\\x8eD>U\\x05R\\xff\\xd5^\\xf6\\xc0?\\xc4\\xfcT\\x14\\xc91\\xc7$\\x12\\x08\\x87\\xc9\\x86\\x8f\\x88\\x8e\\xac\\x19\\x93\\x07\\x0b\\xce\\x9d\\xb6@\\xd4 ~\\x18\\xd7\\xd9\\xca\\xde\\x1b\\xaa\\xc1L\\xfb\\x84\\xe2\\x80\\xb25\\xf5\\xf4\\xafZ\\x1a\\xf7B\\x9f/PK\\x03\\x04\\x14\\x00\\x00\\x00\\x08\\x00B\\x828N/\\x80<\\xd0\\xbf\\x00\\x00\\x00\\x16\\x01\\x00\\x00\\'\\x00\\x00\\x00song_data/A/B/A/TRABAWW128F4250A31.jsonM\\x8e\\xc9\\n\\xc20\\x10\\x86_%\\xe4\\xac%\\xa3\\xa9i\\xbd\\xd5\\xa5\\x07E\\xea\\x86\\x1e%\\xd8\\xa8\\xc1:\\x85&\\x15\\x8a\\xf8\\xee&b\\xb1\\xc7\\x99\\xef\\xdf^\\x14\\xeb\\xc7\\xc9\\x94x5tL\\xa0G\\xa8\\xac\\xac6\\xf6\\xa4sw\\xd3d\\xbb\\x89\\'\\x19\\x07\\x88D:\\t\\xa7)\\xa4\\xf4/)\\xa4\\xd5\\xb6\\xce\\x95\\x13r\\x16\\xc41\\x17\\xd0\\x81.\\xb2\\xa5}!\\x82\\x11\\xe3!\\xef\\xe2\\xb3s\\x97\\xe8K\\xd6\\n\\xd14\\xc5S\\xa2\\x96\\x9dx\\x94\\x0f\\xe5\\xf1\\xa2\\xbc!\\x99\\xc9\\xa76\\x1e\\xfa\\xa9\\xbfq\\xbblu8\\x1e\\xf70H\\xc2(\\x11\\xc9\\x9c\\x85^\\xe06\\x15_\\xdf\\x12\\xcb\\xf3]\\xe5$\\xab-\\xc9.d\\x7fSd-\\xab\\xbb\\xd7\\xe4u\\xd5\\xb6C4\\x0c@0\\x18\\xb9w\\xa3d\\xe5^\\xec\\xfd\\x01PK\\x03\\x04\\x14\\x00\\x00\\x00\\x08\\x00B\\x828N\\x8c\\x89\\x14\\xc6\\xaf\\x00\\x00\\x00\\xff\\x00\\x00\\x00\\'\\x00\\x00\\x00song_data/A/B/A/TRABAXL128F424FC50.jsonM\\x8e_\\x0b\\x820\\x14\\xc5\\xbf\\x8a\\xec\\xb9\\xa4\\xbb\\xcd\\xd4\\xdeL\\x10\\xa2\\x7f\\xa4\\x19\\xf6$#W\\x8dt\\xc2\\x9c\\x0f\\x11}\\xf7\\xb6H\\xf2\\xf1\\x9e\\xdf\\xb9\\xe7\\x9c\\x17\\x92}Sv\\xad\\xbcuh\\xe1\\xc0\\xc4ALi\\xd1\\xe9RT\\xe6FQ\\xba\\xce7Y\\x01\\x10\\xf8\\xc9\\x92zI@\\xd1\\xdfR3-t_qc$\\xa1K\\xc3\\xd0\\xa7#h\"\\x07:\\x05\\x00\\xd7\\xa3>\\xc1c~1\\xef\\xad\\xb4-\\xb9f\\xf7Q\\xaed\\r\\xb7\\xf2Q\\xb1\\xabxX`\\xf7\\xfd\\x16e\\xfb\\xc3i[\\xa4\\x80\\xa3\\x00b\\x0c4 \\xd6`\\x86\\xd4\\xfc\\x8bY\\xad\\x9d\\x95tv\\xe7\\xd8\\xeaU\\xaf\\x86\\x16\\x8a\\xa9\\x0b\\x98\\xcc\\x89\\x91\\x9f\\x9c)#\\xcd\\xde\\x1fPK\\x03\\x04\\x14\\x00\\x00\\x00\\x08\\x00B\\x828NQ\\xf0\\xb1\\xd1\\xcb\\x00\\x00\\x00#\\x01\\x00\\x00\\'\\x00\\x00\\x00song_data/A/B/A/TRABAXR128F426515F.jsonM\\x8e\\xdd\\x8a\\xc20\\x14\\x84_%\\xe4\\xda-9\\xd1\\xb6\\xee\\xee\\x95\\xddU\\xf1\\x07\\x05\\x8bx)\\xc1\\x84\\x1alO IE\\x11\\xdf\\xddD\\x14{yf\\xbe337\\x8am\\xb3w\\x06+G\\x7f\\x08\\xf4\\x08\\x15\\xd6k\\xe7\\xf7Z\\x86\\x9b\\x8e63>/\\x17\\x00\\xc3|R\\x0c\\xbe\\xb3\\xf1\\x84~\\x90Zx\\xed[\\xa9\\x02\\x98B\\x92\\xb2\\xac\\xcf;f\\x88|\\xbb_,\\x01\\x9e\\xc3\\xa0\\xeb\\x1e\\xc2\\xb3\\xc1\\xd8\\xb14(\\r\\xf6\\xc8\\x18\\xabZ\\xa0\\xec\\x14\\xa0hT$V\\xfap\"3\\xac\\x1a\\x81\\xbfSq\\xbe\"\\xd9Y]\\x1d}D\\xe3\\xf4\\xd7\\xd8r\\xfd\\xbf\\x9d\\x17%\\xf0\\xd1\\xf0\\x0f\\xfa\\x1cR\\x16\\x81\\xb0\\xb1~\\xa6\\xec\\x94s\\xeaB\\x96\\xc6)G\\x04)\\xac\\x96*\\x02\\xb2\\xb5\\xef-\\x00\\x90d\\x9c\\xe5y\\x90\\xafJ\\xd8 \\xb1\\xfb\\x03PK\\x03\\x04\\x14\\x00\\x00\\x00\\x08\\x00B\\x828N\\xad)\\xbc\\x02\\xad\\x00\\x00\\x00\\n\\x01\\x00\\x00\\'\\x00\\x00\\x00song_data/A/B/A/TRABAXV128F92F6AE3.jsonuNM\\x0b\\x820\\x18\\xfe+c\\xa7\\x82\\x08\\xa7\\x98\\xdamK=\\x05\\x91]\\xbc\\xc9p#\\x06s\\xc2>\\x82\\x88\\xfe{\\xef\\xa8\\xc8K\\x97\\x17\\xde\\xe7\\xfb\\x81M\\x98\\x067\\x9b\\xab\\xc3{D6\\x08s\\xeb\\x95\\xf3\\x83\\x12\\xf0c\\xda55cgB\\xca\\x82U%m\\xdb\\x1c\\xff$\\x9a{\\xe5\\x83\\x90 4A\\xeb\\x05\\x01q\\xff\\x98\\x11L\\xb3\\x89\\xd9\\x8b$\\xc3\\'\\x19\\xa1F\\x08%\\xd1\\x81\\xeb\\x9b\\xb4>\\xf2q\\xd8g\\xca\\xe5\\xc4X\\x7f\\xecIJ\\xf3\\x92\\x16U]\\xd3(\\x80\\x05\\xfam\\xb5j\\xe4h\\x95&I\\x8ej\\x05\\xf5\\\\\\xa3NN\\xdcyi\\xd7Q)\\x82\\xfdV\\x93\\xac\\xdc\\xee2\\xb8\\x00\\xdf%\\xb7\\x00%\\xcf\\x17PK\\x03\\x04\\x14\\x00\\x00\\x00\\x08\\x00B\\x828N\\x0fj\\xbf\\x95\\xa4\\x00\\x00\\x00\\xf6\\x00\\x00\\x00\\'\\x00\\x00\\x00song_data/A/B/A/TRABAZH128F930419A.jsonuO\\xcb\\n\\xc20\\x10\\xfc\\x95\\x92\\xb3H\\xd3\\x8ai\\xbd5\\x14\\x14z\\x10\\x9f\\x07/%4A\\ni\\n\\xd9\\xe4 \\xe2\\xbf\\xbb+\\x05{\\xe9mwfvf\\xf6\\xcd\\\\\\x1cZ\\x18\\xdd\\x13\\xd8.\\xe1\\xab\\x84)\\x1fz\\x08m\\xafqg\\xd5Y<\\x9a\\xc3\\x89\\xf3B\\xc8\\xb2\\xa8k\\x91\\xb3\\xbf\\xc4\\xaa\\xd0\\x87\\xa8\\r\\n]\\xb4vF\\xa0\\xdd\\x12\\xd3\\xe1\\xd1\\xe8\\xc8{\\xe6\\xe4\\xd4`\\x08\\xda[\\xa5\\t\\xa6>S\\x83\\xcb\\xf1zk\\xee\\x92g\\x95Ly\\xc17B\\x90\\x00\\x83\\xed\\xefBZ\\x03`tR\\x01D\\xaf\\\\g\\x88\\xd58N)\\x99H\\xd7\\xdb4C\\xf0e\\x94\\xa7\\x17\\xcb2\\xff|\\x01PK\\x03\\x04\\x14\\x00\\x00\\x00\\x00\\x00\\xb9u<N\\x00\\x00\\x00\\x00\\x00\\x00\\x00\\x00\\x00\\x00\\x00\\x00\\x10\\x00\\x00\\x00song_data/A/B/B/PK\\x03\\x04\\x14\\x00\\x00\\x00\\x08\\x00B\\x828N\\xf9s*S\\xbc\\x00\\x00\\x00\\x14\\x01\\x00\\x00\\'\\x00\\x00\\x00song_data/A/B/B/TRABBAM128F429D223.jsonM\\x8e\\xcd\\x0e\\x820\\x10\\x84_\\xa5\\xe9Y\\x08\\xcb\\x8fPo\\x88\\x015$\\x18\\xb8x#\\x8d\\xad\\xa6\\x11J\\x02\\xed\\xc1\\x18\\xdf\\xdd\\x96H\\xe4\\xb83\\xf3\\xed\\xcc\\x1bK\\xdd\\xb7\\xd3 \\x1f\\x13\\xde!\\xd8 LG%&\\xd5\\nfn\\x9c\\xd6\\xfb\\xe2z*\\xc0\\xf7I\\x92\\xe4\\xa1G\\x0e\\xf8\\x1f\\xe9\\xa8\\x12J3n\\x82A\\xec\\xc61\\x81\\xed\\xca4/\\x17\\xd71\\xbc\\x1b\\xfa\\x9e\\x17\\xad\\xfd\\x9b\\xc1\\x07i[2\\xda\\x89\\xfb0JA\\x91\\x83\\x9a|U!i\\xcfm\\xa2Q\\x9cw\\xa8\\xa6BZ\\xd3\\xce\\xfd\\rl\\xaa\\xea|\\xa9\\x8f\\xe0\\xa7I\\x06!\\x10\\x12\\xd9\\x80\\xd9\\xd5\\xcd\\\\9P\\xc6\\x19*\\xc5\\x93\\xa3\\x14\\x15z\\xc6\\x99\\x1e\\x97j\\x88\\x03\\x17\\x08\\x04\\x89\\x91_\\x9c\\x8eF\\xf2>_PK\\x03\\x04\\x14\\x00\\x00\\x00\\x08\\x00B\\x828N\\xa6\\xb8\\x94n\\xa7\\x00\\x00\\x00\\xfd\\x00\\x00\\x00\\'\\x00\\x00\\x00song_data/A/B/B/TRABBBV128F42967D7.jsonu\\x8e\\xcd\\n\\xc20\\x10\\x84_%\\xe4,b\\x1ahSoM\\x0b^,\\x85\\xf6\\xe0\\xb1\\xacm\\x90B\\x9a@~\\x0e\"\\xbe\\xbb\\x1bQ\\xec\\xc5\\xe3\\xce7;3\\x0fj\\xe2:zkn\\x9e\\x1e\\t\\xdb\\x11\\n.,>\\x8c\\xcb\\x8c7\\xad\\xfabh\\xe5\\x891Q\\xc8R\\x96\\x87<\\xa7?\\x8b\\x86\\xb0\\x848+4\\x9a\\xa8\\xf5\\x06`\\xdc?2\\xe1\\x935){\\x93d`UI:[OZ0V[\\x9fh\\x9a\\xf5\\x192t\\xb2\\xee\\x86\\x0b\\xcb*Q3\\xde\\xf0R$\\x03\\xf6\\xeb\\xf7c\\x1f\\xd7+\\x90F\\x11\\tnR\\xd8\\x0f\\t\\xcf\\xd1}\\xdb2&\\xf6\\\\\\xf0,C\\xf9\\xae\\xc0\\xa1tx\\xbe\\x00PK\\x03\\x04\\x14\\x00\\x00\\x00\\x08\\x00B\\x828N)u\\xbe\\x96\\xbe\\x00\\x00\\x00\\x16\\x01\\x00\\x00\\'\\x00\\x00\\x00song_data/A/B/B/TRABBJE12903CDB442.jsonM\\x8e\\xd1\\n\\x820\\x14\\x86_Ev]\\xb2\\xb5\\x9a\\xab;5\\xf2&\\x14\\xd3\\x1b!\\x90C\\xae\\x1a\\xcc\\t:\\x83\\x88\\xde\\xbd-\\x92\\xbc<\\xe7\\xfb\\xce\\xf9\\xff\\x17\\xd2c[\\x0f\\x9d\\xbe\\rh\\xe7\\x91\\x85\\x87\\xa07r0\\xb5l\\xec\\x8c\\xc2S\\x12W\\xa4\"\\x84\\x07\\xd16\\\\\\x1f\\xc2\\r\\xfa+\\n\\x8c4c#\\xacH\\x99OX\\x10\\xf0\\x19\\xb4/\\'\\xba\\xe4\\xcc\\xb7\\x90\\xb29\\xbe\\xd8\\xebN\\xbb\\x90\\x14\\x86\\xfbC*%\\x16^\\x99\\xfa\\xb3\\x00\\r\\xadpB\\xa2\\xba^\\x82\\x06\\x87\\\\\\xd5_\\xb9\"\\xcb\\xb3\\xf2\\x98\\x93U\\x18a\\xc2\\x19\\xdfc\\'\\xd8N\\xea{\\x15+\\xd1\\nm\\xa4\\x06\\xaf\\x00m\\xe0z\\x1e1\\x16\\xdc9\\xcd\\xd8O\\xe9dC}J9]\\xd9\\xf5S@oW\\xf8\\xfd\\x01PK\\x03\\x04\\x14\\x00\\x00\\x00\\x08\\x00B\\x828N\\xb6\\xe6\\x8f\\xae\\xc1\\x00\\x00\\x00\\x19\\x01\\x00\\x00\\'\\x00\\x00\\x00song_data/A/B/B/TRABBKX128F4285205.jsonM\\x8e]\\x0b\\x820\\x18\\x85\\xff\\xca\\xd8UA\\xc8>rfw.\\xf1\\xc2\\x88\\xc0.\\xbc\\x94\\xa5#\\x86:aSH\\xa2\\xff\\xde\\x16I^\\xbe\\xe7<\\xe7\\xbc\\xe7\\x05\\xf5\\xd4Wv\\xd0\\x0f\\x0b\\x8f\\x00\\xef\\x00\\x14fTv\\xacT\\xe3n\\x98\\x14\\x94eq\\x8e\\xf1!\\xca\\xf8\\x1e\\xb1\\x0c\\xc3?\\xd2\\x89Q\\x8dS#\\x1d\\x18\\xb2\\x80D\\x0c\\xc5+\\xd3U.n\\x1c\\x84\\x98\\xc5\\xe1\\xda\\xac]v\\xd0\\xfeE*u/L\\xbb\\xea\\xd5\\xa2\\x97\\xde\\xe1C\\x7f\\x173(\\x86\\xba\\x95\\xc6z\\xc0\\xef\\xfc-\\xbb]\\xf9\\xb9LsL\\x92\\xc3\\tSN2\\xea\\x017\\xa8\\xfbfK\\xd55.i%\\xd8pQ\\xb7\\x80\\x00.\\xac\\xaa-\\xb8\\xa8\\xe7\\xd6\\x93\\xcdd\\x96\\t\\x84\\xa2 \\xc2\\x14\\x11\\'\\xcfR\\x18\\'\\xa1\\xf7\\x07PK\\x03\\x04\\x14\\x00\\x00\\x00\\x08\\x00B\\x828NJ\\x06C\\xfe\\xbf\\x00\\x00\\x00\\x14\\x01\\x00\\x00\\'\\x00\\x00\\x00song_data/A/B/B/TRABBLU128F93349CF.jsonU\\x8e]\\x0b\\x820\\x18\\x85\\xff\\xca\\xd8UA\\xc8V\\xea\\xb4;?\\xf0BA\\xc9\\xa0\\x8bnd\\xe5\\x90\\x81N\\x98\\x1b\\x18\\xd1\\x7fo\\x8b$\\xbb|\\xcfy\\xdes\\xce\\x13\\n=4\\xd3(\\xba\\t\\x1e\\x01\\xde\\x01H\\xa5\\xe2\\x93jxkn\\x18\\xd5eY\\xa4\\x05\\xc6\\x01\\x89\\xc3 \\x8eS\\x0f\\xfe\\x90\\x9e*\\xaet\\xcb\\x0c\\xe8zN\\x80\\xc8\\xde_\\x99&rq\\xb1\\xe7\\x84>\\xf93\\xef\\xe6w\\x14\\xb6\\xe2J;\\xc9n \\x91\\xa3\\x91\\xe8*^\\xd0\\x81Y \\xe7b\\xb6\\xb2\\x1d\\xf9\\x9du\\xae\\xb2\\xb2:\\x15x\\x1f\\xc5\\x08\\x07.\\xca\\x12\\x0b\\x985\\xfd\\xe7\\xa3\\xd0J\\x81L2\\x066i\\x0e.c\\xaf\\x07\\x06j6\\xf0yk\\xb9V\\xcb\\xa5\\xddE\\xc49\\x90\\x10\\xbbF~0*\\x8d\\x84^oPK\\x03\\x04\\x14\\x00\\x00\\x00\\x08\\x00B\\x828N\\xb8<\\xa7q\\xa7\\x00\\x00\\x00\\xfa\\x00\\x00\\x00\\'\\x00\\x00\\x00song_data/A/B/B/TRABBNP128F932546F.jsonu\\x8e1\\x0b\\xc20\\x14\\x84\\xffJ\\xc8\\xe0$\\xd2\\xd4\\xb4\\xa9n\\x8d\\xd0B\\x97\\xa2-\\xae%\\xd8\\xa0\\x85\\xf4\\x15\\x9ad\\x10\\xf1\\xbf\\xfb\"\\x8a]\\x1c\\xdf\\xddw\\xf7\\xeeA\\xc1\\x8f\\x9d\\x9d\\xe0j\\xe9\\x9e\\xb05\\xa1jv\\x83u\\xdd\\xd0\\xe3M\\xf3S\\x1a7u\\xc5X&\\n\\xc9\\x85\\x94\\t\\xfd!F\\xb9\\xc1\\xf9^#\\x08\\xde\\x98\\x85\\x81u\\xff\\x9c\\x0b\\x86&\\x08\\xdd\\x8b&P\\xa3\\x0e\\xd2\\xe1\\xa6\\xac&+\\xd28\\xe5\\xbc\\r@X\\xf6\\xd9\\xd2\\xd4\\xe5\\xf9XV,\\xcee\\xc4D\\xc1\\xd2]\\x00p\\x82yg[\\r\\xa4\\x9d\\x00tP{?\\x7f\\xffl\\xb7b\\x93f\\x9cs\\x94\\xefZ\\xcd(\\xc5Q\\x94<_PK\\x03\\x04\\x14\\x00\\x00\\x00\\x08\\x00B\\x828N\\xcf\\x03\\x02\\xcf\\xbf\\x00\\x00\\x00\\x19\\x01\\x00\\x00\\'\\x00\\x00\\x00song_data/A/B/B/TRABBOP128F931B50D.jsonu\\x90\\xcd\\n\\xc20\\x10\\x84_%\\xe4\\xa4 bj\\xb1\\xd6[\\x83VA\\xc1bE\\xd0K\\x89\\xedR\\x03i\\n\\xf9\\x11\\x8a\\xf8\\xee&\\xa2\\xd8\\x8b\\xc7e\\xbe\\x99\\x9d\\xdd\\x07\\x96\\xb6)t+k\\x8d\\x17\\x88\\x8c\\x10f\\xcapm\\n^\\xb9\\x19\\'\\x07\\xba\\xa2\\xf4L\\xc8<\\xa21\\r\\xa7K\\x8a\\x7f\\x88`\\x86\\x1b[\\x81\\x03\\xa5\\x15\\xa2\\'\\xb8\\xb8\\x7fJ\\xe9L\\xad\\xf4\\xd9k\\xc6%\\xe8;\\x17\\x02F(\\xdd\\xf5\\x82%k\\xc0\\x13\\xc7\\xb6A\\x19\\x18\\xd3y\\xcdw\\xfc\\xb4\\xca\\xf7i\\xba\\xbd\\xe4$H\\xe8\\x84D)\\x89C\\x0f\\xb82\\xe2mK\\xd0\\x86\\xd77P(\\x13\\xac\\x044H\\xc4\\xd56\\xe8\\x04J\\xbb\\xcdC\\x8fVV}k\\x04\\xd3\\xd9\\x98D\\xc1\\xcc\\x9f\\xde\\x01S\\xfe\\x0bq\\x1c>_PK\\x03\\x04\\x14\\x00\\x00\\x00\\x08\\x00B\\x828N\\x0f\\xc9F[\\xf0\\x00\\x00\\x00b\\x01\\x00\\x00\\'\\x00\\x00\\x00song_data/A/B/B/TRABBOR128F4286200.jsonu\\x8fAK\\xc3@\\x10\\x85\\xff\\xca\\x92\\xb3H\\xd7h\\x9b\\x9a\\x83lR\"H\\x8b\\xd2\\x80 \\x08e\\xcd\\x0e\\xe9\\xc0d\\x066\\xbb\\x82\\x88\\xff\\xdd]Q\\xec\\xa5\\xc7y\\xef\\xcd\\x9b\\xf9>\\x0b\\x8e\\xd3a\\x16\\x1e\\xe7\\xe2V\\xe9\\x0bUX\\x1fp\\x0e\\x07ti.\\xcc~\\xb3\\xbf6\\xad\\xd6\\xd5\\xaak\\xca\\x956\\xba\\xf8\\x8f\\x90\\r\\x18\\xa2\\x83\\x14\\xe4Htb\\xa4\\xbas\\xce\\x90\\x96\\x84s\\xf7I\\x13\\xdb\\t\\xb2\\xb4\\x13\\x0e3xo\\x83j\\xed\\x9b%z\\x8d\\x8b\\x05\\xac\\xeb\\'\\xb2\\x03:Q\\x1b\\x99\\x90G\\xa9\\x9fq\\x00\\x0e\\xa0z\\xeb\\x1d2x\\xa9\\x1f\\xa2\\xc3pT\\r\\xc1\\x08\\\\\\xf7\\xc7T\\x82Dj\\x87\\xc40\\xd7\\xf7 ~T\\xbdP\\xc0|5\\xe3\\xfe\\x02\\xf6\\x8f\\x8dy\\xd9n\\xf5\\x95\\xa9Z]V\\xa6[\\xe7@\\xe2\"\\xf8\\xb1\\x85EYv\\xe9\\xe9;\\xd5\\xa5\\xdb\\xf0.\\xca\\xa1r\\xe2\\'\\xf4\\x90\\xb3.\\xfa?\\xa4\\x1b\\xad/\\xf5\\xb2\\\\\\x96I\\xfe\\x00\\xeb\\x93\\xb4\\xf8\\xfa\\x06PK\\x03\\x04\\x14\\x00\\x00\\x00\\x08\\x00B\\x828N\\x1a\\xe9\\x8f\\xa5\\xb7\\x00\\x00\\x00\\x11\\x01\\x00\\x00\\'\\x00\\x00\\x00song_data/A/B/B/TRABBTA128F933D304.jsonu\\x8e\\xbd\\n\\xc20\\x14\\x85_\\xe5\\x92\\xc1I\\xa4iP\\x83[\\n\\xfe\\x0cJ\\xc5\\x0e\\xe2TJ[l4\\xcd\\x85\\xfc\\x0cE|w\\x13Q\\xec\\xe2x\\xcf9\\xf7\\xe3{\\x10\\xed\\xfb\\xd2\\xa2\\xbeZ\\xb2\\x02:\\x05R\\x19\\'\\xad+e\\x13n\"Nb\\x9b\\xa59\\xa5|\\xb9\\xc9\\x98\\xa0\\x0bJ~\\x13U9\\xe9|\\xd3\\x86\\xa1\\xf6J\\x8d\\x8a\\x80\\xfb\\xd7\\xd4\\xe1\\tud\\x8fH\\xba\\xea\\xdb\\x18\\x1d}\\xdd!L`\\'-\\xec\\xc3PC\\x81^Af\\xd0u\\xad\\xb1\\xf1#\\xaa~\\xe4\\x8a|\\xbf\\xbe\\xecr\\x9a\\x8a,\\xa1\\x9c\\x0b>\\x8f\\x83\\xe0\\xa4\\xde\\xb0-:8\\x0cp\\xc0\\x1b\\xc2\\x19\\xcd]\\xeaX7\\xde|\\r\\x18\\xe3\\xb3\\x94\\xb1$\\r\\xf1\\xd0V&D\\xc9\\xf3\\x05PK\\x03\\x04\\x14\\x00\\x00\\x00\\x08\\x00C\\x828N.\\xcf\\x981\\xb0\\x00\\x00\\x00\\x0b\\x01\\x00\\x00\\'\\x00\\x00\\x00song_data/A/B/B/TRABBVJ128F92F7EAA.jsonu\\x8e\\xbb\\x0e\\x820\\x14\\x86_\\xa5\\xe9l\\x0cEn\\xbaA\\xb88(\\x18\\x99t!\\rmLCi\\x93\\xd2\\x0e\\xc6\\xf8\\xee\\xb6\\xa8\\x91\\xc5\\xf1\\xfc\\x97\\xef\\xfc\\x0f(\\xcc\\xd8MR\\xdc&\\xb8\\x03h\\x05 V\\x9aM\\xbac\\xc4\\xde0=\\x17\\xf9\\xc1\\x8f\\x11J\\xe22\\x0b\\xbc2\\x08\\xe0/\\xc2\\xb1f\\xda\\x10j\\x83\\xc2p\\xbe0,\\xee\\x9f\\xd3\\xdb\\x92\\x14\\x8e\\xbd \\t<R\\'\\xb5\\xd2pp\\xa4\\x03\\x16lp\\xb6\\xdb\\xf5Y\\xd26\\xa7\\xa2\\xba\\xd6\\xc8O3\\x0f%(\\xdb\\xe4.`\\x07\\xf0\\xb9YQ\\r.\\xd2(\\xb0\\xa7\\x98\\x80V\\x9b~\\x00\\x8dxK5\\xedg\\x1a1\\xea\\xfb<\\x08\\xd7Q\\x84\\xc2\\xadU\\xef\\x14+\\xabx\\xcf\\x17PK\\x03\\x04\\x14\\x00\\x00\\x00\\x08\\x00C\\x828Nq\\x98\\xc7\\xe6\\xb5\\x00\\x00\\x00\\x0c\\x01\\x00\\x00\\'\\x00\\x00\\x00song_data/A/B/B/TRABBXU128F92FEF48.jsonu\\x8f\\xcd\\x0e\\x820\\x10\\x84_\\xa5\\xe9\\x99\\x18\\xca\\x8f\\x05oU\\x0fb\\xc4\\x1f\\xd4\\xc4\\x1bih\\xa3\\rP\\x92\\xd2\\x1e\\x88\\xf1\\xddm\\x89F.\\x1ew\\xbf\\x99\\xd9\\xd9\\'\\x94\\xa6-\\xfbN\\xde{\\xb8\\x00\\xc8\\x03\\x90*-z]\\nfgH\\x8a\\xe3|\\x1f\\x13\\x84\\x12\\xbcL\\xd35\"!\\xfcI\\x1a\\xaa\\x856\\x8c[\\xa14M3\\x016\\xee\\x1f\\xa9\\xac\\xa9\\x93.{C[\\xadh[\\xd5\\x1e\\xc8\\xb3I\\xac\\xa4-w<\\x17\\xbaz\\x80b`\\\\9\\xea:~Z\\x9d\\x0f\\xb7lw=\\xa1\\x80\\xc4\\t\\xc1+\\x1c\\x10\\'\\xb0e\\x9a\\xd1\\xb8\\xe5R\\x0e\\xe0Bk\\x0e((\\x04\\xe3\\x8e2\\xa3\\xbe\\x97\\x03\\x1f\\xcf\\xa2\\x10\\xa7\\xee\\xdb\\x81S5\\xae\\xfc\\xe8\\xf5\\x06PK\\x03\\x04\\x14\\x00\\x00\\x00\\x08\\x00C\\x828N\\xf1%I\\x97\\xb0\\x00\\x00\\x00\\t\\x01\\x00\\x00\\'\\x00\\x00\\x00song_data/A/B/B/TRABBZN12903CD9297.jsonu\\x8e\\xcd\\n\\xc20\\x10\\x84_%\\xe4,\\x92\\xd4\\xfaSo\\xadP\\x0f=\\x08\\xad\\x17A(\\xc1.m \\xdd@\\x93=\\x88\\xf8\\xee&\\xa2\\xd8\\x8b\\xecig\\xbe\\x9d\\x9d\\x07G\\x1a[g\\xb1w|\\xcf\\xe4\\x82q5y\\xed|\\xab\\xbb\\xb0\\xf3\\xbc>6yY\\xcbd\\x93\\x95\\xc5j-\\xb6\\x82\\xff\\x10\\xa3\\xbc\\xf6\\xd4A\\x00\\x91\\x8c\\x99\\x19!\\xee\\x9fs\\x0bG\\x16c\\xf6,\\t\\xd5\\x08Q*\\x8c\\xc6\\xde[\\x04\\x17\\xcd\\xd8\\xea\\xd3\\xa39\\x9d\\x0fUu\\x91I^\\x08\\xb9\\xcbe*#\\x10\\xde\\x1bx\\xdb\\x16\\x11&\\r\\xcc\\xa80@\\xe6JB@\\xc6\\x06\\xcd\\x06KD\\x11\\xeeh\\xfa\\xbeN\\xb2\\xe5:ME\\x1a\\xd4;\\xa8)(\\xe2\\xf9\\x02PK\\x03\\x04\\x14\\x00\\x00\\x00\\x00\\x00\\xb9u<N\\x00\\x00\\x00\\x00\\x00\\x00\\x00\\x00\\x00\\x00\\x00\\x00\\x10\\x00\\x00\\x00song_data/A/B/C/PK\\x03\\x04\\x14\\x00\\x00\\x00\\x08\\x00C\\x828N\\xb0[rG\\xaa\\x00\\x00\\x00\\xff\\x00\\x00\\x00\\'\\x00\\x00\\x00song_data/A/B/C/TRABCAJ12903CDFCC2.jsonu\\x8e\\xcf\\x0b\\x820\\x14\\xc7\\xff\\x95\\xb1sDOS\\xb4\\x9b\\nAd\\x18I\\x05]d\\xe9\\xb0\\xc5\\x9c0\\xdf\\x0e\\x11\\xfd\\xefmR\\xe4\\xa5\\xe3\\xfb\\xfez\\x9f\\'U\\xa6\\xab\\x86^\\xb5\\x03]\\x11\\x98\\x11\\xca4\\x8a\\x01+\\xd1\\xd8\\x9b&\\x87c~\\xc96\\xe0-!\\x8d\\xb3(\\x04\\xa0\\xbf\\x88d(\\xd04\\xdc\\x06\\x95\\x91rb\\xd8\\xb9\\x7fNmK\\xbdr\\xdb\\x93%\\xc5:\\xee\\xa4\\xdc(F\\n}\\x15H\\xf6\\xba\\xbf\\xf3\\x1a]\\xc8\\xd1}x\\xca\\xa2<o\\x93\\x13xI\\xba\\x80h\\x9d\\xc5#\\x8f\\xc5\\x90c\\x7f\\'\\x1a%\\xda\\x1b\\x92\\x12\\x99vNc\\xf4\\xf7\\x9f\\xef\\x07\\xf3\\x00B/\\xb2\\xf2\\x833m\\xa5\\xc5\\xeb\\rPK\\x03\\x04\\x14\\x00\\x00\\x00\\x08\\x00C\\x828Nw\\x1e\\x95d\\xb3\\x00\\x00\\x00\\x07\\x01\\x00\\x00\\'\\x00\\x00\\x00song_data/A/B/C/TRABCEC128F426456E.jsonM\\x8fA\\x0b\\xc20\\x0c\\x85\\xff\\xca\\xe8YG\\xb3\\x89m\\xbd\\xd5\\xed\"\\xca\\x1c\\xee\\xa0\\xb7Q\\\\\\x91\\xc1\\xd6A\\xd7\\n*\\xfewSq\\xb8C\\x0e\\xc9\\xf7\\xf2\\xf2\\xf2\"\\xc6\\xf7\\xf58\\x98\\xdbH6\\x11,\"\\xa2\\xackGW\\xb7\\r\\xf6D\\x9e\\xe8N\\x9e\\x0f\\x00\\x9cm\\x85\\x14\\xeb\\x9c\\x92\\xbf\\xa4S\\xaeu\\xbe\\xd1(\\xe4\\xf1\\n\\x18\\x9b!4\\x9c\\xd8\\x92\\xd3\\x18 a|\\x8e\\xaf\\xb8;\\x98p\\xa2TF\\xf5jf\\x8b\\xad\\x0e W\\xa6\\xed\\x86\\xa8\\xd4V?\\x03\\x0e!\\x7f\\xb1\\xaacQ\\xed/%$\\x92g\\x90\\xca$\\x13A\\x80i\\xba\\xeff\\x81\\xe6w\\x1dU\\x83\\xef\\xc2\\xbc\\xf1v\\xba\\x06\\x82\\xc5X\"<\\xfa\\xd0\\xca\\xe2(\\xa14}\\x7f\\x00PK\\x03\\x04\\x14\\x00\\x00\\x00\\x08\\x00C\\x828N.q\\xf7_\\xaa\\x00\\x00\\x00\\xfe\\x00\\x00\\x00\\'\\x00\\x00\\x00song_data/A/B/C/TRABCEI128F424C983.jsonu\\x8e1\\x0b\\xc20\\x14\\x84\\xffJ\\xc8,\\xd2\\xc4\\xdaZ\\xb7\\x94V\\xa8\\nJ\\xa5\\x83S\\t&\\x95@\\x9aJ\\x9a\\x0c\"\\xfew\\xf3D\\xb1\\x8b\\xe3\\xbb\\xef\\xee\\xde=\\xb0\\xf1};\\x0e\\xe6:\\xe25\"3\\x84\\xb9ujt\\xad\\x12\\xe1\\xc6\\xac\\xdeV%=\\x13\\xb2J\\xf3,\\x8bY\\x9e\\xe2\\x9fEs\\xa7\\x9c\\x172\\x18\\x8d\\xd7z\\x02B\\xdd?r\\t\\xa1\\xc1@\\xf7\\xa4\\xc9\\xf0^\\x82\\xb4WF\\xa2Z\\x1a\\xee\\x05P\\x98\\xf5\\x19r:4\\xc7\\xaan\\x08eI\\x11o\\x18)\\t\\x18\\xc2\\x7f\\xfd\\x0e\\x16\\xd2\\xa2\\x9d\\x96\\x10/\\x86\\xfe\\xd6\\xf1\\xae\\x03.\\xbc\\xfd\\xbe#K:\\xcfh\\xb4H\\x82|\\x97\\xdc\\x06)z\\xbe\\x00PK\\x03\\x04\\x14\\x00\\x00\\x00\\x08\\x00C\\x828N\\x9a\\xcdV\\xa4\\xd7\\x00\\x00\\x00/\\x01\\x00\\x00\\'\\x00\\x00\\x00song_data/A/B/C/TRABCFL128F149BB0D.jsonMP\\xd1\\x8a\\xc20\\x10\\xfc\\x95%Ow\\xe0\\x956\\xbd\\x9azO\\x97\\xbb3p(**\\xd47\\tv\\xb5\\x814\\x854\\x15D\\xfcw\\x93\\xa2\\xd8\\x97\\x85\\xdd\\x99\\xd9\\x99\\xdd+1]\\xbdo\\x1bsj\\xc9\\x17$# \\xd2:\\xd5\\xba\\xbd*}O\\xf8z\\xbe-v\\xb3$\\xc9\\x99\\xf8\\xc9x*r\\xf2\\xa2h\\xe9\\x94\\xebJ\\xf4\\xc4\\x94F\\xec3\\x1f\\xa7\\x03\\xd0\\xaf|\\xa2\\x1f\\x13\\x16\\xa5tB\\xb3!|\\xf0\\xea\\xc6\\x04\\x13\\xd1X\\x07\\x85/\\xd5\\x08\\xb6\\xbb\\x81\\x81\\x915\\x06\\xc2L\\x99\\x13\\xfcva\\x18\\xd0\\x90\\xf6\\x91o\\xb3\\xfc[O\\xff\\x17\\t\\xe5Y\\xce\\x99\\xa0\\xd3,\\x10|,\\xdd\\x0b9\\x14\\x95rhaS\\xc9\\x12ay\\x84\\x95\\xd4\\x08osuF\\xf8\\x06\\xa1\\xb4\\xae\\x1b\\x8bP`\\xeb\\xde\\x83\\xb2\\xecl\\x1f\\xab?i\\x1c\\xc51c\\xe1\\'\\x17\\x94\\xd6\\x8f\\xe2\\xdb\\x1dPK\\x03\\x04\\x14\\x00\\x00\\x00\\x08\\x00C\\x828N/c\\xdfR\\xd8\\x00\\x00\\x000\\x01\\x00\\x00\\'\\x00\\x00\\x00song_data/A/B/C/TRABCIX128F4265903.jsonM\\x90Qk\\xc20\\x14\\x85\\xff\\xca%\\xcf\\xae$mL\\x9b\\xbd\\xd9\\r\\x19\\x83U\\xb6\\x0e6\\x11\\x91\\x8b\\x8d6\\x18SiSD\\xc4\\xffn\"\\x8a}\\xbc\\xf7|\\xe7\\x9e\\xc3=\\x13\\xdb\\xefW]c\\xb7\\x1dy\\x056\\x02\\x82\\xad\\xd3\\x9d[\\xe9\\xca\\xcfd\\xf2SL\\x05\\xa7\\x8ce\\xe94\\x1f\\xa74\\x89\\xc9\\x131\\xe8\\xb4\\xeb+\\xe5AN\\xa3T\\xd2L\\x0cD\\x7f\\xf2\\xa1\\xbe\\xa4I$\\x85\\xe0|(\\xaf\\xbd\\xbb\\xb1!\\xa4PG\\x987\\xedn\\x04\\xc5\\x1c\\x16_hkt\\x0e\\xedr\\x10eq\\xaf\\x02Z6\\x87Z+\\xc8#\\xf8\\xc0\\xe3N\\xdb.0\\xa1\\xfd\\xbdo9+\\xfe\\xfe\\xbf?Y<\\xc9\\xdeX\\xc2\\xdf%\\x0f\\x80\\xafin\\xf6\\xdf\\xda{\\xd1\\x18\\xac`\\xb6\\x81\\xd2(u\\xd0v\\x0b\\xb9\\xc2\\xde\\x9d\\x02Y\\xf5\\xed\\xa3VB\\xc7\\x11\\x13\\xb1_\\x9e\\x14\\xb6\\xe19R\\xf2\\xcb\\x15PK\\x03\\x04\\x14\\x00\\x00\\x00\\x08\\x00C\\x828N\\x074\\x07\\x1f\\xce\\x00\\x00\\x00\\'\\x01\\x00\\x00\\'\\x00\\x00\\x00song_data/A/B/C/TRABCKL128F423A778.jsonM\\x8f\\xcb\\xaa\\xc20\\x14E\\x7f%dt/h1\\xb5mRgU,\\n\\xe2\\x1b\\x05\\'\\x12\\xdb\\x83\\x06\\xdaT\\xf2\\x00E\\xfcw\\x13Q\\xec0Y{\\x9f\\xb3\\xce\\x03K[\\x1fu#\\xcf\\x1a\\x0f\\x10\\xe9 \\xcc\\x95\\x11\\xda\\x1cE\\xe9\\xde8[/\\xf3\\xc9<!\\x84\\xd1|\\x18\\xd38O\\xf0/Rq#\\x8c-\\xc1\\x05#\\x120\\x16\\x91\\xb8\\x05\\xdd\\xc8/\\xed2\\x1a$\\xfd0\"m\\\\\\xb8v#\\xfd\\x92\\xd1E\\x14\\xfc\\xdct\\xd0t\\xd6\\x9a.y\\r\\x9e\\xce\\xec\\x15P.\\xb8.\\x1aO\\xbd\\xeaGn\\xb3\\xd8\\xaf\\xb6\\xab\\x03\\t\\xb3\\x98et\\x98\\xf4\\xc7>\\xe0\\x9c*xc\\xa3\\x00\\x8cF\\x0b\\xe9\\xea\\n\\xd0\\xdf\\xf8v\\xadD!\\x0c\\xca\\xaa\\x93\\xad\\xd1\\x0e\\x94v\\x06\\xff\\xbeTZ\\xf5\\xd5\\ti\\x1a\\xa44M\\xfd-w\\xe0\\xca}\\xf5\\x9e/PK\\x03\\x04\\x14\\x00\\x00\\x00\\x08\\x00C\\x828N/\\xb8\\x8a!\\xa7\\x00\\x00\\x00\\xfa\\x00\\x00\\x00\\'\\x00\\x00\\x00song_data/A/B/C/TRABCPZ128F4275C32.jsonu\\x8e\\xcb\\n\\xc20\\x10E\\x7f%d-\\xd2i\\x8dFw\\xadR\\x10\\x15A\\x17\\xe2\\xaa\\x846h0M\\xa1I,\"\\xfe\\xbb\\x13Q\\xec\\xa6\\xcb\\xb9s\\xee\\xe3I\\x8d\\xaf\\x0b\\xdb\\x98\\x8b\\xa5\\x0b\\x02#BE\\xeb\\x94u\\x85\\xaa\\xf0\\xa6\\xe9!b\\xb0I\\x01\\xf8,\\x9b\\xf3,\\xces\\xfaG\\xb4p\\xca\\xf9J\"h\\xbc\\xd6\\xbd\\x07\\xc6\\r}J45&d\\xf7\\x92\\x8c\\xa8e\\x90NJ\\xdfl\\xd0\\xc3\\xa0\\xef\\x84\\xe3~{^g+\\x88S\\xbe\\x84\\x84E\\x13\\x16\\x00l\\xd6\\x1f\\xcb\\xce[U\\x12eIw\\x15\\x8et\\x92\\xe8\\xe6.\\x03Q\\xf9\\xf6W\\x15Oa\\xcc\\x00\\x12\\x8e\\xf2C\\x8a\\x16\\xa5\\xe8\\xf5\\x06PK\\x03\\x04\\x14\\x00\\x00\\x00\\x08\\x00C\\x828NX\\xbb\\x02\\xc4\\xa9\\x00\\x00\\x00\\xfc\\x00\\x00\\x00\\'\\x00\\x00\\x00song_data/A/B/C/TRABCRU128F423F449.jsonu\\x8e=\\x0b\\xc20\\x18\\x84\\xffJ\\xc8,\\x92\\xb4\\xa9\\xa6n\\xb5t\\xa8\\xa8\\x05;\\x08.%\\xb4A\\x83I\\n\\xf9\\x18\\x8a\\xf8\\xdfMD\\xb1\\x8b\\xe3{\\xcf\\xdd\\xbd\\xf7\\x80\\xda\\xab\\xce\\x8e\\xfaj\\xe1\\x06\\xe0\\x05\\x80\\xcc8a]\\'\\x86p\\xc3\\xe2D\\xeb\\xea\\xd2`L\\xd7\\xdb<GYV\\xc1\\x9fE2\\'\\x9c\\x1fx0j/\\xe5\\x0c\\x84\\xba\\x7f\\xa4\\x0f\\xa1Q\\xc7\\xeeY\\x93f\\x8aG\\xe9\\xc0L\\x0f\\xda\\x1b\\x13\\x8a\\xe9\\x88\\xe3\\xae\\xcf\\x92\\xb6\\xa9\\x8f\\xfb\\xdd\\x19\\'\\x05-q\\x9abRFC\\x18 \\xdf\\xc9R\\xb8\\t\\xb4R\\xf4wnl$\\x837\\xdfO\\x98\\xe4K\\xba\"\\x88\\x04y\\xe2\\xcc\\x04)A\\x88>_PK\\x03\\x04\\x14\\x00\\x00\\x00\\x08\\x00C\\x828N\\xbd\\xee3;\\x9b\\x00\\x00\\x00\\xee\\x00\\x00\\x00\\'\\x00\\x00\\x00song_data/A/B/C/TRABCTK128F934B224.jsonu\\x8e\\xbb\\n\\xc20\\x14\\x86_\\xa5d\\x16Ij\\xd3\\x06\\xb7TIq\\x12,\\xce%\\x98 \\x814\\x81\\\\\\x06\\x11\\xdf\\xdd\\x13Q\\xec\\xd2\\xf1\\xfc\\x97\\xef\\xfcO\\xe4\\xf2<E\\xef\\xee\\x11\\xed+\\xb2\\xa9\\x90\\x0c\\xc9\\xc44\\x19\\x057\\xe2\\x17J\\x99\\x18\\ta\\x9d\\xe8\\x1b\\xdaR\\x86\\xfe\\x11+\\x93IYi\\x08\\xbal\\xed\\xc2\\x00\\xdc\\x9as\\x83\\x92w\\x85\\xbd 99\\xeb\"5\\xb8\\x1a\\x82I\\xc5)\\x93\\xbe#\\xc6\\xf3p\\xec\\xaf\\x82\\xd4\\x9c\\x1dH\\x83\\x05\\xe7%\\x00\\xbf\\xed\\xa7tr)\\xf8\\xa2\\xa8\\x1c~\\xf0\\x8en\\xdb\\xae\\xad\\x19\\xa8\\x0f-\\x03(5\\xc6\\xbb\\xd7\\x1bPK\\x03\\x04\\x14\\x00\\x00\\x00\\x08\\x00C\\x828N@=\\xad\\xfa\\xa8\\x00\\x00\\x00\\xfd\\x00\\x00\\x00\\'\\x00\\x00\\x00song_data/A/B/C/TRABCUQ128E0783E2B.jsonu\\x8e=\\x0b\\xc20\\x18\\x84\\xffJ\\xc8,\\x92\\xb4Mk\\xddZ\\x8bq\\x13Rp\\xe8R\\x82\\x8d\\x12MS\\xc8\\x07\"\\xe2\\x7f7\\x11\\xc5.\\x8e\\xef=w\\xf7\\xde\\x03j?\\xf6v\\xd2g\\x0b\\xd7\\x00/\\x00\\xe4\\xc6I\\xebz9\\x84\\x1bV\\xecP3\\xdaa\\xbc*\\xb6u\\x96\\x17\\xa4\\x82?\\x8b\\xe2N:?\\x88`\\xd4^\\xa9\\x19\\x08u\\xff\\xc81\\x84&\\x1d\\xbbgM\\x9a\\x8f\"J\\xf4&4h\\x9d8q-#\\x8e\\xbb>K\\xda=c\\x1dmpR\\xe5)FM\\xbdI\\xa3!\\x0cP\\xef\\xe4\\x8e\\x1b~\\xf1W\\x0f\\xa84\\xcaF4x\\xf3}\\x95\\x94hIHIH\\x90\\xef\\x82\\x9b(!\\x94=_PK\\x03\\x04\\x14\\x00\\x00\\x00\\x08\\x00C\\x828N\\xb3D\\xccQ\\xad\\x00\\x00\\x00\\x05\\x01\\x00\\x00\\'\\x00\\x00\\x00song_data/A/B/C/TRABCXB128F4286BD3.jsonu\\x8eM\\x0b\\x820\\x18\\xc7\\xbf\\x8a\\xec,\\xe1\\xdc\\xb2\\xd9M\\x93\\xeaP\\x18Iu\\x94\\x91\\xc3\\x06s\\x83\\xbd\\x04\\x11}\\xf76)\\xf2\\xd2\\xf1\\xf9\\xbf=\\xbf\\'\\x90nh\\x8d\\x92\\xbd\\x01\\xcb\\x08\\xc6\\x11\\xa0\\xdarc[\\xde\\xf9\\x1b\\x14\\xc7K\\x896\\x19\\x84d\\xb1.q\\x8e\\x13\\x0c~\\x11A-\\xb7\\xaec>(\\x9d\\x10\\x13\\xc3\\xcf\\xfds\\xae\\xbe\\xa4d\\xd8\\xde\\xd2\\x81\\x0b\\xabd\\x1c\\xd57\\xae&\\xbb\\x92\\x0e,\\x04\\x1a\\xcb\\xee,\\xda+mXp\\x03\\xe4\\x07\\xab\\xa9\\xab\\xe2t\\xde\\xc1\\xb4 +\\x88*HF,O#\\xc6\\xe2A\\xab^*\\xc3MP;\\xa7\\xbf/Q\\x86fd\\x9eC\\xec\\xe5\\x07\\xa3\\xdaKi\\x92$\\xaf7PK\\x03\\x04\\x14\\x00\\x00\\x00\\x08\\x00C\\x828N\\xde\\xa3V\\xb8\\xb4\\x00\\x00\\x00\\x05\\x01\\x00\\x00\\'\\x00\\x00\\x00song_data/A/B/C/TRABCYE128F934CE1D.jsonU\\x8e]\\x0b\\x820\\x18\\x85\\xff\\xca\\xd8UA\\x89\\xd3i\\xda\\x9d+\\xcd\\x8b(0\\xa8K\\x19n\\xc8`N\\x983\\x88\\xe8\\xbf\\xb7E\\x1fv\\xf9\\x9e\\xe7\\xbc\\xe7\\x9c;TcW\\x0f\\xbdj\\x07\\xb8\\x06h\\x01 \\xd5F\\x0c\\xa6\\x16\\xcc\\xde0\\xab\\xf2\\xf3e\\x97#\\x94\\xacHJ\\x92\\xd4\\xcf\\xe0\\xcf\"\\xa9\\x11fd\\xdc\\x1a\\x97(\\xf40\\x0e&\\xcc&~!F^\\x9aF\\x7f\\xb4\\xb1\\xbf\\xbdr\\x15\\x87\\xbe\\x11`F\\xb2\\xf9$Y\\xd1\\x8e;F\\x841\\\\\\x83\\\\1\\x07\\xdd\\xca\\xf7\\xae\\xd3\\xb1\\xd8\\x94\\xdb\\n\\x05\\x19\\xf1Q\\x12\\xc7y\\xe1\\x0cv\\x8e|\\xfd\\xed\\xc5U\\xa8\\x16\\x94\\\\J\\xa7\\xb3Q\\x7f\\xea\\x82$\\xf0p\\x18\\xe1\\xd8\\xca7N\\xb5\\x95\\xfc\\xc7\\x13PK\\x01\\x02?\\x00\\x14\\x00\\x00\\x00\\x00\\x00\\xb8u<N\\x00\\x00\\x00\\x00\\x00\\x00\\x00\\x00\\x00\\x00\\x00\\x00\\n\\x00$\\x00\\x00\\x00\\x00\\x00\\x00\\x00\\x10\\x00\\x00\\x00\\x00\\x00\\x00\\x00song_data/\\n\\x00 \\x00\\x00\\x00\\x00\\x00\\x01\\x00\\x18\\x00;\\x93\\xda5[\\xb7\\xd4\\x01;\\x93\\xda5[\\xb7\\xd4\\x016_\\xd75[\\xb7\\xd4\\x01PK\\x01\\x02?\\x00\\x14\\x00\\x00\\x00\\x08\\x00A\\x828N\\x98\\x85\\x17/\\xb1\\x01\\x00\\x00\\x04\\x18\\x00\\x00\\x13\\x00$\\x00\\x00\\x00\\x00\\x00\\x00\\x00 \\x00\\x00\\x00(\\x00\\x00\\x00song_data/.DS_Store\\n\\x00 \\x00\\x00\\x00\\x00\\x00\\x01\\x00\\x18\\x00\\x11\\xf3\\xd9nC\\xb4\\xd4\\x01x\\xbe\\xd85[\\xb7\\xd4\\x01x\\xbe\\xd85[\\xb7\\xd4\\x01PK\\x01\\x02?\\x00\\x14\\x00\\x00\\x00\\x00\\x00\\xb9u<N\\x00\\x00\\x00\\x00\\x00\\x00\\x00\\x00\\x00\\x00\\x00\\x00\\x0c\\x00$\\x00\\x00\\x00\\x00\\x00\\x00\\x00\\x10\\x00\\x00\\x00\\n\\x02\\x00\\x00song_data/A/\\n\\x00 \\x00\\x00\\x00\\x00\\x00\\x01\\x00\\x18\\x00q\\'N6[\\xb7\\xd4\\x01q\\'N6[\\xb7\\xd4\\x01;\\x93\\xda5[\\xb7\\xd4\\x01PK\\x01\\x02?\\x00\\x14\\x00\\x00\\x00\\x08\\x00A\\x828N\\xf5e\\xe6\\xf4\\x94\\x01\\x00\\x00\\x04\\x18\\x00\\x00\\x15\\x00$\\x00\\x00\\x00\\x00\\x00\\x00\\x00 \\x00\\x00\\x004\\x02\\x00\\x00song_data/A/.DS_Store\\n\\x00 \\x00\\x00\\x00\\x00\\x00\\x01\\x00\\x18\\x00oq\\xdfnC\\xb4\\xd4\\x01\\xe9@\\xdc5[\\xb7\\xd4\\x01\\xe9@\\xdc5[\\xb7\\xd4\\x01PK\\x01\\x02?\\x00\\x14\\x00\\x00\\x00\\x00\\x00\\xb8u<N\\x00\\x00\\x00\\x00\\x00\\x00\\x00\\x00\\x00\\x00\\x00\\x00\\x0e\\x00$\\x00\\x00\\x00\\x00\\x00\\x00\\x00\\x10\\x00\\x00\\x00\\xfb\\x03\\x00\\x00song_data/A/A/\\n\\x00 \\x00\\x00\\x00\\x00\\x00\\x01\\x00\\x18\\x00\\xb8\\x0c\\x106[\\xb7\\xd4\\x01\\xb8\\x0c\\x106[\\xb7\\xd4\\x01h+\\xdd5[\\xb7\\xd4\\x01PK\\x01\\x02?\\x00\\x14\\x00\\x00\\x00\\x08\\x00A\\x828N\\x9f\\xa6gy\\xa2\\x01\\x00\\x00\\x04\\x18\\x00\\x00\\x17\\x00$\\x00\\x00\\x00\\x00\\x00\\x00\\x00 \\x00\\x00\\x00\\'\\x04\\x00\\x00song_data/A/A/.DS_Store\\n\\x00 \\x00\\x00\\x00\\x00\\x00\\x01\\x00\\x18\\x00\\x0b\\xf1\\xe4nC\\xb4\\xd4\\x01\\xe1\\x8a\\xde5[\\xb7\\xd4\\x01\\xe1\\x8a\\xde5[\\xb7\\xd4\\x01PK\\x01\\x02?\\x00\\x14\\x00\\x00\\x00\\x00\\x00\\xb8u<N\\x00\\x00\\x00\\x00\\x00\\x00\\x00\\x00\\x00\\x00\\x00\\x00\\x10\\x00$\\x00\\x00\\x00\\x00\\x00\\x00\\x00\\x10\\x00\\x00\\x00\\xfe\\x05\\x00\\x00song_data/A/A/A/\\n\\x00 \\x00\\x00\\x00\\x00\\x00\\x01\\x00\\x18\\x00tn\\xf45[\\xb7\\xd4\\x01tn\\xf45[\\xb7\\xd4\\x01/u\\xdf5[\\xb7\\xd4\\x01PK\\x01\\x02?\\x00\\x14\\x00\\x00\\x00\\x08\\x00A\\x828N\\xecs\\x8a\\xdc\\xb0\\x00\\x00\\x00\\x05\\x01\\x00\\x00\\'\\x00$\\x00\\x00\\x00\\x00\\x00\\x00\\x00 \\x00\\x00\\x00,\\x06\\x00\\x00song_data/A/A/A/TRAAAAW128F429D538.json\\n\\x00 \\x00\\x00\\x00\\x00\\x00\\x01\\x00\\x18\\x00\\xe2\\xf1\\xeanC\\xb4\\xd4\\x01\\xd7\\xad\\xe05[\\xb7\\xd4\\x01\\xd7\\xad\\xe05[\\xb7\\xd4\\x01PK\\x01\\x02?\\x00\\x14\\x00\\x00\\x00\\x08\\x00A\\x828N\\xa6\\t{0\\xb9\\x00\\x00\\x00\\x0c\\x01\\x00\\x00\\'\\x00$\\x00\\x00\\x00\\x00\\x00\\x00\\x00 \\x00\\x00\\x00!\\x07\\x00\\x00song_data/A/A/A/TRAAABD128F429CF47.json\\n\\x00 \\x00\\x00\\x00\\x00\\x00\\x01\\x00\\x18\\x00T:\\xf0nC\\xb4\\xd4\\x01\\xbc\\xd0\\xe25[\\xb7\\xd4\\x01\\xbc\\xd0\\xe25[\\xb7\\xd4\\x01PK\\x01\\x02?\\x00\\x14\\x00\\x00\\x00\\x08\\x00A\\x828N\\x90\\xeb\\xd8\\xf8\\xa9\\x00\\x00\\x00\\xff\\x00\\x00\\x00\\'\\x00$\\x00\\x00\\x00\\x00\\x00\\x00\\x00 \\x00\\x00\\x00\\x1f\\x08\\x00\\x00song_data/A/A/A/TRAAADZ128F9348C2E.json\\n\\x00 \\x00\\x00\\x00\\x00\\x00\\x01\\x00\\x18\\x00<\\xca\\xf6nC\\xb4\\xd4\\x01\\xc2\\x1a\\xe55[\\xb7\\xd4\\x01\\xc2\\x1a\\xe55[\\xb7\\xd4\\x01PK\\x01\\x02?\\x00\\x14\\x00\\x00\\x00\\x08\\x00A\\x828N\\x80I\\xe3\\x13\\xb0\\x00\\x00\\x00\\t\\x01\\x00\\x00\\'\\x00$\\x00\\x00\\x00\\x00\\x00\\x00\\x00 \\x00\\x00\\x00\\r\\t\\x00\\x00song_data/A/A/A/TRAAAEF128F4273421.json\\n\\x00 \\x00\\x00\\x00\\x00\\x00\\x01\\x00\\x18\\x00\\x19\\xac\\xfbnC\\xb4\\xd4\\x017\\xc8\\xe65[\\xb7\\xd4\\x017\\xc8\\xe65[\\xb7\\xd4\\x01PK\\x01\\x02?\\x00\\x14\\x00\\x00\\x00\\x08\\x00A\\x828N\\x83\\x8b\\xea9\\xa1\\x00\\x00\\x00\\xf4\\x00\\x00\\x00\\'\\x00$\\x00\\x00\\x00\\x00\\x00\\x00\\x00 \\x00\\x00\\x00\\x02\\n\\x00\\x00song_data/A/A/A/TRAAAFD128F92F423A.json\\n\\x00 \\x00\\x00\\x00\\x00\\x00\\x01\\x00\\x18\\x00\\x0e\\xdc\\x00oC\\xb4\\xd4\\x01\\x93\\xae\\xe85[\\xb7\\xd4\\x01\\x93\\xae\\xe85[\\xb7\\xd4\\x01PK\\x01\\x02?\\x00\\x14\\x00\\x00\\x00\\x08\\x00A\\x828NBG\\xce\\xde\\xc2\\x00\\x00\\x00\\x1f\\x01\\x00\\x00\\'\\x00$\\x00\\x00\\x00\\x00\\x00\\x00\\x00 \\x00\\x00\\x00\\xe8\\n\\x00\\x00song_data/A/A/A/TRAAAMO128F1481E7F.json\\n\\x00 \\x00\\x00\\x00\\x00\\x00\\x01\\x00\\x18\\x00\\x9c3\\x06oC\\xb4\\xd4\\x01\\x87\\xf8\\xea5[\\xb7\\xd4\\x01\\x87\\xf8\\xea5[\\xb7\\xd4\\x01PK\\x01\\x02?\\x00\\x14\\x00\\x00\\x00\\x08\\x00A\\x828NI/}-\\xac\\x00\\x00\\x00\\x00\\x01\\x00\\x00\\'\\x00$\\x00\\x00\\x00\\x00\\x00\\x00\\x00 \\x00\\x00\\x00\\xef\\x0b\\x00\\x00song_data/A/A/A/TRAAAMQ128F1460CD3.json\\n\\x00 \\x00\\x00\\x00\\x00\\x00\\x01\\x00\\x18\\x00\\xabC\\x0coC\\xb4\\xd4\\x01E\\xa6\\xec5[\\xb7\\xd4\\x01E\\xa6\\xec5[\\xb7\\xd4\\x01PK\\x01\\x02?\\x00\\x14\\x00\\x00\\x00\\x08\\x00A\\x828NR\\xf2\\x87\\x92\\xbc\\x00\\x00\\x00\\x1c\\x01\\x00\\x00\\'\\x00$\\x00\\x00\\x00\\x00\\x00\\x00\\x00 \\x00\\x00\\x00\\xe0\\x0c\\x00\\x00song_data/A/A/A/TRAAAPK128E0786D96.json\\n\\x00 \\x00\\x00\\x00\\x00\\x00\\x01\\x00\\x18\\x00\\xc4\\xab\\x13oC\\xb4\\xd4\\x01\\xfc\\xa1\\xee5[\\xb7\\xd4\\x01\\xfc\\xa1\\xee5[\\xb7\\xd4\\x01PK\\x01\\x02?\\x00\\x14\\x00\\x00\\x00\\x08\\x00B\\x828N<\\xcc\\xde\\xce\\xa9\\x00\\x00\\x00\\xfd\\x00\\x00\\x00\\'\\x00$\\x00\\x00\\x00\\x00\\x00\\x00\\x00 \\x00\\x00\\x00\\xe1\\r\\x00\\x00song_data/A/A/A/TRAAARJ128F9320760.json\\n\\x00 \\x00\\x00\\x00\\x00\\x00\\x01\\x00\\x18\\x00f\\x12\\x1aoC\\xb4\\xd4\\x01\\xf9\\x9d\\xf05[\\xb7\\xd4\\x01\\xf9\\x9d\\xf05[\\xb7\\xd4\\x01PK\\x01\\x02?\\x00\\x14\\x00\\x00\\x00\\x08\\x00B\\x828N\\xe3r\\x98\\xc7\\xab\\x00\\x00\\x00\\x04\\x01\\x00\\x00\\'\\x00$\\x00\\x00\\x00\\x00\\x00\\x00\\x00 \\x00\\x00\\x00\\xcf\\x0e\\x00\\x00song_data/A/A/A/TRAAAVG12903CFA543.json\\n\\x00 \\x00\\x00\\x00\\x00\\x00\\x01\\x00\\x18\\x000\\xf0 oC\\xb4\\xd4\\x01\\xae\\xc0\\xf25[\\xb7\\xd4\\x01\\xae\\xc0\\xf25[\\xb7\\xd4\\x01PK\\x01\\x02?\\x00\\x14\\x00\\x00\\x00\\x08\\x00B\\x828N\\x0fifN\\xbd\\x00\\x00\\x00\\x12\\x01\\x00\\x00\\'\\x00$\\x00\\x00\\x00\\x00\\x00\\x00\\x00 \\x00\\x00\\x00\\xbf\\x0f\\x00\\x00song_data/A/A/A/TRAAAVO128F93133D4.json\\n\\x00 \\x00\\x00\\x00\\x00\\x00\\x01\\x00\\x18\\x00\\xfe6\\'oC\\xb4\\xd4\\x01tn\\xf45[\\xb7\\xd4\\x01tn\\xf45[\\xb7\\xd4\\x01PK\\x01\\x02?\\x00\\x14\\x00\\x00\\x00\\x00\\x00\\xb8u<N\\x00\\x00\\x00\\x00\\x00\\x00\\x00\\x00\\x00\\x00\\x00\\x00\\x10\\x00$\\x00\\x00\\x00\\x00\\x00\\x00\\x00\\x10\\x00\\x00\\x00\\xc1\\x10\\x00\\x00song_data/A/A/B/\\n\\x00 \\x00\\x00\\x00\\x00\\x00\\x01\\x00\\x18\\x00.\\xad\\x0e6[\\xb7\\xd4\\x01.\\xad\\x0e6[\\xb7\\xd4\\x01\\xf3\\x7f\\xf55[\\xb7\\xd4\\x01PK\\x01\\x02?\\x00\\x14\\x00\\x00\\x00\\x08\\x00B\\x828N\\xbc\\x11\\x07\\xaf\\xb3\\x00\\x00\\x00\\x0e\\x01\\x00\\x00\\'\\x00$\\x00\\x00\\x00\\x00\\x00\\x00\\x00 \\x00\\x00\\x00\\xef\\x10\\x00\\x00song_data/A/A/B/TRAABCL128F4286650.json\\n\\x00 \\x00\\x00\\x00\\x00\\x00\\x01\\x00\\x18\\x00\\xe7\\x95/oC\\xb4\\xd4\\x01f\\xdf\\xf65[\\xb7\\xd4\\x01f\\xdf\\xf65[\\xb7\\xd4\\x01PK\\x01\\x02?\\x00\\x14\\x00\\x00\\x00\\x08\\x00B\\x828N\\xb6\\xc1\\xe5A\\x9d\\x00\\x00\\x00\\xf1\\x00\\x00\\x00\\'\\x00$\\x00\\x00\\x00\\x00\\x00\\x00\\x00 \\x00\\x00\\x00\\xe7\\x11\\x00\\x00song_data/A/A/B/TRAABDL12903CAABBA.json\\n\\x00 \\x00\\x00\\x00\\x00\\x00\\x01\\x00\\x18\\x00\\xf9\\xca4oC\\xb4\\xd4\\x01:\\xdb\\xf85[\\xb7\\xd4\\x01:\\xdb\\xf85[\\xb7\\xd4\\x01PK\\x01\\x02?\\x00\\x14\\x00\\x00\\x00\\x08\\x00B\\x828N\\x1d\\x83\\xed\\xdf\\xa1\\x00\\x00\\x00\\xf7\\x00\\x00\\x00\\'\\x00$\\x00\\x00\\x00\\x00\\x00\\x00\\x00 \\x00\\x00\\x00\\xc9\\x12\\x00\\x00song_data/A/A/B/TRAABJL12903CDCF1A.json\\n\\x00 \\x00\\x00\\x00\\x00\\x00\\x01\\x00\\x18\\x00z\\x03=oC\\xb4\\xd4\\x01\\xa86\\xfc5[\\xb7\\xd4\\x01\\xa86\\xfc5[\\xb7\\xd4\\x01PK\\x01\\x02?\\x00\\x14\\x00\\x00\\x00\\x08\\x00B\\x828NY\\xfdP\\xea\\xba\\x00\\x00\\x00\\x17\\x01\\x00\\x00\\'\\x00$\\x00\\x00\\x00\\x00\\x00\\x00\\x00 \\x00\\x00\\x00\\xaf\\x13\\x00\\x00song_data/A/A/B/TRAABJV128F1460C49.json\\n\\x00 \\x00\\x00\\x00\\x00\\x00\\x01\\x00\\x18\\x00\\x0fGCoC\\xb4\\xd4\\x01\\x8b\\x80\\xfe5[\\xb7\\xd4\\x01\\x8b\\x80\\xfe5[\\xb7\\xd4\\x01PK\\x01\\x02?\\x00\\x14\\x00\\x00\\x00\\x08\\x00B\\x828N3\\x90\\xd9\\x03\\xba\\x00\\x00\\x00\\x16\\x01\\x00\\x00\\'\\x00$\\x00\\x00\\x00\\x00\\x00\\x00\\x00 \\x00\\x00\\x00\\xae\\x14\\x00\\x00song_data/A/A/B/TRAABLR128F423B7E3.json\\n\\x00 \\x00\\x00\\x00\\x00\\x00\\x01\\x00\\x18\\x00\\xb2\\x81IoC\\xb4\\xd4\\x01U\\xa3\\x006[\\xb7\\xd4\\x01U\\xa3\\x006[\\xb7\\xd4\\x01PK\\x01\\x02?\\x00\\x14\\x00\\x00\\x00\\x08\\x00B\\x828N\\xcb]md\\xb7\\x00\\x00\\x00\\r\\x01\\x00\\x00\\'\\x00$\\x00\\x00\\x00\\x00\\x00\\x00\\x00 \\x00\\x00\\x00\\xad\\x15\\x00\\x00song_data/A/A/B/TRAABNV128F425CEE1.json\\n\\x00 \\x00\\x00\\x00\\x00\\x00\\x01\\x00\\x18\\x008\\x8bPoC\\xb4\\xd4\\x01\\xa1b\\x036[\\xb7\\xd4\\x01\\xa1b\\x036[\\xb7\\xd4\\x01PK\\x01\\x02?\\x00\\x14\\x00\\x00\\x00\\x08\\x00B\\x828Nn]\\x18\\x8c\\xaa\\x00\\x00\\x00\\x01\\x01\\x00\\x00\\'\\x00$\\x00\\x00\\x00\\x00\\x00\\x00\\x00 \\x00\\x00\\x00\\xa9\\x16\\x00\\x00song_data/A/A/B/TRAABRB128F9306DD5.json\\n\\x00 \\x00\\x00\\x00\\x00\\x00\\x01\\x00\\x18\\x00\\xea\\xeeVoC\\xb4\\xd4\\x01\\xc0\\xac\\x056[\\xb7\\xd4\\x01\\xc0\\xac\\x056[\\xb7\\xd4\\x01PK\\x01\\x02?\\x00\\x14\\x00\\x00\\x00\\x08\\x00B\\x828N:R\\xd8,\\xa6\\x00\\x00\\x00\\xf9\\x00\\x00\\x00\\'\\x00$\\x00\\x00\\x00\\x00\\x00\\x00\\x00 \\x00\\x00\\x00\\x98\\x17\\x00\\x00song_data/A/A/B/TRAABVM128F92CA9DC.json\\n\\x00 \\x00\\x00\\x00\\x00\\x00\\x01\\x00\\x18\\x00\\x82~]oC\\xb4\\xd4\\x01\\x7f\\x1d\\x086[\\xb7\\xd4\\x01\\x7f\\x1d\\x086[\\xb7\\xd4\\x01PK\\x01\\x02?\\x00\\x14\\x00\\x00\\x00\\x08\\x00B\\x828NqtG\\x0f\\xa6\\x00\\x00\\x00\\xf8\\x00\\x00\\x00\\'\\x00$\\x00\\x00\\x00\\x00\\x00\\x00\\x00 \\x00\\x00\\x00\\x83\\x18\\x00\\x00song_data/A/A/B/TRAABXG128F9318EBD.json\\n\\x00 \\x00\\x00\\x00\\x00\\x00\\x01\\x00\\x18\\x00\\xf7\\xbfcoC\\xb4\\xd4\\x01cg\\n6[\\xb7\\xd4\\x01cg\\n6[\\xb7\\xd4\\x01PK\\x01\\x02?\\x00\\x14\\x00\\x00\\x00\\x08\\x00B\\x828N\\xf4\\xc0\\xd7\\xb8\\xc3\\x00\\x00\\x00\\x1a\\x01\\x00\\x00\\'\\x00$\\x00\\x00\\x00\\x00\\x00\\x00\\x00 \\x00\\x00\\x00n\\x19\\x00\\x00song_data/A/A/B/TRAABYN12903CFD305.json\\n\\x00 \\x00\\x00\\x00\\x00\\x00\\x01\\x00\\x18\\x00I\\x9epoC\\xb4\\xd4\\x010c\\x0c6[\\xb7\\xd4\\x010c\\x0c6[\\xb7\\xd4\\x01PK\\x01\\x02?\\x00\\x14\\x00\\x00\\x00\\x08\\x00B\\x828N\\xff\\x03R\\x03\\xb2\\x00\\x00\\x00\\x08\\x01\\x00\\x00\\'\\x00$\\x00\\x00\\x00\\x00\\x00\\x00\\x00 \\x00\\x00\\x00v\\x1a\\x00\\x00song_data/A/A/B/TRAABYW128F4244559.json\\n\\x00 \\x00\\x00\\x00\\x00\\x00\\x01\\x00\\x18\\x00\\xc8\\xc1yoC\\xb4\\xd4\\x01.\\xad\\x0e6[\\xb7\\xd4\\x01.\\xad\\x0e6[\\xb7\\xd4\\x01PK\\x01\\x02?\\x00\\x14\\x00\\x00\\x00\\x00\\x00\\xb9u<N\\x00\\x00\\x00\\x00\\x00\\x00\\x00\\x00\\x00\\x00\\x00\\x00\\x10\\x00$\\x00\\x00\\x00\\x00\\x00\\x00\\x00\\x10\\x00\\x00\\x00m\\x1b\\x00\\x00song_data/A/A/C/\\n\\x00 \\x00\\x00\\x00\\x00\\x00\\x01\\x00\\x18\\x00g+L6[\\xb7\\xd4\\x01g+L6[\\xb7\\xd4\\x01\\xb8\\x0c\\x106[\\xb7\\xd4\\x01PK\\x01\\x02?\\x00\\x14\\x00\\x00\\x00\\x08\\x00B\\x828N\\xafR|\\xa3\\xb1\\x00\\x00\\x00\\x04\\x01\\x00\\x00\\'\\x00$\\x00\\x00\\x00\\x00\\x00\\x00\\x00 \\x00\\x00\\x00\\x9b\\x1b\\x00\\x00song_data/A/A/C/TRAACCG128F92E8A55.json\\n\\x00 \\x00\\x00\\x00\\x00\\x00\\x01\\x00\\x18\\x00\\xca|~oC\\xb4\\xd4\\x01\\x99\\xe1\\x116[\\xb7\\xd4\\x01\\x99\\xe1\\x116[\\xb7\\xd4\\x01PK\\x01\\x02?\\x00\\x14\\x00\\x00\\x00\\x08\\x00B\\x828N\\xb2\\xdb\\x03l\\xd3\\x00\\x00\\x005\\x01\\x00\\x00\\'\\x00$\\x00\\x00\\x00\\x00\\x00\\x00\\x00 \\x00\\x00\\x00\\x91\\x1c\\x00\\x00song_data/A/A/C/TRAACER128F4290F96.json\\n\\x00 \\x00\\x00\\x00\\x00\\x00\\x01\\x00\\x18\\x00\\xaa7\\x83oC\\xb4\\xd4\\x01\\xb1\\xa0\\x146[\\xb7\\xd4\\x01\\xb1\\xa0\\x146[\\xb7\\xd4\\x01PK\\x01\\x02?\\x00\\x14\\x00\\x00\\x00\\x08\\x00B\\x828N\\x95}xS\\xc8\\x00\\x00\\x00 \\x01\\x00\\x00\\'\\x00$\\x00\\x00\\x00\\x00\\x00\\x00\\x00 \\x00\\x00\\x00\\xa9\\x1d\\x00\\x00song_data/A/A/C/TRAACFV128F935E50B.json\\n\\x00 \\x00\\x00\\x00\\x00\\x00\\x01\\x00\\x18\\x00\\xe1\\xbc\\x88oC\\xb4\\xd4\\x01\\x9c\\x11\\x176[\\xb7\\xd4\\x01\\x9c\\x11\\x176[\\xb7\\xd4\\x01PK\\x01\\x02?\\x00\\x14\\x00\\x00\\x00\\x08\\x00B\\x828N\\x16\"\\x91V\\xaf\\x00\\x00\\x00\\x03\\x01\\x00\\x00\\'\\x00$\\x00\\x00\\x00\\x00\\x00\\x00\\x00 \\x00\\x00\\x00\\xb6\\x1e\\x00\\x00song_data/A/A/C/TRAACHN128F1489601.json\\n\\x00 \\x00\\x00\\x00\\x00\\x00\\x01\\x00\\x18\\x00e_\\x8coC\\xb4\\xd4\\x010\\xe2\\x1a6[\\xb7\\xd4\\x010\\xe2\\x1a6[\\xb7\\xd4\\x01PK\\x01\\x02?\\x00\\x14\\x00\\x00\\x00\\x08\\x00B\\x828N\\xa8\\xcc,M\\xa3\\x00\\x00\\x00\\xf4\\x00\\x00\\x00\\'\\x00$\\x00\\x00\\x00\\x00\\x00\\x00\\x00 \\x00\\x00\\x00\\xaa\\x1f\\x00\\x00song_data/A/A/C/TRAACIW12903CC0F6D.json\\n\\x00 \\x00\\x00\\x00\\x00\\x00\\x01\\x00\\x18\\x00_2\\x90oC\\xb4\\xd4\\x01=S\\x1d6[\\xb7\\xd4\\x01=S\\x1d6[\\xb7\\xd4\\x01PK\\x01\\x02?\\x00\\x14\\x00\\x00\\x00\\x08\\x00B\\x828N\\xc2\\xc41\\x83\\xd7\\x00\\x00\\x000\\x01\\x00\\x00\\'\\x00$\\x00\\x00\\x00\\x00\\x00\\x00\\x00 \\x00\\x00\\x00\\x92 \\x00\\x00song_data/A/A/C/TRAACLV128F427E123.json\\n\\x00 \\x00\\x00\\x00\\x00\\x00\\x01\\x00\\x18\\x00\\xde\\'\\x94oC\\xb4\\xd4\\x01\\xcf1!6[\\xb7\\xd4\\x01\\xcf1!6[\\xb7\\xd4\\x01PK\\x01\\x02?\\x00\\x14\\x00\\x00\\x00\\x08\\x00B\\x828N=]\\xb0Z\\xc4\\x00\\x00\\x00\"\\x01\\x00\\x00\\'\\x00$\\x00\\x00\\x00\\x00\\x00\\x00\\x00 \\x00\\x00\\x00\\xae!\\x00\\x00song_data/A/A/C/TRAACNS128F14A2DF5.json\\n\\x00 \\x00\\x00\\x00\\x00\\x00\\x01\\x00\\x18\\x004\\xe3\\x98oC\\xb4\\xd4\\x01\\xb7-/6[\\xb7\\xd4\\x01\\xb7-/6[\\xb7\\xd4\\x01PK\\x01\\x02?\\x00\\x14\\x00\\x00\\x00\\x08\\x00B\\x828N\\x02\\x01\\ti\\xbd\\x00\\x00\\x00\\x14\\x01\\x00\\x00\\'\\x00$\\x00\\x00\\x00\\x00\\x00\\x00\\x00 \\x00\\x00\\x00\\xb7\"\\x00\\x00song_data/A/A/C/TRAACOW128F933E35F.json\\n\\x00 \\x00\\x00\\x00\\x00\\x00\\x01\\x00\\x18\\x00P(\\x9doC\\xb4\\xd4\\x01G\\x0b66[\\xb7\\xd4\\x01G\\x0b66[\\xb7\\xd4\\x01PK\\x01\\x02?\\x00\\x14\\x00\\x00\\x00\\x08\\x00B\\x828N\\xc2\\x96:\\x82\\xc3\\x00\\x00\\x00\\x1c\\x01\\x00\\x00\\'\\x00$\\x00\\x00\\x00\\x00\\x00\\x00\\x00 \\x00\\x00\\x00\\xb9#\\x00\\x00song_data/A/A/C/TRAACPE128F421C1B9.json\\n\\x00 \\x00\\x00\\x00\\x00\\x00\\x01\\x00\\x18\\x00$n\\xa1oC\\xb4\\xd4\\x01\\xfbs<6[\\xb7\\xd4\\x01\\xfbs<6[\\xb7\\xd4\\x01PK\\x01\\x02?\\x00\\x14\\x00\\x00\\x00\\x08\\x00B\\x828N1\\xbd?\\\\\\xb9\\x00\\x00\\x00\\x0c\\x01\\x00\\x00\\'\\x00$\\x00\\x00\\x00\\x00\\x00\\x00\\x00 \\x00\\x00\\x00\\xc1$\\x00\\x00song_data/A/A/C/TRAACQT128F9331780.json\\n\\x00 \\x00\\x00\\x00\\x00\\x00\\x01\\x00\\x18\\x00\\xc5\\x8c\\xa5oC\\xb4\\xd4\\x01U\\xf6?6[\\xb7\\xd4\\x01U\\xf6?6[\\xb7\\xd4\\x01PK\\x01\\x02?\\x00\\x14\\x00\\x00\\x00\\x08\\x00B\\x828N\\x8dE\\xf2\\xdb\\xb8\\x00\\x00\\x00\\x13\\x01\\x00\\x00\\'\\x00$\\x00\\x00\\x00\\x00\\x00\\x00\\x00 \\x00\\x00\\x00\\xbf%\\x00\\x00song_data/A/A/C/TRAACSL128F93462F4.json\\n\\x00 \\x00\\x00\\x00\\x00\\x00\\x01\\x00\\x18\\x00\\xad\\x91\\xacoC\\xb4\\xd4\\x01W\\xc7C6[\\xb7\\xd4\\x01W\\xc7C6[\\xb7\\xd4\\x01PK\\x01\\x02?\\x00\\x14\\x00\\x00\\x00\\x08\\x00B\\x828N#\\xdbOX\\xc6\\x00\\x00\\x00\"\\x01\\x00\\x00\\'\\x00$\\x00\\x00\\x00\\x00\\x00\\x00\\x00 \\x00\\x00\\x00\\xbc&\\x00\\x00song_data/A/A/C/TRAACTB12903CAAF15.json\\n\\x00 \\x00\\x00\\x00\\x00\\x00\\x01\\x00\\x18\\x00:\\x9b\\xb3oC\\xb4\\xd4\\x01\\x00\\x86F6[\\xb7\\xd4\\x01\\x00\\x86F6[\\xb7\\xd4\\x01PK\\x01\\x02?\\x00\\x14\\x00\\x00\\x00\\x08\\x00B\\x828N\\xef\\xf9\\xd2\\xe9\\xd7\\x00\\x00\\x006\\x01\\x00\\x00\\'\\x00$\\x00\\x00\\x00\\x00\\x00\\x00\\x00 \\x00\\x00\\x00\\xc7\\'\\x00\\x00song_data/A/A/C/TRAACVS128E078BE39.json\\n\\x00 \\x00\\x00\\x00\\x00\\x00\\x01\\x00\\x18\\x00\\xf1\\xd3\\xbboC\\xb4\\xd4\\x01 \\x1eI6[\\xb7\\xd4\\x01 \\x1eI6[\\xb7\\xd4\\x01PK\\x01\\x02?\\x00\\x14\\x00\\x00\\x00\\x08\\x00B\\x828NR\\xac#\\xe5\\xb5\\x00\\x00\\x00\\x0c\\x01\\x00\\x00\\'\\x00$\\x00\\x00\\x00\\x00\\x00\\x00\\x00 \\x00\\x00\\x00\\xe3(\\x00\\x00song_data/A/A/C/TRAACZK128F4243829.json\\n\\x00 \\x00\\x00\\x00\\x00\\x00\\x01\\x00\\x18\\x00\\xcc\\xd8\\xc2oC\\xb4\\xd4\\x01g+L6[\\xb7\\xd4\\x01g+L6[\\xb7\\xd4\\x01PK\\x01\\x02?\\x00\\x14\\x00\\x00\\x00\\x00\\x00\\xb9u<N\\x00\\x00\\x00\\x00\\x00\\x00\\x00\\x00\\x00\\x00\\x00\\x00\\x0e\\x00$\\x00\\x00\\x00\\x00\\x00\\x00\\x00\\x10\\x00\\x00\\x00\\xdd)\\x00\\x00song_data/A/B/\\n\\x00 \\x00\\x00\\x00\\x00\\x00\\x01\\x00\\x18\\x00r\\xa2\\x9f6[\\xb7\\xd4\\x01r\\xa2\\x9f6[\\xb7\\xd4\\x01q\\'N6[\\xb7\\xd4\\x01PK\\x01\\x02?\\x00\\x14\\x00\\x00\\x00\\x08\\x00B\\x828N\\x94\\xab\\xfd,\\xfe\\x00\\x00\\x00\\x04\\x18\\x00\\x00\\x17\\x00$\\x00\\x00\\x00\\x00\\x00\\x00\\x00 \\x00\\x00\\x00\\t*\\x00\\x00song_data/A/B/.DS_Store\\n\\x00 \\x00\\x00\\x00\\x00\\x00\\x01\\x00\\x18\\x00\\xea\\x04\\xcaoC\\xb4\\xd4\\x01\\x1eqP6[\\xb7\\xd4\\x01\\x1eqP6[\\xb7\\xd4\\x01PK\\x01\\x02?\\x00\\x14\\x00\\x00\\x00\\x00\\x00\\xb9u<N\\x00\\x00\\x00\\x00\\x00\\x00\\x00\\x00\\x00\\x00\\x00\\x00\\x10\\x00$\\x00\\x00\\x00\\x00\\x00\\x00\\x00\\x10\\x00\\x00\\x00<+\\x00\\x00song_data/A/B/A/\\n\\x00 \\x00\\x00\\x00\\x00\\x00\\x01\\x00\\x18\\x00+\\x10u6[\\xb7\\xd4\\x01+\\x10u6[\\xb7\\xd4\\x01\\x87\\xa9Q6[\\xb7\\xd4\\x01PK\\x01\\x02?\\x00\\x14\\x00\\x00\\x00\\x08\\x00B\\x828N\\xe7u?\\xb4\\xa8\\x00\\x00\\x00\\xfc\\x00\\x00\\x00\\'\\x00$\\x00\\x00\\x00\\x00\\x00\\x00\\x00 \\x00\\x00\\x00j+\\x00\\x00song_data/A/B/A/TRABACN128F425B784.json\\n\\x00 \\x00\\x00\\x00\\x00\\x00\\x01\\x00\\x18\\x00\\xc9\\r\\xcfoC\\xb4\\xd4\\x01p\\xccS6[\\xb7\\xd4\\x01p\\xccS6[\\xb7\\xd4\\x01PK\\x01\\x02?\\x00\\x14\\x00\\x00\\x00\\x08\\x00B\\x828NU\\xaa\\xf5\\xe3\\xc1\\x00\\x00\\x00\\x16\\x01\\x00\\x00\\'\\x00$\\x00\\x00\\x00\\x00\\x00\\x00\\x00 \\x00\\x00\\x00W,\\x00\\x00song_data/A/B/A/TRABAFJ128F42AF24E.json\\n\\x00 \\x00\\x00\\x00\\x00\\x00\\x01\\x00\\x18\\x00v\\x9d\\xd5oC\\xb4\\xd4\\x01\\x91\\x8bV6[\\xb7\\xd4\\x01\\x91\\x8bV6[\\xb7\\xd4\\x01PK\\x01\\x02?\\x00\\x14\\x00\\x00\\x00\\x08\\x00B\\x828N*\\xad\\na\\xd8\\x00\\x00\\x003\\x01\\x00\\x00\\'\\x00$\\x00\\x00\\x00\\x00\\x00\\x00\\x00 \\x00\\x00\\x00]-\\x00\\x00song_data/A/B/A/TRABAFP128F931E9A1.json\\n\\x00 \\x00\\x00\\x00\\x00\\x00\\x01\\x00\\x18\\x00\\xdaB\\xdboC\\xb4\\xd4\\x01|\\xd5X6[\\xb7\\xd4\\x01|\\xd5X6[\\xb7\\xd4\\x01PK\\x01\\x02?\\x00\\x14\\x00\\x00\\x00\\x08\\x00B\\x828NYr\\x8e\\xc4\\xc5\\x00\\x00\\x00\"\\x01\\x00\\x00\\'\\x00$\\x00\\x00\\x00\\x00\\x00\\x00\\x00 \\x00\\x00\\x00z.\\x00\\x00song_data/A/B/A/TRABAIO128F42938F9.json\\n\\x00 \\x00\\x00\\x00\\x00\\x00\\x01\\x00\\x18\\x00\\x9c\\xd6\\xdfoC\\xb4\\xd4\\x01\\x98\\x94[6[\\xb7\\xd4\\x01\\x98\\x94[6[\\xb7\\xd4\\x01PK\\x01\\x02?\\x00\\x14\\x00\\x00\\x00\\x08\\x00B\\x828N\\x1em\\xadm\\xa5\\x00\\x00\\x00\\xfa\\x00\\x00\\x00\\'\\x00$\\x00\\x00\\x00\\x00\\x00\\x00\\x00 \\x00\\x00\\x00\\x84/\\x00\\x00song_data/A/B/A/TRABATO128F42627E9.json\\n\\x00 \\x00\\x00\\x00\\x00\\x00\\x01\\x00\\x18\\x000I\\xe4oC\\xb4\\xd4\\x01\\xed\\xda_6[\\xb7\\xd4\\x01\\xed\\xda_6[\\xb7\\xd4\\x01PK\\x01\\x02?\\x00\\x14\\x00\\x00\\x00\\x08\\x00B\\x828N\\xba\\x07\\xe2\\xe0\\xbd\\x00\\x00\\x00\\x19\\x01\\x00\\x00\\'\\x00$\\x00\\x00\\x00\\x00\\x00\\x00\\x00 \\x00\\x00\\x00n0\\x00\\x00song_data/A/B/A/TRABAVQ12903CBF7E0.json\\n\\x00 \\x00\\x00\\x00\\x00\\x00\\x01\\x00\\x18\\x00\\x0cb\\xe8oC\\xb4\\xd4\\x01\\xed\\x83c6[\\xb7\\xd4\\x01\\xed\\x83c6[\\xb7\\xd4\\x01PK\\x01\\x02?\\x00\\x14\\x00\\x00\\x00\\x08\\x00B\\x828N/\\x80<\\xd0\\xbf\\x00\\x00\\x00\\x16\\x01\\x00\\x00\\'\\x00$\\x00\\x00\\x00\\x00\\x00\\x00\\x00 \\x00\\x00\\x00p1\\x00\\x00song_data/A/B/A/TRABAWW128F4250A31.json\\n\\x00 \\x00\\x00\\x00\\x00\\x00\\x01\\x00\\x18\\x00\\xf0\\xa7\\xecoC\\xb4\\xd4\\x01W\\x06g6[\\xb7\\xd4\\x01W\\x06g6[\\xb7\\xd4\\x01PK\\x01\\x02?\\x00\\x14\\x00\\x00\\x00\\x08\\x00B\\x828N\\x8c\\x89\\x14\\xc6\\xaf\\x00\\x00\\x00\\xff\\x00\\x00\\x00\\'\\x00$\\x00\\x00\\x00\\x00\\x00\\x00\\x00 \\x00\\x00\\x00t2\\x00\\x00song_data/A/B/A/TRABAXL128F424FC50.json\\n\\x00 \\x00\\x00\\x00\\x00\\x00\\x01\\x00\\x18\\x00\\x0c\\xd8\\xf1oC\\xb4\\xd4\\x01\\x80\\xeci6[\\xb7\\xd4\\x01\\x80\\xeci6[\\xb7\\xd4\\x01PK\\x01\\x02?\\x00\\x14\\x00\\x00\\x00\\x08\\x00B\\x828NQ\\xf0\\xb1\\xd1\\xcb\\x00\\x00\\x00#\\x01\\x00\\x00\\'\\x00$\\x00\\x00\\x00\\x00\\x00\\x00\\x00 \\x00\\x00\\x00h3\\x00\\x00song_data/A/B/A/TRABAXR128F426515F.json\\n\\x00 \\x00\\x00\\x00\\x00\\x00\\x01\\x00\\x18\\x00\\xac\\xcf\\xf5oC\\xb4\\xd4\\x01\\xca m6[\\xb7\\xd4\\x01\\xca m6[\\xb7\\xd4\\x01PK\\x01\\x02?\\x00\\x14\\x00\\x00\\x00\\x08\\x00B\\x828N\\xad)\\xbc\\x02\\xad\\x00\\x00\\x00\\n\\x01\\x00\\x00\\'\\x00$\\x00\\x00\\x00\\x00\\x00\\x00\\x00 \\x00\\x00\\x00x4\\x00\\x00song_data/A/B/A/TRABAXV128F92F6AE3.json\\n\\x00 \\x00\\x00\\x00\\x00\\x00\\x01\\x00\\x18\\x00\\x868\\xfcoC\\xb4\\xd4\\x01\\xb2\\x8dq6[\\xb7\\xd4\\x01\\xb2\\x8dq6[\\xb7\\xd4\\x01PK\\x01\\x02?\\x00\\x14\\x00\\x00\\x00\\x08\\x00B\\x828N\\x0fj\\xbf\\x95\\xa4\\x00\\x00\\x00\\xf6\\x00\\x00\\x00\\'\\x00$\\x00\\x00\\x00\\x00\\x00\\x00\\x00 \\x00\\x00\\x00j5\\x00\\x00song_data/A/B/A/TRABAZH128F930419A.json\\n\\x00 \\x00\\x00\\x00\\x00\\x00\\x01\\x00\\x18\\x000\\x8b\\x03pC\\xb4\\xd4\\x01+\\x10u6[\\xb7\\xd4\\x01+\\x10u6[\\xb7\\xd4\\x01PK\\x01\\x02?\\x00\\x14\\x00\\x00\\x00\\x00\\x00\\xb9u<N\\x00\\x00\\x00\\x00\\x00\\x00\\x00\\x00\\x00\\x00\\x00\\x00\\x10\\x00$\\x00\\x00\\x00\\x00\\x00\\x00\\x00\\x10\\x00\\x00\\x00S6\\x00\\x00song_data/A/B/B/\\n\\x00 \\x00\\x00\\x00\\x00\\x00\\x01\\x00\\x18\\x00\\xc0\\xa6\\x9d6[\\xb7\\xd4\\x01\\xc0\\xa6\\x9d6[\\xb7\\xd4\\x01\\xcb\\xbdv6[\\xb7\\xd4\\x01PK\\x01\\x02?\\x00\\x14\\x00\\x00\\x00\\x08\\x00B\\x828N\\xf9s*S\\xbc\\x00\\x00\\x00\\x14\\x01\\x00\\x00\\'\\x00$\\x00\\x00\\x00\\x00\\x00\\x00\\x00 \\x00\\x00\\x00\\x816\\x00\\x00song_data/A/B/B/TRABBAM128F429D223.json\\n\\x00 \\x00\\x00\\x00\\x00\\x00\\x01\\x00\\x18\\x00pv\\rpC\\xb4\\xd4\\x01\\xa5\\xb9x6[\\xb7\\xd4\\x01\\xa5\\xb9x6[\\xb7\\xd4\\x01PK\\x01\\x02?\\x00\\x14\\x00\\x00\\x00\\x08\\x00B\\x828N\\xa6\\xb8\\x94n\\xa7\\x00\\x00\\x00\\xfd\\x00\\x00\\x00\\'\\x00$\\x00\\x00\\x00\\x00\\x00\\x00\\x00 \\x00\\x00\\x00\\x827\\x00\\x00song_data/A/B/B/TRABBBV128F42967D7.json\\n\\x00 \\x00\\x00\\x00\\x00\\x00\\x01\\x00\\x18\\x00\\xb9e\\x15pC\\xb4\\xd4\\x01\\xf7\\x14|6[\\xb7\\xd4\\x01\\xf7\\x14|6[\\xb7\\xd4\\x01PK\\x01\\x02?\\x00\\x14\\x00\\x00\\x00\\x08\\x00B\\x828N)u\\xbe\\x96\\xbe\\x00\\x00\\x00\\x16\\x01\\x00\\x00\\'\\x00$\\x00\\x00\\x00\\x00\\x00\\x00\\x00 \\x00\\x00\\x00n8\\x00\\x00song_data/A/B/B/TRABBJE12903CDB442.json\\n\\x00 \\x00\\x00\\x00\\x00\\x00\\x01\\x00\\x18\\x00\\xb5\\xce\\x1bpC\\xb4\\xd4\\x01\\xdd^~6[\\xb7\\xd4\\x01\\xdd^~6[\\xb7\\xd4\\x01PK\\x01\\x02?\\x00\\x14\\x00\\x00\\x00\\x08\\x00B\\x828N\\xb6\\xe6\\x8f\\xae\\xc1\\x00\\x00\\x00\\x19\\x01\\x00\\x00\\'\\x00$\\x00\\x00\\x00\\x00\\x00\\x00\\x00 \\x00\\x00\\x00q9\\x00\\x00song_data/A/B/B/TRABBKX128F4285205.json\\n\\x00 \\x00\\x00\\x00\\x00\\x00\\x01\\x00\\x18\\x00\\xda6\"pC\\xb4\\xd4\\x01+l\\x816[\\xb7\\xd4\\x01+l\\x816[\\xb7\\xd4\\x01PK\\x01\\x02?\\x00\\x14\\x00\\x00\\x00\\x08\\x00B\\x828NJ\\x06C\\xfe\\xbf\\x00\\x00\\x00\\x14\\x01\\x00\\x00\\'\\x00$\\x00\\x00\\x00\\x00\\x00\\x00\\x00 \\x00\\x00\\x00w:\\x00\\x00song_data/A/B/B/TRABBLU128F93349CF.json\\n\\x00 \\x00\\x00\\x00\\x00\\x00\\x01\\x00\\x18\\x00\\x18w\\'pC\\xb4\\xd4\\x01_R\\x846[\\xb7\\xd4\\x01_R\\x846[\\xb7\\xd4\\x01PK\\x01\\x02?\\x00\\x14\\x00\\x00\\x00\\x08\\x00B\\x828N\\xb8<\\xa7q\\xa7\\x00\\x00\\x00\\xfa\\x00\\x00\\x00\\'\\x00$\\x00\\x00\\x00\\x00\\x00\\x00\\x00 \\x00\\x00\\x00{;\\x00\\x00song_data/A/B/B/TRABBNP128F932546F.json\\n\\x00 \\x00\\x00\\x00\\x00\\x00\\x01\\x00\\x18\\x00\\xea\\xfa+pC\\xb4\\xd4\\x01\\x8a8\\x876[\\xb7\\xd4\\x01\\x8a8\\x876[\\xb7\\xd4\\x01PK\\x01\\x02?\\x00\\x14\\x00\\x00\\x00\\x08\\x00B\\x828N\\xcf\\x03\\x02\\xcf\\xbf\\x00\\x00\\x00\\x19\\x01\\x00\\x00\\'\\x00$\\x00\\x00\\x00\\x00\\x00\\x00\\x00 \\x00\\x00\\x00g<\\x00\\x00song_data/A/B/B/TRABBOP128F931B50D.json\\n\\x00 \\x00\\x00\\x00\\x00\\x00\\x01\\x00\\x18\\x00\\xd1@0pC\\xb4\\xd4\\x01\\xb6\\xf7\\x896[\\xb7\\xd4\\x01\\xb6\\xf7\\x896[\\xb7\\xd4\\x01PK\\x01\\x02?\\x00\\x14\\x00\\x00\\x00\\x08\\x00B\\x828N\\x0f\\xc9F[\\xf0\\x00\\x00\\x00b\\x01\\x00\\x00\\'\\x00$\\x00\\x00\\x00\\x00\\x00\\x00\\x00 \\x00\\x00\\x00k=\\x00\\x00song_data/A/B/B/TRABBOR128F4286200.json\\n\\x00 \\x00\\x00\\x00\\x00\\x00\\x01\\x00\\x18\\x00 \\r6pC\\xb4\\xd4\\x01\\xf9R\\x8d6[\\xb7\\xd4\\x01\\xf9R\\x8d6[\\xb7\\xd4\\x01PK\\x01\\x02?\\x00\\x14\\x00\\x00\\x00\\x08\\x00B\\x828N\\x1a\\xe9\\x8f\\xa5\\xb7\\x00\\x00\\x00\\x11\\x01\\x00\\x00\\'\\x00$\\x00\\x00\\x00\\x00\\x00\\x00\\x00 \\x00\\x00\\x00\\xa0>\\x00\\x00song_data/A/B/B/TRABBTA128F933D304.json\\n\\x00 \\x00\\x00\\x00\\x00\\x00\\x01\\x00\\x18\\x00\\x0b\\x12=pC\\xb4\\xd4\\x01J`\\x906[\\xb7\\xd4\\x01J`\\x906[\\xb7\\xd4\\x01PK\\x01\\x02?\\x00\\x14\\x00\\x00\\x00\\x08\\x00C\\x828N.\\xcf\\x981\\xb0\\x00\\x00\\x00\\x0b\\x01\\x00\\x00\\'\\x00$\\x00\\x00\\x00\\x00\\x00\\x00\\x00 \\x00\\x00\\x00\\x9c?\\x00\\x00song_data/A/B/B/TRABBVJ128F92F7EAA.json\\n\\x00 \\x00\\x00\\x00\\x00\\x00\\x01\\x00\\x18\\x00\\xd5\\x87FpC\\xb4\\xd4\\x01\\x8a\\xa7\\x946[\\xb7\\xd4\\x01\\x8a\\xa7\\x946[\\xb7\\xd4\\x01PK\\x01\\x02?\\x00\\x14\\x00\\x00\\x00\\x08\\x00C\\x828Nq\\x98\\xc7\\xe6\\xb5\\x00\\x00\\x00\\x0c\\x01\\x00\\x00\\'\\x00$\\x00\\x00\\x00\\x00\\x00\\x00\\x00 \\x00\\x00\\x00\\x91@\\x00\\x00song_data/A/B/B/TRABBXU128F92FEF48.json\\n\\x00 \\x00\\x00\\x00\\x00\\x00\\x01\\x00\\x18\\x00\\xd4\\x90KpC\\xb4\\xd4\\x01\\x1d\\xaf\\x996[\\xb7\\xd4\\x01\\x1d\\xaf\\x996[\\xb7\\xd4\\x01PK\\x01\\x02?\\x00\\x14\\x00\\x00\\x00\\x08\\x00C\\x828N\\xf1%I\\x97\\xb0\\x00\\x00\\x00\\t\\x01\\x00\\x00\\'\\x00$\\x00\\x00\\x00\\x00\\x00\\x00\\x00 \\x00\\x00\\x00\\x8bA\\x00\\x00song_data/A/B/B/TRABBZN12903CD9297.json\\n\\x00 \\x00\\x00\\x00\\x00\\x00\\x01\\x00\\x18\\x00/:OpC\\xb4\\xd4\\x01\\xc0\\xa6\\x9d6[\\xb7\\xd4\\x01\\xc0\\xa6\\x9d6[\\xb7\\xd4\\x01PK\\x01\\x02?\\x00\\x14\\x00\\x00\\x00\\x00\\x00\\xb9u<N\\x00\\x00\\x00\\x00\\x00\\x00\\x00\\x00\\x00\\x00\\x00\\x00\\x10\\x00$\\x00\\x00\\x00\\x00\\x00\\x00\\x00\\x10\\x00\\x00\\x00\\x80B\\x00\\x00song_data/A/B/C/\\n\\x00 \\x00\\x00\\x00\\x00\\x00\\x01\\x00\\x18\\x00\\xcf\\n\\xbf6[\\xb7\\xd4\\x01\\xcf\\n\\xbf6[\\xb7\\xd4\\x01r\\xa2\\x9f6[\\xb7\\xd4\\x01PK\\x01\\x02?\\x00\\x14\\x00\\x00\\x00\\x08\\x00C\\x828N\\xb0[rG\\xaa\\x00\\x00\\x00\\xff\\x00\\x00\\x00\\'\\x00$\\x00\\x00\\x00\\x00\\x00\\x00\\x00 \\x00\\x00\\x00\\xaeB\\x00\\x00song_data/A/B/C/TRABCAJ12903CDFCC2.json\\n\\x00 \\x00\\x00\\x00\\x00\\x00\\x01\\x00\\x18\\x00\\x1f2SpC\\xb4\\xd4\\x01L\\xb4\\xa16[\\xb7\\xd4\\x01L\\xb4\\xa16[\\xb7\\xd4\\x01PK\\x01\\x02?\\x00\\x14\\x00\\x00\\x00\\x08\\x00C\\x828Nw\\x1e\\x95d\\xb3\\x00\\x00\\x00\\x07\\x01\\x00\\x00\\'\\x00$\\x00\\x00\\x00\\x00\\x00\\x00\\x00 \\x00\\x00\\x00\\x9dC\\x00\\x00song_data/A/B/C/TRABCEC128F426456E.json\\n\\x00 \\x00\\x00\\x00\\x00\\x00\\x01\\x00\\x18\\x00\\xaewWpC\\xb4\\xd4\\x01W6\\xa46[\\xb7\\xd4\\x01W6\\xa46[\\xb7\\xd4\\x01PK\\x01\\x02?\\x00\\x14\\x00\\x00\\x00\\x08\\x00C\\x828N.q\\xf7_\\xaa\\x00\\x00\\x00\\xfe\\x00\\x00\\x00\\'\\x00$\\x00\\x00\\x00\\x00\\x00\\x00\\x00 \\x00\\x00\\x00\\x95D\\x00\\x00song_data/A/B/C/TRABCEI128F424C983.json\\n\\x00 \\x00\\x00\\x00\\x00\\x00\\x01\\x00\\x18\\x00\\x84\\xb9]pC\\xb4\\xd4\\x01g\\xa7\\xa66[\\xb7\\xd4\\x01g\\xa7\\xa66[\\xb7\\xd4\\x01PK\\x01\\x02?\\x00\\x14\\x00\\x00\\x00\\x08\\x00C\\x828N\\x9a\\xcdV\\xa4\\xd7\\x00\\x00\\x00/\\x01\\x00\\x00\\'\\x00$\\x00\\x00\\x00\\x00\\x00\\x00\\x00 \\x00\\x00\\x00\\x84E\\x00\\x00song_data/A/B/C/TRABCFL128F149BB0D.json\\n\\x00 \\x00\\x00\\x00\\x00\\x00\\x01\\x00\\x18\\x00\\x88\\xbedpC\\xb4\\xd4\\x01k\\x17\\xaa6[\\xb7\\xd4\\x01k\\x17\\xaa6[\\xb7\\xd4\\x01PK\\x01\\x02?\\x00\\x14\\x00\\x00\\x00\\x08\\x00C\\x828N/c\\xdfR\\xd8\\x00\\x00\\x000\\x01\\x00\\x00\\'\\x00$\\x00\\x00\\x00\\x00\\x00\\x00\\x00 \\x00\\x00\\x00\\xa0F\\x00\\x00song_data/A/B/C/TRABCIX128F4265903.json\\n\\x00 \\x00\\x00\\x00\\x00\\x00\\x01\\x00\\x18\\x00BukpC\\xb4\\xd4\\x01\\x02\\x9e\\xab6[\\xb7\\xd4\\x01\\x02\\x9e\\xab6[\\xb7\\xd4\\x01PK\\x01\\x02?\\x00\\x14\\x00\\x00\\x00\\x08\\x00C\\x828N\\x074\\x07\\x1f\\xce\\x00\\x00\\x00\\'\\x01\\x00\\x00\\'\\x00$\\x00\\x00\\x00\\x00\\x00\\x00\\x00 \\x00\\x00\\x00\\xbdG\\x00\\x00song_data/A/B/C/TRABCKL128F423A778.json\\n\\x00 \\x00\\x00\\x00\\x00\\x00\\x01\\x00\\x18\\x00\\xda/ppC\\xb4\\xd4\\x01\\xcd\\x99\\xad6[\\xb7\\xd4\\x01\\xcd\\x99\\xad6[\\xb7\\xd4\\x01PK\\x01\\x02?\\x00\\x14\\x00\\x00\\x00\\x08\\x00C\\x828N/\\xb8\\x8a!\\xa7\\x00\\x00\\x00\\xfa\\x00\\x00\\x00\\'\\x00$\\x00\\x00\\x00\\x00\\x00\\x00\\x00 \\x00\\x00\\x00\\xd0H\\x00\\x00song_data/A/B/C/TRABCPZ128F4275C32.json\\n\\x00 \\x00\\x00\\x00\\x00\\x00\\x01\\x00\\x18\\x00\\xf3_upC\\xb4\\xd4\\x01\\x87\\xa1\\xaf6[\\xb7\\xd4\\x01\\x87\\xa1\\xaf6[\\xb7\\xd4\\x01PK\\x01\\x02?\\x00\\x14\\x00\\x00\\x00\\x08\\x00C\\x828NX\\xbb\\x02\\xc4\\xa9\\x00\\x00\\x00\\xfc\\x00\\x00\\x00\\'\\x00$\\x00\\x00\\x00\\x00\\x00\\x00\\x00 \\x00\\x00\\x00\\xbcI\\x00\\x00song_data/A/B/C/TRABCRU128F423F449.json\\n\\x00 \\x00\\x00\\x00\\x00\\x00\\x01\\x00\\x18\\x00\\x10izpC\\xb4\\xd4\\x01\\xaa9\\xb26[\\xb7\\xd4\\x01\\xaa9\\xb26[\\xb7\\xd4\\x01PK\\x01\\x02?\\x00\\x14\\x00\\x00\\x00\\x08\\x00C\\x828N\\xbd\\xee3;\\x9b\\x00\\x00\\x00\\xee\\x00\\x00\\x00\\'\\x00$\\x00\\x00\\x00\\x00\\x00\\x00\\x00 \\x00\\x00\\x00\\xaaJ\\x00\\x00song_data/A/B/C/TRABCTK128F934B224.json\\n\\x00 \\x00\\x00\\x00\\x00\\x00\\x01\\x00\\x18\\x00*\\xe7\\x7fpC\\xb4\\xd4\\x01\\xc9F\\xb56[\\xb7\\xd4\\x01\\xc9F\\xb56[\\xb7\\xd4\\x01PK\\x01\\x02?\\x00\\x14\\x00\\x00\\x00\\x08\\x00C\\x828N@=\\xad\\xfa\\xa8\\x00\\x00\\x00\\xfd\\x00\\x00\\x00\\'\\x00$\\x00\\x00\\x00\\x00\\x00\\x00\\x00 \\x00\\x00\\x00\\x8aK\\x00\\x00song_data/A/B/C/TRABCUQ128E0783E2B.json\\n\\x00 \\x00\\x00\\x00\\x00\\x00\\x01\\x00\\x18\\x00\\x99\\x90\\x83pC\\xb4\\xd4\\x01F\\xc9\\xb86[\\xb7\\xd4\\x01F\\xc9\\xb86[\\xb7\\xd4\\x01PK\\x01\\x02?\\x00\\x14\\x00\\x00\\x00\\x08\\x00C\\x828N\\xb3D\\xccQ\\xad\\x00\\x00\\x00\\x05\\x01\\x00\\x00\\'\\x00$\\x00\\x00\\x00\\x00\\x00\\x00\\x00 \\x00\\x00\\x00wL\\x00\\x00song_data/A/B/C/TRABCXB128F4286BD3.json\\n\\x00 \\x00\\x00\\x00\\x00\\x00\\x01\\x00\\x18\\x00\\r6\\x89pC\\xb4\\xd4\\x01\\x8d\\xaf\\xbb6[\\xb7\\xd4\\x01\\x8d\\xaf\\xbb6[\\xb7\\xd4\\x01PK\\x01\\x02?\\x00\\x14\\x00\\x00\\x00\\x08\\x00C\\x828N\\xde\\xa3V\\xb8\\xb4\\x00\\x00\\x00\\x05\\x01\\x00\\x00\\'\\x00$\\x00\\x00\\x00\\x00\\x00\\x00\\x00 \\x00\\x00\\x00iM\\x00\\x00song_data/A/B/C/TRABCYE128F934CE1D.json\\n\\x00 \\x00\\x00\\x00\\x00\\x00\\x01\\x00\\x18\\x00\\xfe\\xc5\\x8fpC\\xb4\\xd4\\x01\\xcf\\n\\xbf6[\\xb7\\xd4\\x01\\xcf\\n\\xbf6[\\xb7\\xd4\\x01PK\\x05\\x06\\x00\\x00\\x00\\x00U\\x00U\\x00\\xf3&\\x00\\x00bN\\x00\\x00\\x00\\x00'}"
            ]
          },
          "metadata": {
            "tags": []
          },
          "execution_count": 14
        }
      ]
    },
    {
      "cell_type": "code",
      "metadata": {
        "id": "b_6kEtfGC2qH"
      },
      "source": [
        "#upload log data from local drive \n",
        "from google.colab import files\n",
        "files.upload()"
      ],
      "execution_count": null,
      "outputs": []
    },
    {
      "cell_type": "code",
      "metadata": {
        "colab": {
          "base_uri": "https://localhost:8080/"
        },
        "id": "rqTXE_OckXtu",
        "outputId": "e6b524c1-8a68-4ed9-9055-6643139c6c37"
      },
      "source": [
        "#list all files in the directory \n",
        "!ls"
      ],
      "execution_count": null,
      "outputs": [
        {
          "output_type": "stream",
          "text": [
            "log-data.zip\t\t      song-data.zip\n",
            "ngrok\t\t\t      spark-3.0.2-bin-hadoop2.7\n",
            "ngrok-stable-linux-amd64.zip  spark-3.0.2-bin-hadoop2.7.tgz\n",
            "sample_data\n"
          ],
          "name": "stdout"
        }
      ]
    },
    {
      "cell_type": "code",
      "metadata": {
        "colab": {
          "base_uri": "https://localhost:8080/"
        },
        "id": "kzwiCUftkea4",
        "outputId": "87b07102-3474-444e-cd3c-8e154f0675c3"
      },
      "source": [
        "#unzip song data \n",
        "!unzip song-data.zip"
      ],
      "execution_count": null,
      "outputs": [
        {
          "output_type": "stream",
          "text": [
            "Archive:  song-data.zip\n",
            "   creating: song_data/\n",
            "  inflating: song_data/.DS_Store     \n",
            "   creating: song_data/A/\n",
            "  inflating: song_data/A/.DS_Store   \n",
            "   creating: song_data/A/A/\n",
            "  inflating: song_data/A/A/.DS_Store  \n",
            "   creating: song_data/A/A/A/\n",
            "  inflating: song_data/A/A/A/TRAAAAW128F429D538.json  \n",
            "  inflating: song_data/A/A/A/TRAAABD128F429CF47.json  \n",
            "  inflating: song_data/A/A/A/TRAAADZ128F9348C2E.json  \n",
            "  inflating: song_data/A/A/A/TRAAAEF128F4273421.json  \n",
            "  inflating: song_data/A/A/A/TRAAAFD128F92F423A.json  \n",
            "  inflating: song_data/A/A/A/TRAAAMO128F1481E7F.json  \n",
            "  inflating: song_data/A/A/A/TRAAAMQ128F1460CD3.json  \n",
            "  inflating: song_data/A/A/A/TRAAAPK128E0786D96.json  \n",
            "  inflating: song_data/A/A/A/TRAAARJ128F9320760.json  \n",
            "  inflating: song_data/A/A/A/TRAAAVG12903CFA543.json  \n",
            "  inflating: song_data/A/A/A/TRAAAVO128F93133D4.json  \n",
            "   creating: song_data/A/A/B/\n",
            "  inflating: song_data/A/A/B/TRAABCL128F4286650.json  \n",
            "  inflating: song_data/A/A/B/TRAABDL12903CAABBA.json  \n",
            "  inflating: song_data/A/A/B/TRAABJL12903CDCF1A.json  \n",
            "  inflating: song_data/A/A/B/TRAABJV128F1460C49.json  \n",
            "  inflating: song_data/A/A/B/TRAABLR128F423B7E3.json  \n",
            "  inflating: song_data/A/A/B/TRAABNV128F425CEE1.json  \n",
            "  inflating: song_data/A/A/B/TRAABRB128F9306DD5.json  \n",
            "  inflating: song_data/A/A/B/TRAABVM128F92CA9DC.json  \n",
            "  inflating: song_data/A/A/B/TRAABXG128F9318EBD.json  \n",
            "  inflating: song_data/A/A/B/TRAABYN12903CFD305.json  \n",
            "  inflating: song_data/A/A/B/TRAABYW128F4244559.json  \n",
            "   creating: song_data/A/A/C/\n",
            "  inflating: song_data/A/A/C/TRAACCG128F92E8A55.json  \n",
            "  inflating: song_data/A/A/C/TRAACER128F4290F96.json  \n",
            "  inflating: song_data/A/A/C/TRAACFV128F935E50B.json  \n",
            "  inflating: song_data/A/A/C/TRAACHN128F1489601.json  \n",
            "  inflating: song_data/A/A/C/TRAACIW12903CC0F6D.json  \n",
            "  inflating: song_data/A/A/C/TRAACLV128F427E123.json  \n",
            "  inflating: song_data/A/A/C/TRAACNS128F14A2DF5.json  \n",
            "  inflating: song_data/A/A/C/TRAACOW128F933E35F.json  \n",
            "  inflating: song_data/A/A/C/TRAACPE128F421C1B9.json  \n",
            "  inflating: song_data/A/A/C/TRAACQT128F9331780.json  \n",
            "  inflating: song_data/A/A/C/TRAACSL128F93462F4.json  \n",
            "  inflating: song_data/A/A/C/TRAACTB12903CAAF15.json  \n",
            "  inflating: song_data/A/A/C/TRAACVS128E078BE39.json  \n",
            "  inflating: song_data/A/A/C/TRAACZK128F4243829.json  \n",
            "   creating: song_data/A/B/\n",
            "  inflating: song_data/A/B/.DS_Store  \n",
            "   creating: song_data/A/B/A/\n",
            "  inflating: song_data/A/B/A/TRABACN128F425B784.json  \n",
            "  inflating: song_data/A/B/A/TRABAFJ128F42AF24E.json  \n",
            "  inflating: song_data/A/B/A/TRABAFP128F931E9A1.json  \n",
            "  inflating: song_data/A/B/A/TRABAIO128F42938F9.json  \n",
            "  inflating: song_data/A/B/A/TRABATO128F42627E9.json  \n",
            "  inflating: song_data/A/B/A/TRABAVQ12903CBF7E0.json  \n",
            "  inflating: song_data/A/B/A/TRABAWW128F4250A31.json  \n",
            "  inflating: song_data/A/B/A/TRABAXL128F424FC50.json  \n",
            "  inflating: song_data/A/B/A/TRABAXR128F426515F.json  \n",
            "  inflating: song_data/A/B/A/TRABAXV128F92F6AE3.json  \n",
            "  inflating: song_data/A/B/A/TRABAZH128F930419A.json  \n",
            "   creating: song_data/A/B/B/\n",
            "  inflating: song_data/A/B/B/TRABBAM128F429D223.json  \n",
            "  inflating: song_data/A/B/B/TRABBBV128F42967D7.json  \n",
            "  inflating: song_data/A/B/B/TRABBJE12903CDB442.json  \n",
            "  inflating: song_data/A/B/B/TRABBKX128F4285205.json  \n",
            "  inflating: song_data/A/B/B/TRABBLU128F93349CF.json  \n",
            "  inflating: song_data/A/B/B/TRABBNP128F932546F.json  \n",
            "  inflating: song_data/A/B/B/TRABBOP128F931B50D.json  \n",
            "  inflating: song_data/A/B/B/TRABBOR128F4286200.json  \n",
            "  inflating: song_data/A/B/B/TRABBTA128F933D304.json  \n",
            "  inflating: song_data/A/B/B/TRABBVJ128F92F7EAA.json  \n",
            "  inflating: song_data/A/B/B/TRABBXU128F92FEF48.json  \n",
            "  inflating: song_data/A/B/B/TRABBZN12903CD9297.json  \n",
            "   creating: song_data/A/B/C/\n",
            "  inflating: song_data/A/B/C/TRABCAJ12903CDFCC2.json  \n",
            "  inflating: song_data/A/B/C/TRABCEC128F426456E.json  \n",
            "  inflating: song_data/A/B/C/TRABCEI128F424C983.json  \n",
            "  inflating: song_data/A/B/C/TRABCFL128F149BB0D.json  \n",
            "  inflating: song_data/A/B/C/TRABCIX128F4265903.json  \n",
            "  inflating: song_data/A/B/C/TRABCKL128F423A778.json  \n",
            "  inflating: song_data/A/B/C/TRABCPZ128F4275C32.json  \n",
            "  inflating: song_data/A/B/C/TRABCRU128F423F449.json  \n",
            "  inflating: song_data/A/B/C/TRABCTK128F934B224.json  \n",
            "  inflating: song_data/A/B/C/TRABCUQ128E0783E2B.json  \n",
            "  inflating: song_data/A/B/C/TRABCXB128F4286BD3.json  \n",
            "  inflating: song_data/A/B/C/TRABCYE128F934CE1D.json  \n"
          ],
          "name": "stdout"
        }
      ]
    },
    {
      "cell_type": "code",
      "metadata": {
        "colab": {
          "base_uri": "https://localhost:8080/"
        },
        "id": "gfJsJPAqkhT3",
        "outputId": "1620ed28-5c3b-4994-9a52-9160bf6da9b4"
      },
      "source": [
        "#list the files to check song_data folder \n",
        "!ls"
      ],
      "execution_count": null,
      "outputs": [
        {
          "output_type": "stream",
          "text": [
            "log-data.zip\t\t      sample_data    spark-3.0.2-bin-hadoop2.7\n",
            "ngrok\t\t\t      song_data      spark-3.0.2-bin-hadoop2.7.tgz\n",
            "ngrok-stable-linux-amd64.zip  song-data.zip\n"
          ],
          "name": "stdout"
        }
      ]
    },
    {
      "cell_type": "code",
      "metadata": {
        "colab": {
          "base_uri": "https://localhost:8080/"
        },
        "id": "UWOpGBz3kmHe",
        "outputId": "92231fbd-2996-4252-abd4-1fadf402db9d"
      },
      "source": [
        "#unzip log data \n",
        "!unzip log-data.zip"
      ],
      "execution_count": null,
      "outputs": [
        {
          "output_type": "stream",
          "text": [
            "Archive:  log-data.zip\n",
            "  inflating: 2018-11-01-events.json  \n",
            "  inflating: 2018-11-02-events.json  \n",
            "  inflating: 2018-11-03-events.json  \n",
            "  inflating: 2018-11-04-events.json  \n",
            "  inflating: 2018-11-05-events.json  \n",
            "  inflating: 2018-11-06-events.json  \n",
            "  inflating: 2018-11-07-events.json  \n",
            "  inflating: 2018-11-08-events.json  \n",
            "  inflating: 2018-11-09-events.json  \n",
            "  inflating: 2018-11-10-events.json  \n",
            "  inflating: 2018-11-11-events.json  \n",
            "  inflating: 2018-11-12-events.json  \n",
            "  inflating: 2018-11-13-events.json  \n",
            "  inflating: 2018-11-14-events.json  \n",
            "  inflating: 2018-11-15-events.json  \n",
            "  inflating: 2018-11-16-events.json  \n",
            "  inflating: 2018-11-17-events.json  \n",
            "  inflating: 2018-11-18-events.json  \n",
            "  inflating: 2018-11-19-events.json  \n",
            "  inflating: 2018-11-20-events.json  \n",
            "  inflating: 2018-11-21-events.json  \n",
            "  inflating: 2018-11-22-events.json  \n",
            "  inflating: 2018-11-23-events.json  \n",
            "  inflating: 2018-11-24-events.json  \n",
            "  inflating: 2018-11-25-events.json  \n",
            "  inflating: 2018-11-26-events.json  \n",
            "  inflating: 2018-11-27-events.json  \n",
            "  inflating: 2018-11-28-events.json  \n",
            "  inflating: 2018-11-29-events.json  \n",
            "  inflating: 2018-11-30-events.json  \n"
          ],
          "name": "stdout"
        }
      ]
    },
    {
      "cell_type": "code",
      "metadata": {
        "colab": {
          "base_uri": "https://localhost:8080/"
        },
        "id": "H0AEXxrskogp",
        "outputId": "53e49d64-7580-4b6b-fb13-233872a932a1"
      },
      "source": [
        "#list all the files to check log_data \n",
        "!ls"
      ],
      "execution_count": null,
      "outputs": [
        {
          "output_type": "stream",
          "text": [
            "2018-11-01-events.json\t2018-11-14-events.json\t2018-11-27-events.json\n",
            "2018-11-02-events.json\t2018-11-15-events.json\t2018-11-28-events.json\n",
            "2018-11-03-events.json\t2018-11-16-events.json\t2018-11-29-events.json\n",
            "2018-11-04-events.json\t2018-11-17-events.json\t2018-11-30-events.json\n",
            "2018-11-05-events.json\t2018-11-18-events.json\tlog-data.zip\n",
            "2018-11-06-events.json\t2018-11-19-events.json\tngrok\n",
            "2018-11-07-events.json\t2018-11-20-events.json\tngrok-stable-linux-amd64.zip\n",
            "2018-11-08-events.json\t2018-11-21-events.json\tsample_data\n",
            "2018-11-09-events.json\t2018-11-22-events.json\tsong_data\n",
            "2018-11-10-events.json\t2018-11-23-events.json\tsong-data.zip\n",
            "2018-11-11-events.json\t2018-11-24-events.json\tspark-3.0.2-bin-hadoop2.7\n",
            "2018-11-12-events.json\t2018-11-25-events.json\tspark-3.0.2-bin-hadoop2.7.tgz\n",
            "2018-11-13-events.json\t2018-11-26-events.json\n"
          ],
          "name": "stdout"
        }
      ]
    },
    {
      "cell_type": "code",
      "metadata": {
        "colab": {
          "base_uri": "https://localhost:8080/"
        },
        "id": "qj7i7Jd1krwd",
        "outputId": "41113dc2-ab2d-483d-ca34-df400c597e77"
      },
      "source": [
        "#since all log files are unzipped here, let's create a log data folder and move all log files to that new folder \n",
        "!mkdir log-data\n",
        "!mv *.json log-data\n",
        "!ls"
      ],
      "execution_count": null,
      "outputs": [
        {
          "output_type": "stream",
          "text": [
            "log-data      ngrok-stable-linux-amd64.zip  song-data.zip\n",
            "log-data.zip  sample_data\t\t    spark-3.0.2-bin-hadoop2.7\n",
            "ngrok\t      song_data\t\t\t    spark-3.0.2-bin-hadoop2.7.tgz\n"
          ],
          "name": "stdout"
        }
      ]
    },
    {
      "cell_type": "code",
      "metadata": {
        "id": "XHotcHOmk1-q"
      },
      "source": [
        "from pyspark.sql.types import StructType\n",
        "from pyspark.sql.types import StructField\n",
        "from pyspark.sql.types import DoubleType\n",
        "from pyspark.sql.types import StringType, IntegerType\n",
        "# get filepath to song data file\n",
        "song_data = 'song_data/*/*/*/*.json'\n",
        "    \n",
        "# define schema\n",
        "song_schema = StructType([StructField('artist_id', StringType(), False),\n",
        "        StructField('artist_latitude', StringType(), True),\n",
        "        StructField('artist_longitude', StringType(), True),\n",
        "        StructField('artist_location', StringType(), True),\n",
        "        StructField('artist_name', StringType(), False),\n",
        "        StructField('song_id', StringType(), False),\n",
        "        StructField('title', StringType(), False),\n",
        "        StructField('duration', DoubleType(), True),\n",
        "        StructField('year', IntegerType(), True)\n",
        "    ])\n",
        "\n",
        "    # read song data file\n",
        "song_df = spark.read.json(song_data, schema=song_schema)"
      ],
      "execution_count": null,
      "outputs": []
    },
    {
      "cell_type": "code",
      "metadata": {
        "colab": {
          "base_uri": "https://localhost:8080/"
        },
        "id": "0_8a-Xz5k4Kp",
        "outputId": "2672b3bc-6e81-4a53-bf97-a59b21465cd8"
      },
      "source": [
        "#check the number of songs in song_df data frame \n",
        "song_df.count()"
      ],
      "execution_count": null,
      "outputs": [
        {
          "output_type": "execute_result",
          "data": {
            "text/plain": [
              "71"
            ]
          },
          "metadata": {
            "tags": []
          },
          "execution_count": 22
        }
      ]
    },
    {
      "cell_type": "code",
      "metadata": {
        "colab": {
          "base_uri": "https://localhost:8080/"
        },
        "id": "UqZMEwzNk64P",
        "outputId": "09a8fc98-c365-451c-b73e-6df8c3600580"
      },
      "source": [
        "#print the schema of song_df \n",
        "song_df.printSchema()"
      ],
      "execution_count": null,
      "outputs": [
        {
          "output_type": "stream",
          "text": [
            "root\n",
            " |-- artist_id: string (nullable = true)\n",
            " |-- artist_latitude: string (nullable = true)\n",
            " |-- artist_longitude: string (nullable = true)\n",
            " |-- artist_location: string (nullable = true)\n",
            " |-- artist_name: string (nullable = true)\n",
            " |-- song_id: string (nullable = true)\n",
            " |-- title: string (nullable = true)\n",
            " |-- duration: double (nullable = true)\n",
            " |-- year: integer (nullable = true)\n",
            "\n"
          ],
          "name": "stdout"
        }
      ]
    },
    {
      "cell_type": "code",
      "metadata": {
        "id": "4-jWbLvyk8di"
      },
      "source": [
        "#create an ouput directory to store processed table data \n",
        "!mkdir output_data"
      ],
      "execution_count": null,
      "outputs": []
    },
    {
      "cell_type": "code",
      "metadata": {
        "id": "MgzfpJsBmSPm"
      },
      "source": [
        " #set the outpur directory \n",
        " output_data_dir = '/content/output_data/'\n",
        " # extract columns to create songs table\n",
        "song_fields = ['song_id','title','artist_id','year','duration']\n",
        "songs_table = song_df.select(song_fields).dropDuplicates(['song_id'])\n",
        "\n",
        "    # write songs table to parquet files partitioned by year and artist\n",
        "songs_out_path = str(output_data_dir  + 'songs.parquet')\n",
        "songs_table.write.parquet(songs_out_path, mode='overwrite', partitionBy=['year', 'artist_id'])\n",
        "\n",
        "    # extract columns to create artists table\n",
        "artist_fields = ['artist_id','artist_name','artist_location','artist_latitude','artist_longitude']\n",
        "artists_table = song_df.select(artist_fields) \\\n",
        "                    .withColumnRenamed('artist_name','artist') \\\n",
        "                    .withColumnRenamed('artist_location','location') \\\n",
        "                    .withColumnRenamed('artist_latitude','latitude') \\\n",
        "                    .withColumnRenamed('artist_longitude','longitude') \\\n",
        "                    .dropDuplicates(['artist_id'])\n",
        "\n",
        "    # write artists table to parquet files\n",
        "artists_out_path = str(output_data_dir + 'artists.parquet')\n",
        "artists_table.write.parquet(artists_out_path, mode='overwrite')"
      ],
      "execution_count": null,
      "outputs": []
    },
    {
      "cell_type": "code",
      "metadata": {
        "colab": {
          "base_uri": "https://localhost:8080/"
        },
        "id": "382Gxwy9mqJw",
        "outputId": "569d9456-3c63-426d-f547-2efb5074acc5"
      },
      "source": [
        "#check the file creation \n",
        "!ls /content/output_data/"
      ],
      "execution_count": null,
      "outputs": [
        {
          "output_type": "stream",
          "text": [
            "artists.parquet  songs.parquet\n"
          ],
          "name": "stdout"
        }
      ]
    },
    {
      "cell_type": "code",
      "metadata": {
        "colab": {
          "base_uri": "https://localhost:8080/"
        },
        "id": "TdjsRDNFwTrJ",
        "outputId": "d267a7b3-7510-4f73-ae18-16a109789c6f"
      },
      "source": [
        "#count the number of songs in songs_table\n",
        "songs_table.count()"
      ],
      "execution_count": null,
      "outputs": [
        {
          "output_type": "execute_result",
          "data": {
            "text/plain": [
              "71"
            ]
          },
          "metadata": {
            "tags": []
          },
          "execution_count": 26
        }
      ]
    },
    {
      "cell_type": "code",
      "metadata": {
        "colab": {
          "base_uri": "https://localhost:8080/"
        },
        "id": "75O1oxa4wZA-",
        "outputId": "165dc861-5022-416a-f6f7-b3c02b70e446"
      },
      "source": [
        "#count the number of artists in artist_table \n",
        "artists_table.count()"
      ],
      "execution_count": null,
      "outputs": [
        {
          "output_type": "execute_result",
          "data": {
            "text/plain": [
              "69"
            ]
          },
          "metadata": {
            "tags": []
          },
          "execution_count": 27
        }
      ]
    },
    {
      "cell_type": "code",
      "metadata": {
        "colab": {
          "base_uri": "https://localhost:8080/"
        },
        "id": "nAT9NPfMm8cv",
        "outputId": "4a3502f4-ec0a-4963-e6f6-b34e8516ca23"
      },
      "source": [
        "#!rm -rf /content/output_datasongs.parquet\n",
        "#list all tge files \n",
        "!ls"
      ],
      "execution_count": null,
      "outputs": [
        {
          "output_type": "stream",
          "text": [
            "log-data\t\t      output_data    spark-3.0.2-bin-hadoop2.7\n",
            "log-data.zip\t\t      sample_data    spark-3.0.2-bin-hadoop2.7.tgz\n",
            "ngrok\t\t\t      song_data\n",
            "ngrok-stable-linux-amd64.zip  song-data.zip\n"
          ],
          "name": "stdout"
        }
      ]
    },
    {
      "cell_type": "code",
      "metadata": {
        "id": "wsmy1n18ncA1"
      },
      "source": [
        "#define log data schema \n",
        "from pyspark.sql.types import LongType\n",
        "log_schema = StructType([\n",
        "        StructField('artist', StringType(), False),\n",
        "        StructField('auth', StringType(), True),\n",
        "        StructField('firstName', StringType(), True),\n",
        "        StructField('gender', StringType(), True),\n",
        "        StructField('itemInSession', LongType(), True),\n",
        "        StructField('lastName', StringType(), True),\n",
        "        StructField('length', DoubleType(), True),\n",
        "        StructField('level', StringType(), True),\n",
        "        StructField('location', StringType(), True),\n",
        "        StructField('method', StringType(), True),\n",
        "        StructField('page', StringType(), False),\n",
        "        StructField('registration', DoubleType(), True),\n",
        "        StructField('sessionId', LongType(), True),\n",
        "        StructField('song', StringType(), False),\n",
        "        StructField('status', LongType(), True),\n",
        "        StructField('ts', LongType(), False),\n",
        "        StructField('userAgent', StringType(), True),\n",
        "        StructField('userId', StringType(), False),\n",
        "    ])\n",
        "\n"
      ],
      "execution_count": null,
      "outputs": []
    },
    {
      "cell_type": "code",
      "metadata": {
        "id": "lVDY0dlAovcu"
      },
      "source": [
        "# read log data file\n",
        "log_df = spark.read.json('/content/log-data', schema=log_schema)"
      ],
      "execution_count": null,
      "outputs": []
    },
    {
      "cell_type": "code",
      "metadata": {
        "colab": {
          "base_uri": "https://localhost:8080/"
        },
        "id": "_4aa40zCpLeJ",
        "outputId": "846c2268-d93c-4998-917b-46fb0c37b0b5"
      },
      "source": [
        "#count the number of log files \n",
        "log_df.count()"
      ],
      "execution_count": null,
      "outputs": [
        {
          "output_type": "execute_result",
          "data": {
            "text/plain": [
              "8056"
            ]
          },
          "metadata": {
            "tags": []
          },
          "execution_count": 31
        }
      ]
    },
    {
      "cell_type": "code",
      "metadata": {
        "id": "Fx10SnHkFI6e"
      },
      "source": [
        "#print the schema of log_df \n",
        "log_df.printSchema()"
      ],
      "execution_count": null,
      "outputs": []
    },
    {
      "cell_type": "code",
      "metadata": {
        "id": "33_IYJENpUsN"
      },
      "source": [
        "# filter by actions for song plays\n",
        "df = log_df.filter(log_df.page == 'NextSong')\n",
        "\n",
        "    # extract columns for users table\n",
        "user_fields = ['userId', 'firstName', 'lastName', 'gender', 'level']\n",
        "users_table = df.select(user_fields).dropDuplicates(['userId'])\n",
        "\n",
        "    # write users table to parquet files\n",
        "users_out_path = str('/content/output_data/' + 'users.parquet')\n",
        "users_table.write.parquet(users_out_path, mode='overwrite')\n",
        "\n",
        "   \n"
      ],
      "execution_count": null,
      "outputs": []
    },
    {
      "cell_type": "code",
      "metadata": {
        "colab": {
          "base_uri": "https://localhost:8080/"
        },
        "id": "saug15qKwqUc",
        "outputId": "356dcbfa-6359-4f25-f638-b3715d4c96ad"
      },
      "source": [
        "#check the df count \n",
        "df.count()"
      ],
      "execution_count": null,
      "outputs": [
        {
          "output_type": "execute_result",
          "data": {
            "text/plain": [
              "6820"
            ]
          },
          "metadata": {
            "tags": []
          },
          "execution_count": 34
        }
      ]
    },
    {
      "cell_type": "code",
      "metadata": {
        "colab": {
          "base_uri": "https://localhost:8080/"
        },
        "id": "Metg6AZU-MGh",
        "outputId": "6c507e0c-33ee-41b2-e78c-77ac1b24b914"
      },
      "source": [
        "#check the number of users \n",
        "users_table.count()"
      ],
      "execution_count": null,
      "outputs": [
        {
          "output_type": "execute_result",
          "data": {
            "text/plain": [
              "96"
            ]
          },
          "metadata": {
            "tags": []
          },
          "execution_count": 82
        }
      ]
    },
    {
      "cell_type": "code",
      "metadata": {
        "id": "T2zA98FtFuvD"
      },
      "source": [
        "#another way to count \n",
        "from pyspark.sql.functions import countDistinct\n",
        "df2=df.select(countDistinct(\"userId\"))\n",
        "df2.show()"
      ],
      "execution_count": null,
      "outputs": []
    },
    {
      "cell_type": "code",
      "metadata": {
        "id": "2sl6lrB3prmQ"
      },
      "source": [
        "from pyspark.sql.functions import udf, col\n",
        "from pyspark.sql.functions import year, month, dayofmonth, hour, weekofyear, date_format\n",
        "from pyspark.sql import functions as F\n",
        "from pyspark.sql import types as T\n",
        "from pyspark.sql.types import TimestampType\n",
        "from datetime import datetime\n",
        " # create timestamp column from original ts column\n",
        "get_timestamp = udf(lambda x: datetime.fromtimestamp(x/1000), TimestampType())\n",
        "df = df.withColumn('timestamp', get_timestamp(df.ts))\n",
        "\n",
        "    # extract columns to create time table\n",
        "time_table = df.select(\n",
        "        col('timestamp').alias('start_time'),\n",
        "        hour(col('timestamp')).alias('hour'),\n",
        "        dayofmonth(col('timestamp')).alias('day'),\n",
        "        weekofyear(col('timestamp')).alias('week'),\n",
        "        month(col('timestamp')).alias('month'),\n",
        "        year(col('timestamp')).alias('year')\n",
        "    ).dropDuplicates(['start_time'])\n",
        "\n",
        "    # write time table to parquet files partitioned by year and month\n",
        "time_out_path = str('/content/output_data/' + 'time.parquet')\n",
        "time_table.write.parquet(time_out_path, mode='overwrite', partitionBy=['year', 'month'])\n",
        "\n",
        "   "
      ],
      "execution_count": null,
      "outputs": []
    },
    {
      "cell_type": "code",
      "metadata": {
        "colab": {
          "base_uri": "https://localhost:8080/"
        },
        "id": "5n3IuFH10k6X",
        "outputId": "e6fc6bee-df59-47ca-a3dd-afa3b13ea9c7"
      },
      "source": [
        "#check the first five rows of time_table \n",
        "time_table.head(5)"
      ],
      "execution_count": null,
      "outputs": [
        {
          "output_type": "execute_result",
          "data": {
            "text/plain": [
              "[Row(start_time=datetime.datetime(2018, 11, 21, 6, 18, 12, 796000), hour=6, day=21, week=47, month=11, year=2018),\n",
              " Row(start_time=datetime.datetime(2018, 11, 14, 15, 20, 15, 796000), hour=15, day=14, week=46, month=11, year=2018),\n",
              " Row(start_time=datetime.datetime(2018, 11, 5, 16, 31, 59, 796000), hour=16, day=5, week=45, month=11, year=2018),\n",
              " Row(start_time=datetime.datetime(2018, 11, 13, 18, 0, 26, 796000), hour=18, day=13, week=46, month=11, year=2018),\n",
              " Row(start_time=datetime.datetime(2018, 11, 30, 4, 32, 2, 796000), hour=4, day=30, week=48, month=11, year=2018)]"
            ]
          },
          "metadata": {
            "tags": []
          },
          "execution_count": 58
        }
      ]
    },
    {
      "cell_type": "code",
      "metadata": {
        "colab": {
          "base_uri": "https://localhost:8080/"
        },
        "id": "tTqc7GAxvSuN",
        "outputId": "3b39b7f6-75ea-44b1-c5ee-492180bf0105"
      },
      "source": [
        "#check the row counts of time table \n",
        "time_table.count()"
      ],
      "execution_count": null,
      "outputs": [
        {
          "output_type": "execute_result",
          "data": {
            "text/plain": [
              "6813"
            ]
          },
          "metadata": {
            "tags": []
          },
          "execution_count": 48
        }
      ]
    },
    {
      "cell_type": "code",
      "metadata": {
        "id": "scZ6EqfVymkh"
      },
      "source": [
        " # read in song data to use for songplays table\n",
        "song_df = spark.read.parquet( \"/content/output_data/songs.parquet\")\n",
        "    \n",
        "# extract columns from joined song and log datasets to create songplays table \n",
        "artists_table = spark.read.parquet(\"/content/output_data/artists.parquet\")\n",
        "songs = (\n",
        "        song_df\n",
        "        .join(artists_table, \"artist_id\", \"full\")\n",
        "        .select(\"song_id\", \"title\", \"artist_id\", \"artist\", \"duration\")\n",
        "    )\n",
        "\n",
        "\n",
        "    "
      ],
      "execution_count": null,
      "outputs": []
    },
    {
      "cell_type": "code",
      "metadata": {
        "colab": {
          "base_uri": "https://localhost:8080/"
        },
        "id": "huGbhvOSzfOY",
        "outputId": "cd7311f0-d575-4590-c039-04b9b59ca82a"
      },
      "source": [
        "#row counts of song table \n",
        "songs.count()"
      ],
      "execution_count": null,
      "outputs": [
        {
          "output_type": "execute_result",
          "data": {
            "text/plain": [
              "71"
            ]
          },
          "metadata": {
            "tags": []
          },
          "execution_count": 52
        }
      ]
    },
    {
      "cell_type": "code",
      "metadata": {
        "colab": {
          "base_uri": "https://localhost:8080/"
        },
        "id": "8SZk_D630FnY",
        "outputId": "c7fdf34e-8337-412d-bf21-a4bd622b76d3"
      },
      "source": [
        "#check the content of first five rows of song table \n",
        "songs.head(5)"
      ],
      "execution_count": null,
      "outputs": [
        {
          "output_type": "execute_result",
          "data": {
            "text/plain": [
              "[Row(song_id='SOZHPGD12A8C1394FE', title='Baby Come To Me', artist_id='AR9AWNF1187B9AB0B4', artist='Kenny G featuring Daryl Hall', duration=236.93016),\n",
              " Row(song_id='SONSKXP12A8C13A2C9', title='Native Soul', artist_id='AR0IAWL1187B9A96D0', artist='Danilo Perez', duration=197.19791),\n",
              " Row(song_id='SOGXHEG12AB018653E', title='It Makes No Difference Now', artist_id='AR0RCMP1187FB3F427', artist='Billie Jo Spears', duration=133.32853),\n",
              " Row(song_id='SOPEGZN12AB0181B3D', title='Get Your Head Stuck On Your Neck', artist_id='AREDL271187FB40F44', artist='Soul Mekanik', duration=45.66159),\n",
              " Row(song_id='SOBEBDG12A58A76D60', title='Kassie Jones', artist_id='ARI3BMM1187FB4255E', artist='Alice Stuart', duration=220.78649)]"
            ]
          },
          "metadata": {
            "tags": []
          },
          "execution_count": 53
        }
      ]
    },
    {
      "cell_type": "code",
      "metadata": {
        "id": "huvWR8XV0CL7"
      },
      "source": [
        " # extract columns from joined song and log datasets to create songplays table [check the left join]\n",
        "songplays_table = df.join(\n",
        "        songs,\n",
        "        [\n",
        "            df.song == songs.title,\n",
        "            df.artist == songs.artist,\n",
        "            df.length == songs.duration\n",
        "        ],\n",
        "        \"left\"\n",
        "    )"
      ],
      "execution_count": null,
      "outputs": []
    },
    {
      "cell_type": "code",
      "metadata": {
        "colab": {
          "base_uri": "https://localhost:8080/"
        },
        "id": "OlLm4AWu0Q41",
        "outputId": "38c4735c-be98-4e27-8cd5-679315bcd079"
      },
      "source": [
        "#row counts of songplays table \n",
        "songplays_table.count()"
      ],
      "execution_count": null,
      "outputs": [
        {
          "output_type": "execute_result",
          "data": {
            "text/plain": [
              "6820"
            ]
          },
          "metadata": {
            "tags": []
          },
          "execution_count": 56
        }
      ]
    },
    {
      "cell_type": "code",
      "metadata": {
        "colab": {
          "base_uri": "https://localhost:8080/"
        },
        "id": "Ixs-fK471ZxN",
        "outputId": "c3a3315d-14eb-43e7-fc02-ed83422b140e"
      },
      "source": [
        "#contents of songplay table \n",
        "songplays_table.head(5)"
      ],
      "execution_count": null,
      "outputs": [
        {
          "output_type": "execute_result",
          "data": {
            "text/plain": [
              "[Row(artist='The Prodigy', auth='Logged In', firstName='Ryan', gender='M', itemInSession=1, lastName='Smith', length=260.07465, level='free', location='San Jose-Sunnyvale-Santa Clara, CA', method='PUT', page='NextSong', registration=1541016707796.0, sessionId=583, song='The Big Gundown', status=200, ts=1542242481796, userAgent='\"Mozilla/5.0 (X11; Linux x86_64) AppleWebKit/537.36 (KHTML, like Gecko) Ubuntu Chromium/36.0.1985.125 Chrome/36.0.1985.125 Safari/537.36\"', userId='26', timestamp=datetime.datetime(2018, 11, 15, 0, 41, 21, 796000), song_id=None, title=None, artist_id=None, artist=None, duration=None),\n",
              " Row(artist='Sony Wonder', auth='Logged In', firstName='Samuel', gender='M', itemInSession=0, lastName='Gonzalez', length=218.06975, level='free', location='Houston-The Woodlands-Sugar Land, TX', method='PUT', page='NextSong', registration=1540492941796.0, sessionId=597, song='Blackbird', status=200, ts=1542253449796, userAgent='\"Mozilla/5.0 (Macintosh; Intel Mac OS X 10_9_4) AppleWebKit/537.77.4 (KHTML, like Gecko) Version/7.0.5 Safari/537.77.4\"', userId='61', timestamp=datetime.datetime(2018, 11, 15, 3, 44, 9, 796000), song_id=None, title=None, artist_id=None, artist=None, duration=None),\n",
              " Row(artist='Harmonia', auth='Logged In', firstName='Ryan', gender='M', itemInSession=0, lastName='Smith', length=655.77751, level='free', location='San Jose-Sunnyvale-Santa Clara, CA', method='PUT', page='NextSong', registration=1541016707796.0, sessionId=583, song='Sehr kosmisch', status=200, ts=1542241826796, userAgent='\"Mozilla/5.0 (X11; Linux x86_64) AppleWebKit/537.36 (KHTML, like Gecko) Ubuntu Chromium/36.0.1985.125 Chrome/36.0.1985.125 Safari/537.36\"', userId='26', timestamp=datetime.datetime(2018, 11, 15, 0, 30, 26, 796000), song_id=None, title=None, artist_id=None, artist=None, duration=None),\n",
              " Row(artist='Van Halen', auth='Logged In', firstName='Tegan', gender='F', itemInSession=2, lastName='Levine', length=289.38404, level='paid', location='Portland-South Portland, ME', method='PUT', page='NextSong', registration=1540794356796.0, sessionId=602, song='Best Of Both Worlds (Remastered Album Version)', status=200, ts=1542260935796, userAgent='\"Mozilla/5.0 (Macintosh; Intel Mac OS X 10_9_4) AppleWebKit/537.36 (KHTML, like Gecko) Chrome/36.0.1985.143 Safari/537.36\"', userId='80', timestamp=datetime.datetime(2018, 11, 15, 5, 48, 55, 796000), song_id=None, title=None, artist_id=None, artist=None, duration=None),\n",
              " Row(artist='Train', auth='Logged In', firstName='Ryan', gender='M', itemInSession=2, lastName='Smith', length=205.45261, level='free', location='San Jose-Sunnyvale-Santa Clara, CA', method='PUT', page='NextSong', registration=1541016707796.0, sessionId=583, song='Marry Me', status=200, ts=1542242741796, userAgent='\"Mozilla/5.0 (X11; Linux x86_64) AppleWebKit/537.36 (KHTML, like Gecko) Ubuntu Chromium/36.0.1985.125 Chrome/36.0.1985.125 Safari/537.36\"', userId='26', timestamp=datetime.datetime(2018, 11, 15, 0, 45, 41, 796000), song_id=None, title=None, artist_id=None, artist=None, duration=None)]"
            ]
          },
          "metadata": {
            "tags": []
          },
          "execution_count": 61
        }
      ]
    },
    {
      "cell_type": "code",
      "metadata": {
        "id": "xkzY3zON0bcV"
      },
      "source": [
        "# create songplays table to with unique songplay_id column \n",
        "from pyspark.sql.functions import to_timestamp, monotonically_increasing_id\n",
        "songplays_table = (\n",
        "        songplays_table\n",
        "        .join(time_table, [songplays_table.timestamp == time_table.start_time], \"left\")\n",
        "        .select(\n",
        "            \"start_time\",\n",
        "            col(\"userId\").alias(\"user_id\"),\n",
        "            \"level\",\n",
        "            \"song_id\",\n",
        "            \"artist_id\",\n",
        "            col(\"sessionId\").alias(\"session_id\"),\n",
        "            \"location\",\n",
        "            col(\"userAgent\").alias(\"user_agent\"),\n",
        "            \"year\",\n",
        "            \"month\"\n",
        "        )\n",
        "        .withColumn(\"songplay_id\", monotonically_increasing_id())\n",
        "    )"
      ],
      "execution_count": null,
      "outputs": []
    },
    {
      "cell_type": "code",
      "metadata": {
        "colab": {
          "base_uri": "https://localhost:8080/"
        },
        "id": "dec8tLVc15Bo",
        "outputId": "8d0f02d8-847d-41b8-a879-cffd0a77577f"
      },
      "source": [
        "#row count of songplay table \n",
        "songplays_table.count()"
      ],
      "execution_count": null,
      "outputs": [
        {
          "output_type": "execute_result",
          "data": {
            "text/plain": [
              "6820"
            ]
          },
          "metadata": {
            "tags": []
          },
          "execution_count": 65
        }
      ]
    },
    {
      "cell_type": "code",
      "metadata": {
        "id": "zwiPTJLI2A-_"
      },
      "source": [
        "    # write songplays table to parquet files partitioned by year and month\n",
        "songplays_out_path = str('/content/output_data/' + 'songplays.parquet')\n",
        "songplays_table.write.parquet(songplays_out_path, mode='overwrite', partitionBy=['year', 'month'])"
      ],
      "execution_count": null,
      "outputs": []
    },
    {
      "cell_type": "code",
      "metadata": {
        "colab": {
          "base_uri": "https://localhost:8080/"
        },
        "id": "zmU8qf9Cq2bf",
        "outputId": "7fb1689b-5078-4f80-b5df-b0c8bc372fa7"
      },
      "source": [
        "# check the five tables created in the output folder \n",
        "!ls /content/output_data/"
      ],
      "execution_count": null,
      "outputs": [
        {
          "output_type": "stream",
          "text": [
            "artists.parquet  songplays.parquet  songs.parquet  time.parquet  users.parquet\n"
          ],
          "name": "stdout"
        }
      ]
    },
    {
      "cell_type": "code",
      "metadata": {
        "id": "Q2jsAk4tq5Qc"
      },
      "source": [
        "import os\n",
        "from pyspark.sql import SparkSession"
      ],
      "execution_count": null,
      "outputs": []
    },
    {
      "cell_type": "code",
      "metadata": {
        "id": "mxotU6llrHOz"
      },
      "source": [
        "#read all the tables \n",
        "song_df = spark.read.parquet(\"/content/output_data/songs.parquet\")\n",
        "song_df.createOrReplaceTempView('songs')\n",
        "\n",
        "users_df = spark.read.parquet(\"/content/output_data/users.parquet\")\n",
        "users_df.createOrReplaceTempView('users')\n",
        "\n",
        "artists_df = spark.read.parquet(\"/content/output_data/artists.parquet\")\n",
        "artists_df.createOrReplaceTempView('artists')\n",
        "\n",
        "songplays_df = spark.read.parquet(\"/content/output_data/songplays.parquet\")\n",
        "songplays_df.createOrReplaceTempView('songplays')\n",
        "\n",
        "time_df = spark.read.parquet(\"/content/output_data/time.parquet\")\n",
        "time_df.createOrReplaceTempView('time_table')"
      ],
      "execution_count": null,
      "outputs": []
    },
    {
      "cell_type": "code",
      "metadata": {
        "colab": {
          "base_uri": "https://localhost:8080/"
        },
        "id": "iYybjXketW4e",
        "outputId": "ea95b97c-b8c9-430f-d100-700691a7f6e2"
      },
      "source": [
        "#query one \n",
        "query_df = spark.sql(\"\"\"\n",
        "SELECT t.hour as Hour, COUNT(*) as PlayCount\n",
        "FROM songplays sp\n",
        "JOIN time_table t ON sp.start_time=t.start_time\n",
        "GROUP BY t.hour\n",
        "ORDER BY t.hour\n",
        "\"\"\").show()"
      ],
      "execution_count": null,
      "outputs": [
        {
          "output_type": "stream",
          "text": [
            "+----+---------+\n",
            "|Hour|PlayCount|\n",
            "+----+---------+\n",
            "|   0|      155|\n",
            "|   1|      154|\n",
            "|   2|      117|\n",
            "|   3|      109|\n",
            "|   4|      136|\n",
            "|   5|      162|\n",
            "|   6|      183|\n",
            "|   7|      179|\n",
            "|   8|      207|\n",
            "|   9|      270|\n",
            "|  10|      312|\n",
            "|  11|      336|\n",
            "|  12|      308|\n",
            "|  13|      324|\n",
            "|  14|      432|\n",
            "|  15|      477|\n",
            "|  16|      542|\n",
            "|  17|      494|\n",
            "|  18|      498|\n",
            "|  19|      367|\n",
            "+----+---------+\n",
            "only showing top 20 rows\n",
            "\n"
          ],
          "name": "stdout"
        }
      ]
    },
    {
      "cell_type": "code",
      "metadata": {
        "colab": {
          "base_uri": "https://localhost:8080/"
        },
        "id": "7_cVnA3MtgdX",
        "outputId": "b7477ddb-7454-42f2-aede-10377dcd3e98"
      },
      "source": [
        "#query two\n",
        "query_df = spark.sql(\"\"\"SELECT songplays.location, songplays.level, songs.title,songs.duration, time_table.hour \\\n",
        "\tFrom songplays Left join songs on songplays.song_id = songs.song_id\\\n",
        "  LEFT JOIN time_table ON songplays.start_time= time_table.start_time \n",
        "  Order BY time_table.hour\"\"\").show()"
      ],
      "execution_count": null,
      "outputs": [
        {
          "output_type": "stream",
          "text": [
            "+--------------------+-----+-----+--------+----+\n",
            "|            location|level|title|duration|hour|\n",
            "+--------------------+-----+-----+--------+----+\n",
            "|Lansing-East Lans...| paid| null|    null|   0|\n",
            "|New York-Newark-J...| paid| null|    null|   0|\n",
            "|    Marinette, WI-MI| paid| null|    null|   0|\n",
            "|Lake Havasu City-...| paid| null|    null|   0|\n",
            "|        Richmond, VA| free| null|    null|   0|\n",
            "|Waterloo-Cedar Fa...| paid| null|    null|   0|\n",
            "|Chicago-Napervill...| paid| null|    null|   0|\n",
            "|    Marinette, WI-MI| paid| null|    null|   0|\n",
            "|Lansing-East Lans...| paid| null|    null|   0|\n",
            "|San Jose-Sunnyval...| free| null|    null|   0|\n",
            "|    Marinette, WI-MI| paid| null|    null|   0|\n",
            "|    Marinette, WI-MI| paid| null|    null|   0|\n",
            "|        Richmond, VA| free| null|    null|   0|\n",
            "|    Marinette, WI-MI| paid| null|    null|   0|\n",
            "|    Marinette, WI-MI| paid| null|    null|   0|\n",
            "|Lansing-East Lans...| paid| null|    null|   0|\n",
            "|Portland-South Po...| paid| null|    null|   0|\n",
            "|    Marinette, WI-MI| paid| null|    null|   0|\n",
            "|San Francisco-Oak...| paid| null|    null|   0|\n",
            "|San Jose-Sunnyval...| free| null|    null|   0|\n",
            "+--------------------+-----+-----+--------+----+\n",
            "only showing top 20 rows\n",
            "\n"
          ],
          "name": "stdout"
        }
      ]
    },
    {
      "cell_type": "code",
      "metadata": {
        "id": "bX17Alsotli-"
      },
      "source": [
        ""
      ],
      "execution_count": null,
      "outputs": []
    }
  ]
}