{
 "cells": [
  {
   "cell_type": "code",
   "execution_count": 1,
   "metadata": {
    "editable": true
   },
   "outputs": [],
   "source": [
    "### Import all the necessary packages\n",
    "from pyspark.sql import SparkSession\n",
    "from pyspark.sql import functions as F\n",
    "from pyspark.sql import types as T\n",
    "from datetime import datetime\n",
    "from pyspark.sql.functions import col, max as max_\n",
    "from pyspark.sql.functions import *\n",
    "from time import time\n",
    "import os\n",
    "import configparser\n",
    "import pandas as pd\n",
    "import numpy as np\n",
    "# Visualization\n",
    "import matplotlib.pyplot as plt\n",
    "import seaborn as sns"
   ]
  },
  {
   "cell_type": "code",
   "execution_count": 2,
   "metadata": {
    "editable": true
   },
   "outputs": [],
   "source": [
    "### Read config file\n",
    "config = configparser.ConfigParser()\n",
    "config.read('dl.cfg')\n",
    "# Retrieve value using config['KEYWORD']['SUBKEYWORD']\n",
    "os.environ[\"AWS_ACCESS_KEY_ID\"]= config['AWS']['AWS_ACCESS_KEY_ID']\n",
    "os.environ[\"AWS_SECRET_ACCESS_KEY\"]= config['AWS']['AWS_SECRET_ACCESS_KEY']"
   ]
  },
  {
   "cell_type": "code",
   "execution_count": 3,
   "metadata": {
    "editable": true
   },
   "outputs": [],
   "source": [
    "#create a spark session \n",
    "spark = SparkSession.builder\\\n",
    "                     .config(\"spark.jars.packages\",\"org.apache.hadoop:hadoop-aws:2.7.0\")\\\n",
    "                     .getOrCreate()\n",
    "spark.conf.set(\"mapreduce.fileoutputcommitter.algorithm.version\", \"2\")\n",
    "### The package `org.apache.hadoop:hadoop-aws:2.7.0` allows you to connect aws S3."
   ]
  },
  {
   "cell_type": "code",
   "execution_count": 4,
   "metadata": {
    "editable": true
   },
   "outputs": [],
   "source": [
    "#input_path = 'output'\n",
    "# location of all the tables\n",
    "input_path ='s3a://apache-spark/output'\n",
    "tables = ['songs', 'artists', 'users', 'time', 'songplays']"
   ]
  },
  {
   "cell_type": "code",
   "execution_count": 5,
   "metadata": {
    "editable": true
   },
   "outputs": [],
   "source": [
    "#read all tables from S3 file storage \n",
    "song_df = spark.read.parquet(\"s3a://apache-spark/output/songs\")\n",
    "song_df.createOrReplaceTempView('songs')\n",
    "\n",
    "users_df = spark.read.parquet(\"s3a://apache-spark/output/users\")\n",
    "users_df.createOrReplaceTempView('users')\n",
    "\n",
    "artists_df = spark.read.parquet(\"s3a://apache-spark/output/artists\")\n",
    "artists_df.createOrReplaceTempView('artists')\n",
    "\n",
    "songplays_df = spark.read.parquet(\"s3a://apache-spark/output/songplays\")\n",
    "songplays_df.createOrReplaceTempView('songplays')\n",
    "\n",
    "time_df = spark.read.parquet(\"s3a://apache-spark/output/time\")\n",
    "time_df.createOrReplaceTempView('time_table')"
   ]
  },
  {
   "cell_type": "code",
   "execution_count": 6,
   "metadata": {
    "editable": true
   },
   "outputs": [],
   "source": [
    "#Set higher spark.sql.broadcastTimeout to increase timeout of Spark Session \n",
    "#This happens because Spark tries to do Broadcast Hash Join and one of the DataFrames is very large, so sending it consumes much time.\n",
    "#go to this link for futher reference: https://stackoverflow.com/questions/41123846/why-does-join-fail-with-java-util-concurrent-timeoutexception-futures-timed-ou\n",
    "spark = SparkSession.builder\\\n",
    "                     .config(\"spark.sql.broadcastTimeout\",\"36000\")\\\n",
    "                     .getOrCreate()"
   ]
  },
  {
   "cell_type": "code",
   "execution_count": 29,
   "metadata": {
    "editable": true
   },
   "outputs": [
    {
     "name": "stdout",
     "output_type": "stream",
     "text": [
      "+----+---------+\n",
      "|Hour|PlayCount|\n",
      "+----+---------+\n",
      "|   0|      155|\n",
      "|   1|      154|\n",
      "|   2|      117|\n",
      "|   3|      109|\n",
      "|   4|      136|\n",
      "|   5|      162|\n",
      "|   6|      183|\n",
      "|   7|      179|\n",
      "|   8|      207|\n",
      "|   9|      270|\n",
      "|  10|      312|\n",
      "|  11|      336|\n",
      "|  12|      308|\n",
      "|  13|      324|\n",
      "|  14|      432|\n",
      "|  15|      477|\n",
      "|  16|      542|\n",
      "|  17|      494|\n",
      "|  18|      498|\n",
      "|  19|      367|\n",
      "+----+---------+\n",
      "only showing top 20 rows\n",
      "\n"
     ]
    }
   ],
   "source": [
    "#query one\n",
    "query_df = spark.sql(\"\"\"\n",
    "SELECT t.hour as Hour, COUNT(*) as PlayCount\n",
    "FROM songplays sp\n",
    "JOIN time_table t ON sp.start_time=t.start_time\n",
    "GROUP BY t.hour\n",
    "ORDER BY t.hour\n",
    "\"\"\").show()"
   ]
  },
  {
   "cell_type": "code",
   "execution_count": 26,
   "metadata": {
    "editable": true
   },
   "outputs": [
    {
     "name": "stdout",
     "output_type": "stream",
     "text": [
      "+--------+\n",
      "|count(1)|\n",
      "+--------+\n",
      "|      96|\n",
      "+--------+\n",
      "\n"
     ]
    }
   ],
   "source": [
    "#query two\n",
    "query_df = spark.sql(\"\"\"\n",
    "SELECT COUNT(*)\n",
    "FROM users\n",
    "\"\"\").show()"
   ]
  },
  {
   "cell_type": "code",
   "execution_count": 7,
   "metadata": {
    "editable": true
   },
   "outputs": [
    {
     "name": "stdout",
     "output_type": "stream",
     "text": [
      "+--------------------+-----+-----+--------+----+\n",
      "|            location|level|title|duration|hour|\n",
      "+--------------------+-----+-----+--------+----+\n",
      "|San Jose-Sunnyval...| free| null|    null|   0|\n",
      "|New York-Newark-J...| paid| null|    null|   0|\n",
      "|San Francisco-Oak...| paid| null|    null|   0|\n",
      "|Waterloo-Cedar Fa...| paid| null|    null|   0|\n",
      "|Lansing-East Lans...| paid| null|    null|   0|\n",
      "|New York-Newark-J...| paid| null|    null|   0|\n",
      "|    Marinette, WI-MI| paid| null|    null|   0|\n",
      "|    Marinette, WI-MI| paid| null|    null|   0|\n",
      "|        Richmond, VA| free| null|    null|   0|\n",
      "|Lansing-East Lans...| paid| null|    null|   0|\n",
      "|Chicago-Napervill...| paid| null|    null|   0|\n",
      "|Portland-South Po...| paid| null|    null|   0|\n",
      "|Lansing-East Lans...| paid| null|    null|   0|\n",
      "|Lake Havasu City-...| paid| null|    null|   0|\n",
      "|    Marinette, WI-MI| paid| null|    null|   0|\n",
      "|    Marinette, WI-MI| paid| null|    null|   0|\n",
      "|    Marinette, WI-MI| paid| null|    null|   0|\n",
      "|Lansing-East Lans...| paid| null|    null|   0|\n",
      "|Portland-South Po...| paid| null|    null|   0|\n",
      "|    Marinette, WI-MI| paid| null|    null|   0|\n",
      "+--------------------+-----+-----+--------+----+\n",
      "only showing top 20 rows\n",
      "\n"
     ]
    }
   ],
   "source": [
    "#query three \n",
    "query_df = spark.sql(\"\"\"SELECT songplays.location, songplays.level, songs.title,songs.duration, time_table.hour \\\n",
    "\tFrom songplays Left join songs on songplays.song_id = songs.song_id\\\n",
    "  LEFT JOIN time_table ON songplays.start_time= time_table.start_time \n",
    "  Order BY time_table.hour\"\"\").show()"
   ]
  },
  {
   "cell_type": "code",
   "execution_count": 12,
   "metadata": {
    "editable": true
   },
   "outputs": [
    {
     "name": "stdout",
     "output_type": "stream",
     "text": [
      "+-----+-----+\n",
      "|level|Count|\n",
      "+-----+-----+\n",
      "| paid| 5591|\n",
      "| free| 1229|\n",
      "+-----+-----+\n",
      "\n"
     ]
    }
   ],
   "source": [
    "#query four \n",
    "#the number of songplays from different level group \n",
    "result_df = spark.sql(\"\"\"SELECT level, COUNT(*) Count \n",
    "FROM songplays \n",
    "GROUP BY level \n",
    "ORDER BY Count DESC LIMIT 10\"\"\").show()"
   ]
  },
  {
   "cell_type": "code",
   "execution_count": 21,
   "metadata": {
    "editable": true
   },
   "outputs": [],
   "source": [
    "#query five \n",
    "#top ten users in the dataframe \n",
    "query = \"\"\"\n",
    "SELECT songplays.user_id, users.gender, users.level, songplays.location, COUNT(*) total \n",
    "FROM songplays \n",
    "JOIN users  \n",
    "ON songplays.user_id = users.userId\n",
    "GROUP BY songplays.user_id, users.gender, users.level, songplays.location\n",
    "ORDER BY total DESC \n",
    "LIMIT 10\n",
    "\"\"\"\n",
    "top_users_df = spark.sql(query).toPandas()"
   ]
  },
  {
   "cell_type": "code",
   "execution_count": 22,
   "metadata": {
    "editable": true
   },
   "outputs": [
    {
     "data": {
      "text/html": [
       "<style  type=\"text/css\" >\n",
       "    #T_5968ebb0_b9a0_11eb_9945_0242ac120002row0_col4 {\n",
       "            background-color:  #00441b;\n",
       "        }    #T_5968ebb0_b9a0_11eb_9945_0242ac120002row1_col4 {\n",
       "            background-color:  #005522;\n",
       "        }    #T_5968ebb0_b9a0_11eb_9945_0242ac120002row2_col4 {\n",
       "            background-color:  #2f974e;\n",
       "        }    #T_5968ebb0_b9a0_11eb_9945_0242ac120002row3_col4 {\n",
       "            background-color:  #79c67a;\n",
       "        }    #T_5968ebb0_b9a0_11eb_9945_0242ac120002row4_col4 {\n",
       "            background-color:  #acdea6;\n",
       "        }    #T_5968ebb0_b9a0_11eb_9945_0242ac120002row5_col4 {\n",
       "            background-color:  #ceecc8;\n",
       "        }    #T_5968ebb0_b9a0_11eb_9945_0242ac120002row6_col4 {\n",
       "            background-color:  #dbf1d6;\n",
       "        }    #T_5968ebb0_b9a0_11eb_9945_0242ac120002row7_col4 {\n",
       "            background-color:  #eaf7e6;\n",
       "        }    #T_5968ebb0_b9a0_11eb_9945_0242ac120002row8_col4 {\n",
       "            background-color:  #f0f9ed;\n",
       "        }    #T_5968ebb0_b9a0_11eb_9945_0242ac120002row9_col4 {\n",
       "            background-color:  #f7fcf5;\n",
       "        }</style>  \n",
       "<table id=\"T_5968ebb0_b9a0_11eb_9945_0242ac120002\" > \n",
       "<thead>    <tr> \n",
       "        <th class=\"blank level0\" ></th> \n",
       "        <th class=\"col_heading level0 col0\" >user_id</th> \n",
       "        <th class=\"col_heading level0 col1\" >gender</th> \n",
       "        <th class=\"col_heading level0 col2\" >level</th> \n",
       "        <th class=\"col_heading level0 col3\" >location</th> \n",
       "        <th class=\"col_heading level0 col4\" >total</th> \n",
       "    </tr></thead> \n",
       "<tbody>    <tr> \n",
       "        <th id=\"T_5968ebb0_b9a0_11eb_9945_0242ac120002level0_row0\" class=\"row_heading level0 row0\" >0</th> \n",
       "        <td id=\"T_5968ebb0_b9a0_11eb_9945_0242ac120002row0_col0\" class=\"data row0 col0\" >49</td> \n",
       "        <td id=\"T_5968ebb0_b9a0_11eb_9945_0242ac120002row0_col1\" class=\"data row0 col1\" >F</td> \n",
       "        <td id=\"T_5968ebb0_b9a0_11eb_9945_0242ac120002row0_col2\" class=\"data row0 col2\" >free</td> \n",
       "        <td id=\"T_5968ebb0_b9a0_11eb_9945_0242ac120002row0_col3\" class=\"data row0 col3\" >San Francisco-Oakland-Hayward, CA</td> \n",
       "        <td id=\"T_5968ebb0_b9a0_11eb_9945_0242ac120002row0_col4\" class=\"data row0 col4\" >689</td> \n",
       "    </tr>    <tr> \n",
       "        <th id=\"T_5968ebb0_b9a0_11eb_9945_0242ac120002level0_row1\" class=\"row_heading level0 row1\" >1</th> \n",
       "        <td id=\"T_5968ebb0_b9a0_11eb_9945_0242ac120002row1_col0\" class=\"data row1 col0\" >80</td> \n",
       "        <td id=\"T_5968ebb0_b9a0_11eb_9945_0242ac120002row1_col1\" class=\"data row1 col1\" >F</td> \n",
       "        <td id=\"T_5968ebb0_b9a0_11eb_9945_0242ac120002row1_col2\" class=\"data row1 col2\" >paid</td> \n",
       "        <td id=\"T_5968ebb0_b9a0_11eb_9945_0242ac120002row1_col3\" class=\"data row1 col3\" >Portland-South Portland, ME</td> \n",
       "        <td id=\"T_5968ebb0_b9a0_11eb_9945_0242ac120002row1_col4\" class=\"data row1 col4\" >665</td> \n",
       "    </tr>    <tr> \n",
       "        <th id=\"T_5968ebb0_b9a0_11eb_9945_0242ac120002level0_row2\" class=\"row_heading level0 row2\" >2</th> \n",
       "        <td id=\"T_5968ebb0_b9a0_11eb_9945_0242ac120002row2_col0\" class=\"data row2 col0\" >97</td> \n",
       "        <td id=\"T_5968ebb0_b9a0_11eb_9945_0242ac120002row2_col1\" class=\"data row2 col1\" >F</td> \n",
       "        <td id=\"T_5968ebb0_b9a0_11eb_9945_0242ac120002row2_col2\" class=\"data row2 col2\" >paid</td> \n",
       "        <td id=\"T_5968ebb0_b9a0_11eb_9945_0242ac120002row2_col3\" class=\"data row2 col3\" >Lansing-East Lansing, MI</td> \n",
       "        <td id=\"T_5968ebb0_b9a0_11eb_9945_0242ac120002row2_col4\" class=\"data row2 col4\" >557</td> \n",
       "    </tr>    <tr> \n",
       "        <th id=\"T_5968ebb0_b9a0_11eb_9945_0242ac120002level0_row3\" class=\"row_heading level0 row3\" >3</th> \n",
       "        <td id=\"T_5968ebb0_b9a0_11eb_9945_0242ac120002row3_col0\" class=\"data row3 col0\" >15</td> \n",
       "        <td id=\"T_5968ebb0_b9a0_11eb_9945_0242ac120002row3_col1\" class=\"data row3 col1\" >F</td> \n",
       "        <td id=\"T_5968ebb0_b9a0_11eb_9945_0242ac120002row3_col2\" class=\"data row3 col2\" >paid</td> \n",
       "        <td id=\"T_5968ebb0_b9a0_11eb_9945_0242ac120002row3_col3\" class=\"data row3 col3\" >Chicago-Naperville-Elgin, IL-IN-WI</td> \n",
       "        <td id=\"T_5968ebb0_b9a0_11eb_9945_0242ac120002row3_col4\" class=\"data row3 col4\" >463</td> \n",
       "    </tr>    <tr> \n",
       "        <th id=\"T_5968ebb0_b9a0_11eb_9945_0242ac120002level0_row4\" class=\"row_heading level0 row4\" >4</th> \n",
       "        <td id=\"T_5968ebb0_b9a0_11eb_9945_0242ac120002row4_col0\" class=\"data row4 col0\" >44</td> \n",
       "        <td id=\"T_5968ebb0_b9a0_11eb_9945_0242ac120002row4_col1\" class=\"data row4 col1\" >F</td> \n",
       "        <td id=\"T_5968ebb0_b9a0_11eb_9945_0242ac120002row4_col2\" class=\"data row4 col2\" >paid</td> \n",
       "        <td id=\"T_5968ebb0_b9a0_11eb_9945_0242ac120002row4_col3\" class=\"data row4 col3\" >Waterloo-Cedar Falls, IA</td> \n",
       "        <td id=\"T_5968ebb0_b9a0_11eb_9945_0242ac120002row4_col4\" class=\"data row4 col4\" >397</td> \n",
       "    </tr>    <tr> \n",
       "        <th id=\"T_5968ebb0_b9a0_11eb_9945_0242ac120002level0_row5\" class=\"row_heading level0 row5\" >5</th> \n",
       "        <td id=\"T_5968ebb0_b9a0_11eb_9945_0242ac120002row5_col0\" class=\"data row5 col0\" >29</td> \n",
       "        <td id=\"T_5968ebb0_b9a0_11eb_9945_0242ac120002row5_col1\" class=\"data row5 col1\" >F</td> \n",
       "        <td id=\"T_5968ebb0_b9a0_11eb_9945_0242ac120002row5_col2\" class=\"data row5 col2\" >free</td> \n",
       "        <td id=\"T_5968ebb0_b9a0_11eb_9945_0242ac120002row5_col3\" class=\"data row5 col3\" >Atlanta-Sandy Springs-Roswell, GA</td> \n",
       "        <td id=\"T_5968ebb0_b9a0_11eb_9945_0242ac120002row5_col4\" class=\"data row5 col4\" >346</td> \n",
       "    </tr>    <tr> \n",
       "        <th id=\"T_5968ebb0_b9a0_11eb_9945_0242ac120002level0_row6\" class=\"row_heading level0 row6\" >6</th> \n",
       "        <td id=\"T_5968ebb0_b9a0_11eb_9945_0242ac120002row6_col0\" class=\"data row6 col0\" >24</td> \n",
       "        <td id=\"T_5968ebb0_b9a0_11eb_9945_0242ac120002row6_col1\" class=\"data row6 col1\" >F</td> \n",
       "        <td id=\"T_5968ebb0_b9a0_11eb_9945_0242ac120002row6_col2\" class=\"data row6 col2\" >paid</td> \n",
       "        <td id=\"T_5968ebb0_b9a0_11eb_9945_0242ac120002row6_col3\" class=\"data row6 col3\" >Lake Havasu City-Kingman, AZ</td> \n",
       "        <td id=\"T_5968ebb0_b9a0_11eb_9945_0242ac120002row6_col4\" class=\"data row6 col4\" >321</td> \n",
       "    </tr>    <tr> \n",
       "        <th id=\"T_5968ebb0_b9a0_11eb_9945_0242ac120002level0_row7\" class=\"row_heading level0 row7\" >7</th> \n",
       "        <td id=\"T_5968ebb0_b9a0_11eb_9945_0242ac120002row7_col0\" class=\"data row7 col0\" >73</td> \n",
       "        <td id=\"T_5968ebb0_b9a0_11eb_9945_0242ac120002row7_col1\" class=\"data row7 col1\" >M</td> \n",
       "        <td id=\"T_5968ebb0_b9a0_11eb_9945_0242ac120002row7_col2\" class=\"data row7 col2\" >paid</td> \n",
       "        <td id=\"T_5968ebb0_b9a0_11eb_9945_0242ac120002row7_col3\" class=\"data row7 col3\" >Tampa-St. Petersburg-Clearwater, FL</td> \n",
       "        <td id=\"T_5968ebb0_b9a0_11eb_9945_0242ac120002row7_col4\" class=\"data row7 col4\" >289</td> \n",
       "    </tr>    <tr> \n",
       "        <th id=\"T_5968ebb0_b9a0_11eb_9945_0242ac120002level0_row8\" class=\"row_heading level0 row8\" >8</th> \n",
       "        <td id=\"T_5968ebb0_b9a0_11eb_9945_0242ac120002row8_col0\" class=\"data row8 col0\" >88</td> \n",
       "        <td id=\"T_5968ebb0_b9a0_11eb_9945_0242ac120002row8_col1\" class=\"data row8 col1\" >M</td> \n",
       "        <td id=\"T_5968ebb0_b9a0_11eb_9945_0242ac120002row8_col2\" class=\"data row8 col2\" >free</td> \n",
       "        <td id=\"T_5968ebb0_b9a0_11eb_9945_0242ac120002row8_col3\" class=\"data row8 col3\" >Sacramento--Roseville--Arden-Arcade, CA</td> \n",
       "        <td id=\"T_5968ebb0_b9a0_11eb_9945_0242ac120002row8_col4\" class=\"data row8 col4\" >270</td> \n",
       "    </tr>    <tr> \n",
       "        <th id=\"T_5968ebb0_b9a0_11eb_9945_0242ac120002level0_row9\" class=\"row_heading level0 row9\" >9</th> \n",
       "        <td id=\"T_5968ebb0_b9a0_11eb_9945_0242ac120002row9_col0\" class=\"data row9 col0\" >36</td> \n",
       "        <td id=\"T_5968ebb0_b9a0_11eb_9945_0242ac120002row9_col1\" class=\"data row9 col1\" >M</td> \n",
       "        <td id=\"T_5968ebb0_b9a0_11eb_9945_0242ac120002row9_col2\" class=\"data row9 col2\" >paid</td> \n",
       "        <td id=\"T_5968ebb0_b9a0_11eb_9945_0242ac120002row9_col3\" class=\"data row9 col3\" >Janesville-Beloit, WI</td> \n",
       "        <td id=\"T_5968ebb0_b9a0_11eb_9945_0242ac120002row9_col4\" class=\"data row9 col4\" >248</td> \n",
       "    </tr></tbody> \n",
       "</table> "
      ],
      "text/plain": [
       "<pandas.io.formats.style.Styler at 0x7fd314c87e48>"
      ]
     },
     "execution_count": 22,
     "metadata": {},
     "output_type": "execute_result"
    }
   ],
   "source": [
    "# display the result as pandas dataframe \n",
    "top_users_df.style.background_gradient(cmap = 'Greens', subset = ['total'])"
   ]
  }
 ],
 "metadata": {
  "kernelspec": {
   "display_name": "Python 3",
   "language": "python",
   "name": "python3"
  },
  "language_info": {
   "codemirror_mode": {
    "name": "ipython",
    "version": 3
   },
   "file_extension": ".py",
   "mimetype": "text/x-python",
   "name": "python",
   "nbconvert_exporter": "python",
   "pygments_lexer": "ipython3",
   "version": "3.6.3"
  }
 },
 "nbformat": 4,
 "nbformat_minor": 4
}
